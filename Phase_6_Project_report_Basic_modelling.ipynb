{
  "cells": [
    {
      "cell_type": "markdown",
      "metadata": {
        "id": "6d6fDomiZ7-8"
      },
      "source": [
        "**Problem Statement**: This notebook provides the details about Machine learning predictive model for the problem “Bank loan default risk”."
      ]
    },
    {
      "cell_type": "markdown",
      "metadata": {
        "id": "8OMWaDEGaiIW"
      },
      "source": [
        "# **1. importing required libraries and reading the data**\n"
      ]
    },
    {
      "cell_type": "code",
      "execution_count": 1,
      "metadata": {
        "colab": {
          "base_uri": "https://localhost:8080/"
        },
        "id": "oJ-ugzKVZv2B",
        "outputId": "9eae04d5-2298-4447-a172-e377a459cadf"
      },
      "outputs": [
        {
          "output_type": "stream",
          "name": "stdout",
          "text": [
            "Mounted at /gdrive\n",
            "/gdrive\n"
          ]
        }
      ],
      "source": [
        "# Code to mount google drive   (loading the data from your google drive)\n",
        "from google.colab import drive\n",
        "drive.mount('/gdrive')\n",
        "%cd /gdrive"
      ]
    },
    {
      "cell_type": "code",
      "execution_count": 2,
      "metadata": {
        "id": "EwW30Iada3lU"
      },
      "outputs": [],
      "source": [
        "# Importing libraries\n",
        "import numpy as np\n",
        "import pandas as pd\n",
        "import matplotlib.pyplot as plt\n",
        "import seaborn as sns\n",
        "from sklearn.feature_selection import VarianceThreshold      # for Feature selection\n",
        "from sklearn.feature_selection import mutual_info_classif    # Feature selection - mutual information\n",
        "from sklearn.model_selection import train_test_split\n",
        "from imblearn.combine import SMOTETomek\n",
        "from sklearn.preprocessing import LabelEncoder\n",
        "from sklearn.preprocessing import OneHotEncoder\n",
        "from collections import Counter\n",
        "from sklearn.ensemble import IsolationForest\n",
        "\n"
      ]
    },
    {
      "cell_type": "markdown",
      "source": [
        "# **Reading data from pickle file**"
      ],
      "metadata": {
        "id": "M5WKPrxa_Nze"
      }
    },
    {
      "cell_type": "code",
      "source": [
        "import pickle\n",
        "import joblib \n",
        "import pandas as pd\n",
        "\n",
        "# joblib.dump(FinalXGboostModel, r'/gdrive/MyDrive/PGD_project/FinalXGboostModel.pkl') \n",
        "# model = joblib.load(r'/gdrive/MyDrive/PGD_project/FinalXGboostModel.pkl') \n",
        "# model.predict(X_test)\n",
        "\n",
        "DataForML_t=pd.read_pickle(r'/gdrive/MyDrive/PGD_project/DataForML_t.pkl')"
      ],
      "metadata": {
        "id": "LaaXeUiz_MkF"
      },
      "execution_count": 9,
      "outputs": []
    },
    {
      "cell_type": "code",
      "source": [
        "DataForML_t.head()"
      ],
      "metadata": {
        "colab": {
          "base_uri": "https://localhost:8080/",
          "height": 0
        },
        "id": "ULPd6x798zvq",
        "outputId": "22935459-11cc-43b0-e876-e16c936ca1c4"
      },
      "execution_count": 10,
      "outputs": [
        {
          "output_type": "execute_result",
          "data": {
            "text/html": [
              "\n",
              "  <div id=\"df-dc25a80e-fb74-416c-ac34-bf1c024c2860\">\n",
              "    <div class=\"colab-df-container\">\n",
              "      <div>\n",
              "<style scoped>\n",
              "    .dataframe tbody tr th:only-of-type {\n",
              "        vertical-align: middle;\n",
              "    }\n",
              "\n",
              "    .dataframe tbody tr th {\n",
              "        vertical-align: top;\n",
              "    }\n",
              "\n",
              "    .dataframe thead th {\n",
              "        text-align: right;\n",
              "    }\n",
              "</style>\n",
              "<table border=\"1\" class=\"dataframe\">\n",
              "  <thead>\n",
              "    <tr style=\"text-align: right;\">\n",
              "      <th></th>\n",
              "      <th>TARGET</th>\n",
              "      <th>AGE</th>\n",
              "      <th>AMT_CREDIT</th>\n",
              "      <th>AMT_INCOME_TOTAL</th>\n",
              "      <th>CNT_FAM_MEMBERS</th>\n",
              "      <th>YEARS_EMPLOYED</th>\n",
              "      <th>AMT_ANNUITY</th>\n",
              "      <th>FLAG_EMP_PHONE</th>\n",
              "      <th>FLAG_WORK_PHONE</th>\n",
              "      <th>FLAG_PHONE</th>\n",
              "      <th>FLAG_DOCUMENT_3</th>\n",
              "      <th>FLAG_DOCUMENT_6</th>\n",
              "      <th>REGION_RATING_CLIENT</th>\n",
              "      <th>REGION_RATING_CLIENT_W_CITY</th>\n",
              "      <th>REG_CITY_NOT_LIVE_CITY</th>\n",
              "      <th>REG_CITY_NOT_WORK_CITY</th>\n",
              "      <th>EXT_SOURCE_2</th>\n",
              "      <th>AMT_REQ_CREDIT_BUREAU_YEAR</th>\n",
              "      <th>DAYS_REGISTRATION</th>\n",
              "      <th>DAYS_ID_PUBLISH</th>\n",
              "      <th>OBS_30_CNT_SOCIAL_CIRCLE</th>\n",
              "      <th>DEF_30_CNT_SOCIAL_CIRCLE</th>\n",
              "      <th>CODE_GENDER</th>\n",
              "      <th>FLAG_OWN_CAR</th>\n",
              "      <th>NAME_INCOME_TYPE</th>\n",
              "      <th>NAME_FAMILY_STATUS</th>\n",
              "      <th>NAME_HOUSING_TYPE</th>\n",
              "      <th>NAME_EDUCATION_TYPE</th>\n",
              "      <th>NAME_CONTRACT_TYPE</th>\n",
              "      <th>FLAG_OWN_REALTY</th>\n",
              "      <th>NAME_TYPE_SUITE</th>\n",
              "      <th>ORGANIZATION_TYPE</th>\n",
              "    </tr>\n",
              "  </thead>\n",
              "  <tbody>\n",
              "    <tr>\n",
              "      <th>0</th>\n",
              "      <td>1</td>\n",
              "      <td>25.0</td>\n",
              "      <td>406597.5</td>\n",
              "      <td>202500.0</td>\n",
              "      <td>1.0</td>\n",
              "      <td>1.0</td>\n",
              "      <td>24700.5</td>\n",
              "      <td>1</td>\n",
              "      <td>0</td>\n",
              "      <td>1</td>\n",
              "      <td>1</td>\n",
              "      <td>0</td>\n",
              "      <td>2</td>\n",
              "      <td>2</td>\n",
              "      <td>0</td>\n",
              "      <td>0</td>\n",
              "      <td>0.262949</td>\n",
              "      <td>1</td>\n",
              "      <td>3648.0</td>\n",
              "      <td>2120</td>\n",
              "      <td>2</td>\n",
              "      <td>2.0</td>\n",
              "      <td>Male</td>\n",
              "      <td>N</td>\n",
              "      <td>Working</td>\n",
              "      <td>Single / not married</td>\n",
              "      <td>House / apartment</td>\n",
              "      <td>Secondary / secondary special</td>\n",
              "      <td>Cash loans</td>\n",
              "      <td>Y</td>\n",
              "      <td>Unaccompanied</td>\n",
              "      <td>Business Entity Type 3</td>\n",
              "    </tr>\n",
              "    <tr>\n",
              "      <th>1</th>\n",
              "      <td>0</td>\n",
              "      <td>45.0</td>\n",
              "      <td>1293502.5</td>\n",
              "      <td>270000.0</td>\n",
              "      <td>2.0</td>\n",
              "      <td>3.0</td>\n",
              "      <td>35698.5</td>\n",
              "      <td>1</td>\n",
              "      <td>0</td>\n",
              "      <td>1</td>\n",
              "      <td>1</td>\n",
              "      <td>0</td>\n",
              "      <td>1</td>\n",
              "      <td>1</td>\n",
              "      <td>0</td>\n",
              "      <td>0</td>\n",
              "      <td>0.622246</td>\n",
              "      <td>0</td>\n",
              "      <td>1186.0</td>\n",
              "      <td>291</td>\n",
              "      <td>1</td>\n",
              "      <td>0.0</td>\n",
              "      <td>Female</td>\n",
              "      <td>N</td>\n",
              "      <td>State servant</td>\n",
              "      <td>Married</td>\n",
              "      <td>House / apartment</td>\n",
              "      <td>Higher education</td>\n",
              "      <td>Cash loans</td>\n",
              "      <td>N</td>\n",
              "      <td>Family</td>\n",
              "      <td>School</td>\n",
              "    </tr>\n",
              "    <tr>\n",
              "      <th>2</th>\n",
              "      <td>0</td>\n",
              "      <td>52.0</td>\n",
              "      <td>135000.0</td>\n",
              "      <td>67500.0</td>\n",
              "      <td>1.0</td>\n",
              "      <td>0.0</td>\n",
              "      <td>6750.0</td>\n",
              "      <td>1</td>\n",
              "      <td>1</td>\n",
              "      <td>1</td>\n",
              "      <td>0</td>\n",
              "      <td>0</td>\n",
              "      <td>2</td>\n",
              "      <td>2</td>\n",
              "      <td>0</td>\n",
              "      <td>0</td>\n",
              "      <td>0.555912</td>\n",
              "      <td>0</td>\n",
              "      <td>4260.0</td>\n",
              "      <td>2531</td>\n",
              "      <td>0</td>\n",
              "      <td>0.0</td>\n",
              "      <td>Male</td>\n",
              "      <td>Y</td>\n",
              "      <td>Working</td>\n",
              "      <td>Single / not married</td>\n",
              "      <td>House / apartment</td>\n",
              "      <td>Secondary / secondary special</td>\n",
              "      <td>Revolving loans</td>\n",
              "      <td>Y</td>\n",
              "      <td>Unaccompanied</td>\n",
              "      <td>Government</td>\n",
              "    </tr>\n",
              "    <tr>\n",
              "      <th>3</th>\n",
              "      <td>0</td>\n",
              "      <td>52.0</td>\n",
              "      <td>312682.5</td>\n",
              "      <td>135000.0</td>\n",
              "      <td>2.0</td>\n",
              "      <td>8.0</td>\n",
              "      <td>29686.5</td>\n",
              "      <td>1</td>\n",
              "      <td>0</td>\n",
              "      <td>0</td>\n",
              "      <td>1</td>\n",
              "      <td>0</td>\n",
              "      <td>2</td>\n",
              "      <td>2</td>\n",
              "      <td>0</td>\n",
              "      <td>0</td>\n",
              "      <td>0.650442</td>\n",
              "      <td>0</td>\n",
              "      <td>9833.0</td>\n",
              "      <td>2437</td>\n",
              "      <td>2</td>\n",
              "      <td>0.0</td>\n",
              "      <td>Female</td>\n",
              "      <td>N</td>\n",
              "      <td>Working</td>\n",
              "      <td>Civil marriage</td>\n",
              "      <td>House / apartment</td>\n",
              "      <td>Secondary / secondary special</td>\n",
              "      <td>Cash loans</td>\n",
              "      <td>Y</td>\n",
              "      <td>Unaccompanied</td>\n",
              "      <td>Business Entity Type 3</td>\n",
              "    </tr>\n",
              "    <tr>\n",
              "      <th>4</th>\n",
              "      <td>0</td>\n",
              "      <td>54.0</td>\n",
              "      <td>513000.0</td>\n",
              "      <td>121500.0</td>\n",
              "      <td>1.0</td>\n",
              "      <td>8.0</td>\n",
              "      <td>21865.5</td>\n",
              "      <td>1</td>\n",
              "      <td>0</td>\n",
              "      <td>0</td>\n",
              "      <td>0</td>\n",
              "      <td>0</td>\n",
              "      <td>2</td>\n",
              "      <td>2</td>\n",
              "      <td>0</td>\n",
              "      <td>1</td>\n",
              "      <td>0.322738</td>\n",
              "      <td>0</td>\n",
              "      <td>4311.0</td>\n",
              "      <td>3458</td>\n",
              "      <td>0</td>\n",
              "      <td>0.0</td>\n",
              "      <td>Male</td>\n",
              "      <td>N</td>\n",
              "      <td>Working</td>\n",
              "      <td>Single / not married</td>\n",
              "      <td>House / apartment</td>\n",
              "      <td>Secondary / secondary special</td>\n",
              "      <td>Cash loans</td>\n",
              "      <td>Y</td>\n",
              "      <td>Unaccompanied</td>\n",
              "      <td>Religion</td>\n",
              "    </tr>\n",
              "  </tbody>\n",
              "</table>\n",
              "</div>\n",
              "      <button class=\"colab-df-convert\" onclick=\"convertToInteractive('df-dc25a80e-fb74-416c-ac34-bf1c024c2860')\"\n",
              "              title=\"Convert this dataframe to an interactive table.\"\n",
              "              style=\"display:none;\">\n",
              "        \n",
              "  <svg xmlns=\"http://www.w3.org/2000/svg\" height=\"24px\"viewBox=\"0 0 24 24\"\n",
              "       width=\"24px\">\n",
              "    <path d=\"M0 0h24v24H0V0z\" fill=\"none\"/>\n",
              "    <path d=\"M18.56 5.44l.94 2.06.94-2.06 2.06-.94-2.06-.94-.94-2.06-.94 2.06-2.06.94zm-11 1L8.5 8.5l.94-2.06 2.06-.94-2.06-.94L8.5 2.5l-.94 2.06-2.06.94zm10 10l.94 2.06.94-2.06 2.06-.94-2.06-.94-.94-2.06-.94 2.06-2.06.94z\"/><path d=\"M17.41 7.96l-1.37-1.37c-.4-.4-.92-.59-1.43-.59-.52 0-1.04.2-1.43.59L10.3 9.45l-7.72 7.72c-.78.78-.78 2.05 0 2.83L4 21.41c.39.39.9.59 1.41.59.51 0 1.02-.2 1.41-.59l7.78-7.78 2.81-2.81c.8-.78.8-2.07 0-2.86zM5.41 20L4 18.59l7.72-7.72 1.47 1.35L5.41 20z\"/>\n",
              "  </svg>\n",
              "      </button>\n",
              "      \n",
              "  <style>\n",
              "    .colab-df-container {\n",
              "      display:flex;\n",
              "      flex-wrap:wrap;\n",
              "      gap: 12px;\n",
              "    }\n",
              "\n",
              "    .colab-df-convert {\n",
              "      background-color: #E8F0FE;\n",
              "      border: none;\n",
              "      border-radius: 50%;\n",
              "      cursor: pointer;\n",
              "      display: none;\n",
              "      fill: #1967D2;\n",
              "      height: 32px;\n",
              "      padding: 0 0 0 0;\n",
              "      width: 32px;\n",
              "    }\n",
              "\n",
              "    .colab-df-convert:hover {\n",
              "      background-color: #E2EBFA;\n",
              "      box-shadow: 0px 1px 2px rgba(60, 64, 67, 0.3), 0px 1px 3px 1px rgba(60, 64, 67, 0.15);\n",
              "      fill: #174EA6;\n",
              "    }\n",
              "\n",
              "    [theme=dark] .colab-df-convert {\n",
              "      background-color: #3B4455;\n",
              "      fill: #D2E3FC;\n",
              "    }\n",
              "\n",
              "    [theme=dark] .colab-df-convert:hover {\n",
              "      background-color: #434B5C;\n",
              "      box-shadow: 0px 1px 3px 1px rgba(0, 0, 0, 0.15);\n",
              "      filter: drop-shadow(0px 1px 2px rgba(0, 0, 0, 0.3));\n",
              "      fill: #FFFFFF;\n",
              "    }\n",
              "  </style>\n",
              "\n",
              "      <script>\n",
              "        const buttonEl =\n",
              "          document.querySelector('#df-dc25a80e-fb74-416c-ac34-bf1c024c2860 button.colab-df-convert');\n",
              "        buttonEl.style.display =\n",
              "          google.colab.kernel.accessAllowed ? 'block' : 'none';\n",
              "\n",
              "        async function convertToInteractive(key) {\n",
              "          const element = document.querySelector('#df-dc25a80e-fb74-416c-ac34-bf1c024c2860');\n",
              "          const dataTable =\n",
              "            await google.colab.kernel.invokeFunction('convertToInteractive',\n",
              "                                                     [key], {});\n",
              "          if (!dataTable) return;\n",
              "\n",
              "          const docLinkHtml = 'Like what you see? Visit the ' +\n",
              "            '<a target=\"_blank\" href=https://colab.research.google.com/notebooks/data_table.ipynb>data table notebook</a>'\n",
              "            + ' to learn more about interactive tables.';\n",
              "          element.innerHTML = '';\n",
              "          dataTable['output_type'] = 'display_data';\n",
              "          await google.colab.output.renderOutput(dataTable, element);\n",
              "          const docLink = document.createElement('div');\n",
              "          docLink.innerHTML = docLinkHtml;\n",
              "          element.appendChild(docLink);\n",
              "        }\n",
              "      </script>\n",
              "    </div>\n",
              "  </div>\n",
              "  "
            ],
            "text/plain": [
              "   TARGET   AGE  ...  NAME_TYPE_SUITE       ORGANIZATION_TYPE\n",
              "0       1  25.0  ...    Unaccompanied  Business Entity Type 3\n",
              "1       0  45.0  ...           Family                  School\n",
              "2       0  52.0  ...    Unaccompanied              Government\n",
              "3       0  52.0  ...    Unaccompanied  Business Entity Type 3\n",
              "4       0  54.0  ...    Unaccompanied                Religion\n",
              "\n",
              "[5 rows x 32 columns]"
            ]
          },
          "metadata": {},
          "execution_count": 10
        }
      ]
    },
    {
      "cell_type": "code",
      "source": [
        "DataForML_t['CODE_GENDER'].replace({'Male':1, 'Female':0}, inplace=True)\n",
        "DataForML_t['FLAG_OWN_CAR'].replace({'Y':1, 'N':0}, inplace=True)\n",
        "DataForML_t['NAME_CONTRACT_TYPE'].replace({'Revolving loans':1, 'Cash loans':0}, inplace=True)\n",
        "DataForML_t['FLAG_OWN_REALTY'].replace({'Y':1, 'N':0}, inplace=True)"
      ],
      "metadata": {
        "id": "C5dCE_tdSjys"
      },
      "execution_count": 11,
      "outputs": []
    },
    {
      "cell_type": "code",
      "source": [
        "# Treating all the nominal variables at once using dummy variables\n",
        "DataForML_Numeric=pd.get_dummies(DataForML_t)\n",
        "DataForML_Numeric.head()"
      ],
      "metadata": {
        "colab": {
          "base_uri": "https://localhost:8080/",
          "height": 0
        },
        "id": "-3DDPGNPWkJJ",
        "outputId": "2eff7413-d189-4249-8652-dfb921dd4466"
      },
      "execution_count": 12,
      "outputs": [
        {
          "output_type": "execute_result",
          "data": {
            "text/html": [
              "\n",
              "  <div id=\"df-216fb9ea-7726-466a-bb94-97ea7c6f93c3\">\n",
              "    <div class=\"colab-df-container\">\n",
              "      <div>\n",
              "<style scoped>\n",
              "    .dataframe tbody tr th:only-of-type {\n",
              "        vertical-align: middle;\n",
              "    }\n",
              "\n",
              "    .dataframe tbody tr th {\n",
              "        vertical-align: top;\n",
              "    }\n",
              "\n",
              "    .dataframe thead th {\n",
              "        text-align: right;\n",
              "    }\n",
              "</style>\n",
              "<table border=\"1\" class=\"dataframe\">\n",
              "  <thead>\n",
              "    <tr style=\"text-align: right;\">\n",
              "      <th></th>\n",
              "      <th>TARGET</th>\n",
              "      <th>AGE</th>\n",
              "      <th>AMT_CREDIT</th>\n",
              "      <th>AMT_INCOME_TOTAL</th>\n",
              "      <th>CNT_FAM_MEMBERS</th>\n",
              "      <th>YEARS_EMPLOYED</th>\n",
              "      <th>AMT_ANNUITY</th>\n",
              "      <th>FLAG_EMP_PHONE</th>\n",
              "      <th>FLAG_WORK_PHONE</th>\n",
              "      <th>FLAG_PHONE</th>\n",
              "      <th>FLAG_DOCUMENT_3</th>\n",
              "      <th>FLAG_DOCUMENT_6</th>\n",
              "      <th>REGION_RATING_CLIENT</th>\n",
              "      <th>REGION_RATING_CLIENT_W_CITY</th>\n",
              "      <th>REG_CITY_NOT_LIVE_CITY</th>\n",
              "      <th>REG_CITY_NOT_WORK_CITY</th>\n",
              "      <th>EXT_SOURCE_2</th>\n",
              "      <th>AMT_REQ_CREDIT_BUREAU_YEAR</th>\n",
              "      <th>DAYS_REGISTRATION</th>\n",
              "      <th>DAYS_ID_PUBLISH</th>\n",
              "      <th>OBS_30_CNT_SOCIAL_CIRCLE</th>\n",
              "      <th>DEF_30_CNT_SOCIAL_CIRCLE</th>\n",
              "      <th>CODE_GENDER</th>\n",
              "      <th>FLAG_OWN_CAR</th>\n",
              "      <th>NAME_CONTRACT_TYPE</th>\n",
              "      <th>FLAG_OWN_REALTY</th>\n",
              "      <th>NAME_INCOME_TYPE_Businessman</th>\n",
              "      <th>NAME_INCOME_TYPE_Commercial associate</th>\n",
              "      <th>NAME_INCOME_TYPE_Maternity leave</th>\n",
              "      <th>NAME_INCOME_TYPE_Pensioner</th>\n",
              "      <th>NAME_INCOME_TYPE_State servant</th>\n",
              "      <th>NAME_INCOME_TYPE_Student</th>\n",
              "      <th>NAME_INCOME_TYPE_Unemployed</th>\n",
              "      <th>NAME_INCOME_TYPE_Working</th>\n",
              "      <th>NAME_FAMILY_STATUS_Civil marriage</th>\n",
              "      <th>NAME_FAMILY_STATUS_Married</th>\n",
              "      <th>NAME_FAMILY_STATUS_Separated</th>\n",
              "      <th>NAME_FAMILY_STATUS_Single / not married</th>\n",
              "      <th>NAME_FAMILY_STATUS_Unknown</th>\n",
              "      <th>NAME_FAMILY_STATUS_Widow</th>\n",
              "      <th>...</th>\n",
              "      <th>ORGANIZATION_TYPE_Industry: type 13</th>\n",
              "      <th>ORGANIZATION_TYPE_Industry: type 2</th>\n",
              "      <th>ORGANIZATION_TYPE_Industry: type 3</th>\n",
              "      <th>ORGANIZATION_TYPE_Industry: type 4</th>\n",
              "      <th>ORGANIZATION_TYPE_Industry: type 5</th>\n",
              "      <th>ORGANIZATION_TYPE_Industry: type 6</th>\n",
              "      <th>ORGANIZATION_TYPE_Industry: type 7</th>\n",
              "      <th>ORGANIZATION_TYPE_Industry: type 8</th>\n",
              "      <th>ORGANIZATION_TYPE_Industry: type 9</th>\n",
              "      <th>ORGANIZATION_TYPE_Insurance</th>\n",
              "      <th>ORGANIZATION_TYPE_Kindergarten</th>\n",
              "      <th>ORGANIZATION_TYPE_Legal Services</th>\n",
              "      <th>ORGANIZATION_TYPE_Medicine</th>\n",
              "      <th>ORGANIZATION_TYPE_Military</th>\n",
              "      <th>ORGANIZATION_TYPE_Mobile</th>\n",
              "      <th>ORGANIZATION_TYPE_Other</th>\n",
              "      <th>ORGANIZATION_TYPE_Police</th>\n",
              "      <th>ORGANIZATION_TYPE_Postal</th>\n",
              "      <th>ORGANIZATION_TYPE_Realtor</th>\n",
              "      <th>ORGANIZATION_TYPE_Religion</th>\n",
              "      <th>ORGANIZATION_TYPE_Restaurant</th>\n",
              "      <th>ORGANIZATION_TYPE_School</th>\n",
              "      <th>ORGANIZATION_TYPE_Security</th>\n",
              "      <th>ORGANIZATION_TYPE_Security Ministries</th>\n",
              "      <th>ORGANIZATION_TYPE_Self-employed</th>\n",
              "      <th>ORGANIZATION_TYPE_Services</th>\n",
              "      <th>ORGANIZATION_TYPE_Telecom</th>\n",
              "      <th>ORGANIZATION_TYPE_Trade: type 1</th>\n",
              "      <th>ORGANIZATION_TYPE_Trade: type 2</th>\n",
              "      <th>ORGANIZATION_TYPE_Trade: type 3</th>\n",
              "      <th>ORGANIZATION_TYPE_Trade: type 4</th>\n",
              "      <th>ORGANIZATION_TYPE_Trade: type 5</th>\n",
              "      <th>ORGANIZATION_TYPE_Trade: type 6</th>\n",
              "      <th>ORGANIZATION_TYPE_Trade: type 7</th>\n",
              "      <th>ORGANIZATION_TYPE_Transport: type 1</th>\n",
              "      <th>ORGANIZATION_TYPE_Transport: type 2</th>\n",
              "      <th>ORGANIZATION_TYPE_Transport: type 3</th>\n",
              "      <th>ORGANIZATION_TYPE_Transport: type 4</th>\n",
              "      <th>ORGANIZATION_TYPE_University</th>\n",
              "      <th>ORGANIZATION_TYPE_XNA</th>\n",
              "    </tr>\n",
              "  </thead>\n",
              "  <tbody>\n",
              "    <tr>\n",
              "      <th>0</th>\n",
              "      <td>1</td>\n",
              "      <td>25.0</td>\n",
              "      <td>406597.5</td>\n",
              "      <td>202500.0</td>\n",
              "      <td>1.0</td>\n",
              "      <td>1.0</td>\n",
              "      <td>24700.5</td>\n",
              "      <td>1</td>\n",
              "      <td>0</td>\n",
              "      <td>1</td>\n",
              "      <td>1</td>\n",
              "      <td>0</td>\n",
              "      <td>2</td>\n",
              "      <td>2</td>\n",
              "      <td>0</td>\n",
              "      <td>0</td>\n",
              "      <td>0.262949</td>\n",
              "      <td>1</td>\n",
              "      <td>3648.0</td>\n",
              "      <td>2120</td>\n",
              "      <td>2</td>\n",
              "      <td>2.0</td>\n",
              "      <td>1</td>\n",
              "      <td>0</td>\n",
              "      <td>0</td>\n",
              "      <td>1</td>\n",
              "      <td>0</td>\n",
              "      <td>0</td>\n",
              "      <td>0</td>\n",
              "      <td>0</td>\n",
              "      <td>0</td>\n",
              "      <td>0</td>\n",
              "      <td>0</td>\n",
              "      <td>1</td>\n",
              "      <td>0</td>\n",
              "      <td>0</td>\n",
              "      <td>0</td>\n",
              "      <td>1</td>\n",
              "      <td>0</td>\n",
              "      <td>0</td>\n",
              "      <td>...</td>\n",
              "      <td>0</td>\n",
              "      <td>0</td>\n",
              "      <td>0</td>\n",
              "      <td>0</td>\n",
              "      <td>0</td>\n",
              "      <td>0</td>\n",
              "      <td>0</td>\n",
              "      <td>0</td>\n",
              "      <td>0</td>\n",
              "      <td>0</td>\n",
              "      <td>0</td>\n",
              "      <td>0</td>\n",
              "      <td>0</td>\n",
              "      <td>0</td>\n",
              "      <td>0</td>\n",
              "      <td>0</td>\n",
              "      <td>0</td>\n",
              "      <td>0</td>\n",
              "      <td>0</td>\n",
              "      <td>0</td>\n",
              "      <td>0</td>\n",
              "      <td>0</td>\n",
              "      <td>0</td>\n",
              "      <td>0</td>\n",
              "      <td>0</td>\n",
              "      <td>0</td>\n",
              "      <td>0</td>\n",
              "      <td>0</td>\n",
              "      <td>0</td>\n",
              "      <td>0</td>\n",
              "      <td>0</td>\n",
              "      <td>0</td>\n",
              "      <td>0</td>\n",
              "      <td>0</td>\n",
              "      <td>0</td>\n",
              "      <td>0</td>\n",
              "      <td>0</td>\n",
              "      <td>0</td>\n",
              "      <td>0</td>\n",
              "      <td>0</td>\n",
              "    </tr>\n",
              "    <tr>\n",
              "      <th>1</th>\n",
              "      <td>0</td>\n",
              "      <td>45.0</td>\n",
              "      <td>1293502.5</td>\n",
              "      <td>270000.0</td>\n",
              "      <td>2.0</td>\n",
              "      <td>3.0</td>\n",
              "      <td>35698.5</td>\n",
              "      <td>1</td>\n",
              "      <td>0</td>\n",
              "      <td>1</td>\n",
              "      <td>1</td>\n",
              "      <td>0</td>\n",
              "      <td>1</td>\n",
              "      <td>1</td>\n",
              "      <td>0</td>\n",
              "      <td>0</td>\n",
              "      <td>0.622246</td>\n",
              "      <td>0</td>\n",
              "      <td>1186.0</td>\n",
              "      <td>291</td>\n",
              "      <td>1</td>\n",
              "      <td>0.0</td>\n",
              "      <td>0</td>\n",
              "      <td>0</td>\n",
              "      <td>0</td>\n",
              "      <td>0</td>\n",
              "      <td>0</td>\n",
              "      <td>0</td>\n",
              "      <td>0</td>\n",
              "      <td>0</td>\n",
              "      <td>1</td>\n",
              "      <td>0</td>\n",
              "      <td>0</td>\n",
              "      <td>0</td>\n",
              "      <td>0</td>\n",
              "      <td>1</td>\n",
              "      <td>0</td>\n",
              "      <td>0</td>\n",
              "      <td>0</td>\n",
              "      <td>0</td>\n",
              "      <td>...</td>\n",
              "      <td>0</td>\n",
              "      <td>0</td>\n",
              "      <td>0</td>\n",
              "      <td>0</td>\n",
              "      <td>0</td>\n",
              "      <td>0</td>\n",
              "      <td>0</td>\n",
              "      <td>0</td>\n",
              "      <td>0</td>\n",
              "      <td>0</td>\n",
              "      <td>0</td>\n",
              "      <td>0</td>\n",
              "      <td>0</td>\n",
              "      <td>0</td>\n",
              "      <td>0</td>\n",
              "      <td>0</td>\n",
              "      <td>0</td>\n",
              "      <td>0</td>\n",
              "      <td>0</td>\n",
              "      <td>0</td>\n",
              "      <td>0</td>\n",
              "      <td>1</td>\n",
              "      <td>0</td>\n",
              "      <td>0</td>\n",
              "      <td>0</td>\n",
              "      <td>0</td>\n",
              "      <td>0</td>\n",
              "      <td>0</td>\n",
              "      <td>0</td>\n",
              "      <td>0</td>\n",
              "      <td>0</td>\n",
              "      <td>0</td>\n",
              "      <td>0</td>\n",
              "      <td>0</td>\n",
              "      <td>0</td>\n",
              "      <td>0</td>\n",
              "      <td>0</td>\n",
              "      <td>0</td>\n",
              "      <td>0</td>\n",
              "      <td>0</td>\n",
              "    </tr>\n",
              "    <tr>\n",
              "      <th>2</th>\n",
              "      <td>0</td>\n",
              "      <td>52.0</td>\n",
              "      <td>135000.0</td>\n",
              "      <td>67500.0</td>\n",
              "      <td>1.0</td>\n",
              "      <td>0.0</td>\n",
              "      <td>6750.0</td>\n",
              "      <td>1</td>\n",
              "      <td>1</td>\n",
              "      <td>1</td>\n",
              "      <td>0</td>\n",
              "      <td>0</td>\n",
              "      <td>2</td>\n",
              "      <td>2</td>\n",
              "      <td>0</td>\n",
              "      <td>0</td>\n",
              "      <td>0.555912</td>\n",
              "      <td>0</td>\n",
              "      <td>4260.0</td>\n",
              "      <td>2531</td>\n",
              "      <td>0</td>\n",
              "      <td>0.0</td>\n",
              "      <td>1</td>\n",
              "      <td>1</td>\n",
              "      <td>1</td>\n",
              "      <td>1</td>\n",
              "      <td>0</td>\n",
              "      <td>0</td>\n",
              "      <td>0</td>\n",
              "      <td>0</td>\n",
              "      <td>0</td>\n",
              "      <td>0</td>\n",
              "      <td>0</td>\n",
              "      <td>1</td>\n",
              "      <td>0</td>\n",
              "      <td>0</td>\n",
              "      <td>0</td>\n",
              "      <td>1</td>\n",
              "      <td>0</td>\n",
              "      <td>0</td>\n",
              "      <td>...</td>\n",
              "      <td>0</td>\n",
              "      <td>0</td>\n",
              "      <td>0</td>\n",
              "      <td>0</td>\n",
              "      <td>0</td>\n",
              "      <td>0</td>\n",
              "      <td>0</td>\n",
              "      <td>0</td>\n",
              "      <td>0</td>\n",
              "      <td>0</td>\n",
              "      <td>0</td>\n",
              "      <td>0</td>\n",
              "      <td>0</td>\n",
              "      <td>0</td>\n",
              "      <td>0</td>\n",
              "      <td>0</td>\n",
              "      <td>0</td>\n",
              "      <td>0</td>\n",
              "      <td>0</td>\n",
              "      <td>0</td>\n",
              "      <td>0</td>\n",
              "      <td>0</td>\n",
              "      <td>0</td>\n",
              "      <td>0</td>\n",
              "      <td>0</td>\n",
              "      <td>0</td>\n",
              "      <td>0</td>\n",
              "      <td>0</td>\n",
              "      <td>0</td>\n",
              "      <td>0</td>\n",
              "      <td>0</td>\n",
              "      <td>0</td>\n",
              "      <td>0</td>\n",
              "      <td>0</td>\n",
              "      <td>0</td>\n",
              "      <td>0</td>\n",
              "      <td>0</td>\n",
              "      <td>0</td>\n",
              "      <td>0</td>\n",
              "      <td>0</td>\n",
              "    </tr>\n",
              "    <tr>\n",
              "      <th>3</th>\n",
              "      <td>0</td>\n",
              "      <td>52.0</td>\n",
              "      <td>312682.5</td>\n",
              "      <td>135000.0</td>\n",
              "      <td>2.0</td>\n",
              "      <td>8.0</td>\n",
              "      <td>29686.5</td>\n",
              "      <td>1</td>\n",
              "      <td>0</td>\n",
              "      <td>0</td>\n",
              "      <td>1</td>\n",
              "      <td>0</td>\n",
              "      <td>2</td>\n",
              "      <td>2</td>\n",
              "      <td>0</td>\n",
              "      <td>0</td>\n",
              "      <td>0.650442</td>\n",
              "      <td>0</td>\n",
              "      <td>9833.0</td>\n",
              "      <td>2437</td>\n",
              "      <td>2</td>\n",
              "      <td>0.0</td>\n",
              "      <td>0</td>\n",
              "      <td>0</td>\n",
              "      <td>0</td>\n",
              "      <td>1</td>\n",
              "      <td>0</td>\n",
              "      <td>0</td>\n",
              "      <td>0</td>\n",
              "      <td>0</td>\n",
              "      <td>0</td>\n",
              "      <td>0</td>\n",
              "      <td>0</td>\n",
              "      <td>1</td>\n",
              "      <td>1</td>\n",
              "      <td>0</td>\n",
              "      <td>0</td>\n",
              "      <td>0</td>\n",
              "      <td>0</td>\n",
              "      <td>0</td>\n",
              "      <td>...</td>\n",
              "      <td>0</td>\n",
              "      <td>0</td>\n",
              "      <td>0</td>\n",
              "      <td>0</td>\n",
              "      <td>0</td>\n",
              "      <td>0</td>\n",
              "      <td>0</td>\n",
              "      <td>0</td>\n",
              "      <td>0</td>\n",
              "      <td>0</td>\n",
              "      <td>0</td>\n",
              "      <td>0</td>\n",
              "      <td>0</td>\n",
              "      <td>0</td>\n",
              "      <td>0</td>\n",
              "      <td>0</td>\n",
              "      <td>0</td>\n",
              "      <td>0</td>\n",
              "      <td>0</td>\n",
              "      <td>0</td>\n",
              "      <td>0</td>\n",
              "      <td>0</td>\n",
              "      <td>0</td>\n",
              "      <td>0</td>\n",
              "      <td>0</td>\n",
              "      <td>0</td>\n",
              "      <td>0</td>\n",
              "      <td>0</td>\n",
              "      <td>0</td>\n",
              "      <td>0</td>\n",
              "      <td>0</td>\n",
              "      <td>0</td>\n",
              "      <td>0</td>\n",
              "      <td>0</td>\n",
              "      <td>0</td>\n",
              "      <td>0</td>\n",
              "      <td>0</td>\n",
              "      <td>0</td>\n",
              "      <td>0</td>\n",
              "      <td>0</td>\n",
              "    </tr>\n",
              "    <tr>\n",
              "      <th>4</th>\n",
              "      <td>0</td>\n",
              "      <td>54.0</td>\n",
              "      <td>513000.0</td>\n",
              "      <td>121500.0</td>\n",
              "      <td>1.0</td>\n",
              "      <td>8.0</td>\n",
              "      <td>21865.5</td>\n",
              "      <td>1</td>\n",
              "      <td>0</td>\n",
              "      <td>0</td>\n",
              "      <td>0</td>\n",
              "      <td>0</td>\n",
              "      <td>2</td>\n",
              "      <td>2</td>\n",
              "      <td>0</td>\n",
              "      <td>1</td>\n",
              "      <td>0.322738</td>\n",
              "      <td>0</td>\n",
              "      <td>4311.0</td>\n",
              "      <td>3458</td>\n",
              "      <td>0</td>\n",
              "      <td>0.0</td>\n",
              "      <td>1</td>\n",
              "      <td>0</td>\n",
              "      <td>0</td>\n",
              "      <td>1</td>\n",
              "      <td>0</td>\n",
              "      <td>0</td>\n",
              "      <td>0</td>\n",
              "      <td>0</td>\n",
              "      <td>0</td>\n",
              "      <td>0</td>\n",
              "      <td>0</td>\n",
              "      <td>1</td>\n",
              "      <td>0</td>\n",
              "      <td>0</td>\n",
              "      <td>0</td>\n",
              "      <td>1</td>\n",
              "      <td>0</td>\n",
              "      <td>0</td>\n",
              "      <td>...</td>\n",
              "      <td>0</td>\n",
              "      <td>0</td>\n",
              "      <td>0</td>\n",
              "      <td>0</td>\n",
              "      <td>0</td>\n",
              "      <td>0</td>\n",
              "      <td>0</td>\n",
              "      <td>0</td>\n",
              "      <td>0</td>\n",
              "      <td>0</td>\n",
              "      <td>0</td>\n",
              "      <td>0</td>\n",
              "      <td>0</td>\n",
              "      <td>0</td>\n",
              "      <td>0</td>\n",
              "      <td>0</td>\n",
              "      <td>0</td>\n",
              "      <td>0</td>\n",
              "      <td>0</td>\n",
              "      <td>1</td>\n",
              "      <td>0</td>\n",
              "      <td>0</td>\n",
              "      <td>0</td>\n",
              "      <td>0</td>\n",
              "      <td>0</td>\n",
              "      <td>0</td>\n",
              "      <td>0</td>\n",
              "      <td>0</td>\n",
              "      <td>0</td>\n",
              "      <td>0</td>\n",
              "      <td>0</td>\n",
              "      <td>0</td>\n",
              "      <td>0</td>\n",
              "      <td>0</td>\n",
              "      <td>0</td>\n",
              "      <td>0</td>\n",
              "      <td>0</td>\n",
              "      <td>0</td>\n",
              "      <td>0</td>\n",
              "      <td>0</td>\n",
              "    </tr>\n",
              "  </tbody>\n",
              "</table>\n",
              "<p>5 rows × 116 columns</p>\n",
              "</div>\n",
              "      <button class=\"colab-df-convert\" onclick=\"convertToInteractive('df-216fb9ea-7726-466a-bb94-97ea7c6f93c3')\"\n",
              "              title=\"Convert this dataframe to an interactive table.\"\n",
              "              style=\"display:none;\">\n",
              "        \n",
              "  <svg xmlns=\"http://www.w3.org/2000/svg\" height=\"24px\"viewBox=\"0 0 24 24\"\n",
              "       width=\"24px\">\n",
              "    <path d=\"M0 0h24v24H0V0z\" fill=\"none\"/>\n",
              "    <path d=\"M18.56 5.44l.94 2.06.94-2.06 2.06-.94-2.06-.94-.94-2.06-.94 2.06-2.06.94zm-11 1L8.5 8.5l.94-2.06 2.06-.94-2.06-.94L8.5 2.5l-.94 2.06-2.06.94zm10 10l.94 2.06.94-2.06 2.06-.94-2.06-.94-.94-2.06-.94 2.06-2.06.94z\"/><path d=\"M17.41 7.96l-1.37-1.37c-.4-.4-.92-.59-1.43-.59-.52 0-1.04.2-1.43.59L10.3 9.45l-7.72 7.72c-.78.78-.78 2.05 0 2.83L4 21.41c.39.39.9.59 1.41.59.51 0 1.02-.2 1.41-.59l7.78-7.78 2.81-2.81c.8-.78.8-2.07 0-2.86zM5.41 20L4 18.59l7.72-7.72 1.47 1.35L5.41 20z\"/>\n",
              "  </svg>\n",
              "      </button>\n",
              "      \n",
              "  <style>\n",
              "    .colab-df-container {\n",
              "      display:flex;\n",
              "      flex-wrap:wrap;\n",
              "      gap: 12px;\n",
              "    }\n",
              "\n",
              "    .colab-df-convert {\n",
              "      background-color: #E8F0FE;\n",
              "      border: none;\n",
              "      border-radius: 50%;\n",
              "      cursor: pointer;\n",
              "      display: none;\n",
              "      fill: #1967D2;\n",
              "      height: 32px;\n",
              "      padding: 0 0 0 0;\n",
              "      width: 32px;\n",
              "    }\n",
              "\n",
              "    .colab-df-convert:hover {\n",
              "      background-color: #E2EBFA;\n",
              "      box-shadow: 0px 1px 2px rgba(60, 64, 67, 0.3), 0px 1px 3px 1px rgba(60, 64, 67, 0.15);\n",
              "      fill: #174EA6;\n",
              "    }\n",
              "\n",
              "    [theme=dark] .colab-df-convert {\n",
              "      background-color: #3B4455;\n",
              "      fill: #D2E3FC;\n",
              "    }\n",
              "\n",
              "    [theme=dark] .colab-df-convert:hover {\n",
              "      background-color: #434B5C;\n",
              "      box-shadow: 0px 1px 3px 1px rgba(0, 0, 0, 0.15);\n",
              "      filter: drop-shadow(0px 1px 2px rgba(0, 0, 0, 0.3));\n",
              "      fill: #FFFFFF;\n",
              "    }\n",
              "  </style>\n",
              "\n",
              "      <script>\n",
              "        const buttonEl =\n",
              "          document.querySelector('#df-216fb9ea-7726-466a-bb94-97ea7c6f93c3 button.colab-df-convert');\n",
              "        buttonEl.style.display =\n",
              "          google.colab.kernel.accessAllowed ? 'block' : 'none';\n",
              "\n",
              "        async function convertToInteractive(key) {\n",
              "          const element = document.querySelector('#df-216fb9ea-7726-466a-bb94-97ea7c6f93c3');\n",
              "          const dataTable =\n",
              "            await google.colab.kernel.invokeFunction('convertToInteractive',\n",
              "                                                     [key], {});\n",
              "          if (!dataTable) return;\n",
              "\n",
              "          const docLinkHtml = 'Like what you see? Visit the ' +\n",
              "            '<a target=\"_blank\" href=https://colab.research.google.com/notebooks/data_table.ipynb>data table notebook</a>'\n",
              "            + ' to learn more about interactive tables.';\n",
              "          element.innerHTML = '';\n",
              "          dataTable['output_type'] = 'display_data';\n",
              "          await google.colab.output.renderOutput(dataTable, element);\n",
              "          const docLink = document.createElement('div');\n",
              "          docLink.innerHTML = docLinkHtml;\n",
              "          element.appendChild(docLink);\n",
              "        }\n",
              "      </script>\n",
              "    </div>\n",
              "  </div>\n",
              "  "
            ],
            "text/plain": [
              "   TARGET   AGE  ...  ORGANIZATION_TYPE_University  ORGANIZATION_TYPE_XNA\n",
              "0       1  25.0  ...                             0                      0\n",
              "1       0  45.0  ...                             0                      0\n",
              "2       0  52.0  ...                             0                      0\n",
              "3       0  52.0  ...                             0                      0\n",
              "4       0  54.0  ...                             0                      0\n",
              "\n",
              "[5 rows x 116 columns]"
            ]
          },
          "metadata": {},
          "execution_count": 12
        }
      ]
    },
    {
      "cell_type": "code",
      "source": [
        "print(DataForML_Numeric.shape)"
      ],
      "metadata": {
        "colab": {
          "base_uri": "https://localhost:8080/"
        },
        "id": "grmPYyebXNtZ",
        "outputId": "d43a4eac-0bc3-4247-aca6-26adf9824893"
      },
      "execution_count": 13,
      "outputs": [
        {
          "output_type": "stream",
          "name": "stdout",
          "text": [
            "(306486, 116)\n"
          ]
        }
      ]
    },
    {
      "cell_type": "markdown",
      "source": [
        "# **Machine Learning**\n",
        "\n"
      ],
      "metadata": {
        "id": "RlK_dHrvYUB8"
      }
    },
    {
      "cell_type": "code",
      "source": [
        "# Printing all the column names for our reference\n",
        "print(list(DataForML_Numeric.columns))"
      ],
      "metadata": {
        "colab": {
          "base_uri": "https://localhost:8080/"
        },
        "id": "Ce-l8lKFYkw-",
        "outputId": "a9f820d6-9405-4c38-8de7-c9f644ec2f14"
      },
      "execution_count": 14,
      "outputs": [
        {
          "output_type": "stream",
          "name": "stdout",
          "text": [
            "['TARGET', 'AGE', 'AMT_CREDIT', 'AMT_INCOME_TOTAL', 'CNT_FAM_MEMBERS', 'YEARS_EMPLOYED', 'AMT_ANNUITY', 'FLAG_EMP_PHONE', 'FLAG_WORK_PHONE', 'FLAG_PHONE', 'FLAG_DOCUMENT_3', 'FLAG_DOCUMENT_6', 'REGION_RATING_CLIENT', 'REGION_RATING_CLIENT_W_CITY', 'REG_CITY_NOT_LIVE_CITY', 'REG_CITY_NOT_WORK_CITY', 'EXT_SOURCE_2', 'AMT_REQ_CREDIT_BUREAU_YEAR', 'DAYS_REGISTRATION', 'DAYS_ID_PUBLISH', 'OBS_30_CNT_SOCIAL_CIRCLE', 'DEF_30_CNT_SOCIAL_CIRCLE', 'CODE_GENDER', 'FLAG_OWN_CAR', 'NAME_CONTRACT_TYPE', 'FLAG_OWN_REALTY', 'NAME_INCOME_TYPE_Businessman', 'NAME_INCOME_TYPE_Commercial associate', 'NAME_INCOME_TYPE_Maternity leave', 'NAME_INCOME_TYPE_Pensioner', 'NAME_INCOME_TYPE_State servant', 'NAME_INCOME_TYPE_Student', 'NAME_INCOME_TYPE_Unemployed', 'NAME_INCOME_TYPE_Working', 'NAME_FAMILY_STATUS_Civil marriage', 'NAME_FAMILY_STATUS_Married', 'NAME_FAMILY_STATUS_Separated', 'NAME_FAMILY_STATUS_Single / not married', 'NAME_FAMILY_STATUS_Unknown', 'NAME_FAMILY_STATUS_Widow', 'NAME_HOUSING_TYPE_Co-op apartment', 'NAME_HOUSING_TYPE_House / apartment', 'NAME_HOUSING_TYPE_Municipal apartment', 'NAME_HOUSING_TYPE_Office apartment', 'NAME_HOUSING_TYPE_Rented apartment', 'NAME_HOUSING_TYPE_With parents', 'NAME_EDUCATION_TYPE_Academic degree', 'NAME_EDUCATION_TYPE_Higher education', 'NAME_EDUCATION_TYPE_Incomplete higher', 'NAME_EDUCATION_TYPE_Lower secondary', 'NAME_EDUCATION_TYPE_Secondary / secondary special', 'NAME_TYPE_SUITE_Children', 'NAME_TYPE_SUITE_Family', 'NAME_TYPE_SUITE_Group of people', 'NAME_TYPE_SUITE_Other_A', 'NAME_TYPE_SUITE_Other_B', 'NAME_TYPE_SUITE_Spouse, partner', 'NAME_TYPE_SUITE_Unaccompanied', 'ORGANIZATION_TYPE_Advertising', 'ORGANIZATION_TYPE_Agriculture', 'ORGANIZATION_TYPE_Bank', 'ORGANIZATION_TYPE_Business Entity Type 1', 'ORGANIZATION_TYPE_Business Entity Type 2', 'ORGANIZATION_TYPE_Business Entity Type 3', 'ORGANIZATION_TYPE_Cleaning', 'ORGANIZATION_TYPE_Construction', 'ORGANIZATION_TYPE_Culture', 'ORGANIZATION_TYPE_Electricity', 'ORGANIZATION_TYPE_Emergency', 'ORGANIZATION_TYPE_Government', 'ORGANIZATION_TYPE_Hotel', 'ORGANIZATION_TYPE_Housing', 'ORGANIZATION_TYPE_Industry: type 1', 'ORGANIZATION_TYPE_Industry: type 10', 'ORGANIZATION_TYPE_Industry: type 11', 'ORGANIZATION_TYPE_Industry: type 12', 'ORGANIZATION_TYPE_Industry: type 13', 'ORGANIZATION_TYPE_Industry: type 2', 'ORGANIZATION_TYPE_Industry: type 3', 'ORGANIZATION_TYPE_Industry: type 4', 'ORGANIZATION_TYPE_Industry: type 5', 'ORGANIZATION_TYPE_Industry: type 6', 'ORGANIZATION_TYPE_Industry: type 7', 'ORGANIZATION_TYPE_Industry: type 8', 'ORGANIZATION_TYPE_Industry: type 9', 'ORGANIZATION_TYPE_Insurance', 'ORGANIZATION_TYPE_Kindergarten', 'ORGANIZATION_TYPE_Legal Services', 'ORGANIZATION_TYPE_Medicine', 'ORGANIZATION_TYPE_Military', 'ORGANIZATION_TYPE_Mobile', 'ORGANIZATION_TYPE_Other', 'ORGANIZATION_TYPE_Police', 'ORGANIZATION_TYPE_Postal', 'ORGANIZATION_TYPE_Realtor', 'ORGANIZATION_TYPE_Religion', 'ORGANIZATION_TYPE_Restaurant', 'ORGANIZATION_TYPE_School', 'ORGANIZATION_TYPE_Security', 'ORGANIZATION_TYPE_Security Ministries', 'ORGANIZATION_TYPE_Self-employed', 'ORGANIZATION_TYPE_Services', 'ORGANIZATION_TYPE_Telecom', 'ORGANIZATION_TYPE_Trade: type 1', 'ORGANIZATION_TYPE_Trade: type 2', 'ORGANIZATION_TYPE_Trade: type 3', 'ORGANIZATION_TYPE_Trade: type 4', 'ORGANIZATION_TYPE_Trade: type 5', 'ORGANIZATION_TYPE_Trade: type 6', 'ORGANIZATION_TYPE_Trade: type 7', 'ORGANIZATION_TYPE_Transport: type 1', 'ORGANIZATION_TYPE_Transport: type 2', 'ORGANIZATION_TYPE_Transport: type 3', 'ORGANIZATION_TYPE_Transport: type 4', 'ORGANIZATION_TYPE_University', 'ORGANIZATION_TYPE_XNA']\n"
          ]
        }
      ]
    },
    {
      "cell_type": "code",
      "source": [
        "# Separate Target Variable and Predictor Variables\n",
        "TargetVariable='TARGET'\n",
        "Predictors=[ 'AGE', 'AMT_CREDIT', 'AMT_INCOME_TOTAL', 'CNT_FAM_MEMBERS', 'YEARS_EMPLOYED', 'AMT_ANNUITY', 'FLAG_EMP_PHONE', 'FLAG_WORK_PHONE', 'FLAG_PHONE', \n",
        "             'FLAG_DOCUMENT_3', 'FLAG_DOCUMENT_6', 'REGION_RATING_CLIENT', 'REGION_RATING_CLIENT_W_CITY', 'REG_CITY_NOT_LIVE_CITY', 'REG_CITY_NOT_WORK_CITY', \n",
        "             'EXT_SOURCE_2', 'AMT_REQ_CREDIT_BUREAU_YEAR', 'DAYS_REGISTRATION', 'DAYS_ID_PUBLISH', 'OBS_30_CNT_SOCIAL_CIRCLE', 'DEF_30_CNT_SOCIAL_CIRCLE', \n",
        "             'NAME_CONTRACT_TYPE', 'CODE_GENDER', 'FLAG_OWN_CAR',  'FLAG_OWN_REALTY',\n",
        "             \n",
        "             'NAME_TYPE_SUITE_Unaccompanied', 'NAME_TYPE_SUITE_Family', 'NAME_TYPE_SUITE_Spouse, partner', 'NAME_TYPE_SUITE_Children', \n",
        "             'NAME_TYPE_SUITE_Other_B', 'NAME_TYPE_SUITE_Other_A', 'NAME_TYPE_SUITE_Group of people',\n",
        "             \n",
        "             'NAME_EDUCATION_TYPE_Secondary / secondary special', 'NAME_EDUCATION_TYPE_Higher education', 'NAME_EDUCATION_TYPE_Incomplete higher',\n",
        "             'NAME_EDUCATION_TYPE_Lower secondary', 'NAME_EDUCATION_TYPE_Academic degree',  \n",
        "               \n",
        "             'NAME_FAMILY_STATUS_Married', 'NAME_FAMILY_STATUS_Single / not married', 'NAME_FAMILY_STATUS_Civil marriage', \n",
        "             'NAME_FAMILY_STATUS_Separated', 'NAME_FAMILY_STATUS_Widow', 'NAME_FAMILY_STATUS_Unknown',     \n",
        "\n",
        "             'NAME_HOUSING_TYPE_House / apartment', 'NAME_HOUSING_TYPE_With parents', 'NAME_HOUSING_TYPE_Municipal apartment',  \n",
        "             'NAME_HOUSING_TYPE_Rented apartment', 'NAME_HOUSING_TYPE_Office apartment', 'NAME_HOUSING_TYPE_Co-op apartment',         \n",
        "\n",
        "             'ORGANIZATION_TYPE_Business Entity Type 3', 'ORGANIZATION_TYPE_XNA', 'ORGANIZATION_TYPE_Self-employed', 'ORGANIZATION_TYPE_Other',\n",
        "             'ORGANIZATION_TYPE_Medicine', 'ORGANIZATION_TYPE_Business Entity Type 2', 'ORGANIZATION_TYPE_Government', 'ORGANIZATION_TYPE_School',\n",
        "             'ORGANIZATION_TYPE_Trade: type 7', 'ORGANIZATION_TYPE_Kindergarten', 'ORGANIZATION_TYPE_Construction', 'ORGANIZATION_TYPE_Business Entity Type 1',\n",
        "             'ORGANIZATION_TYPE_Transport: type 4', 'ORGANIZATION_TYPE_Trade: type 3', 'ORGANIZATION_TYPE_Industry: type 9', 'ORGANIZATION_TYPE_Industry: type 3',\n",
        "             'ORGANIZATION_TYPE_Security', 'ORGANIZATION_TYPE_Housing', 'ORGANIZATION_TYPE_Industry: type 11', 'ORGANIZATION_TYPE_Military',\n",
        "             'ORGANIZATION_TYPE_Bank', 'ORGANIZATION_TYPE_Agriculture', 'ORGANIZATION_TYPE_Police', 'ORGANIZATION_TYPE_Transport: type 2',\n",
        "             'ORGANIZATION_TYPE_Postal', 'ORGANIZATION_TYPE_Security Ministries', 'ORGANIZATION_TYPE_Trade: type 2', 'ORGANIZATION_TYPE_Restaurant',\n",
        "             'ORGANIZATION_TYPE_Services', 'ORGANIZATION_TYPE_University', 'ORGANIZATION_TYPE_Industry: type 7', 'ORGANIZATION_TYPE_Transport: type 3',\n",
        "             'ORGANIZATION_TYPE_Industry: type 1', 'ORGANIZATION_TYPE_Hotel', 'ORGANIZATION_TYPE_Electricity', 'ORGANIZATION_TYPE_Industry: type 4',\n",
        "             'ORGANIZATION_TYPE_Trade: type 6', 'ORGANIZATION_TYPE_Industry: type 5', 'ORGANIZATION_TYPE_Insurance', 'ORGANIZATION_TYPE_Telecom',\n",
        "             'ORGANIZATION_TYPE_Emergency', 'ORGANIZATION_TYPE_Industry: type 2', 'ORGANIZATION_TYPE_Advertising', 'ORGANIZATION_TYPE_Realtor',\n",
        "             'ORGANIZATION_TYPE_Culture', 'ORGANIZATION_TYPE_Industry: type 12', 'ORGANIZATION_TYPE_Trade: type 1',\n",
        "             'ORGANIZATION_TYPE_Mobile', 'ORGANIZATION_TYPE_Legal Services', 'ORGANIZATION_TYPE_Cleaning', 'ORGANIZATION_TYPE_Transport: type 1', \n",
        "             'ORGANIZATION_TYPE_Industry: type 6', 'ORGANIZATION_TYPE_Industry: type 10', 'ORGANIZATION_TYPE_Religion', 'ORGANIZATION_TYPE_Industry: type 13',\n",
        "             'ORGANIZATION_TYPE_Trade: type 4', 'ORGANIZATION_TYPE_Trade: type 5', 'ORGANIZATION_TYPE_Industry: type 8',    \n",
        "                  \n",
        "             'NAME_INCOME_TYPE_Working', 'NAME_INCOME_TYPE_Commercial associate', 'NAME_INCOME_TYPE_Pensioner', 'NAME_INCOME_TYPE_State servant', \n",
        "             'NAME_INCOME_TYPE_Unemployed', 'NAME_INCOME_TYPE_Student', 'NAME_INCOME_TYPE_Businessman', 'NAME_INCOME_TYPE_Maternity leave']\n",
        "\n",
        "X_ml=DataForML_Numeric[Predictors].values\n",
        "y_ml=DataForML_Numeric[TargetVariable].values\n",
        "\n",
        "# Split the data into training and testing set\n",
        "from sklearn.model_selection import train_test_split\n",
        "X_train_ml, X_test_ml, y_train_ml, y_test_ml = train_test_split(X_ml, y_ml, test_size=0.3, random_state=428)\n"
      ],
      "metadata": {
        "id": "EksWYWE_YwUJ"
      },
      "execution_count": 15,
      "outputs": []
    },
    {
      "cell_type": "markdown",
      "source": [
        "# **6B. Standardization/Normalization of data**"
      ],
      "metadata": {
        "id": "YzMntGYLaor4"
      }
    },
    {
      "cell_type": "code",
      "source": [
        "### Sandardization of data ###\n",
        "from sklearn.preprocessing import StandardScaler, MinMaxScaler\n",
        "# Choose either standardization or Normalization\n",
        "# On this data Min Max Normalization produced better results\n",
        "\n",
        "# Choose between standardization and MinMAx normalization\n",
        "#PredictorScaler=StandardScaler()\n",
        "PredictorScaler=MinMaxScaler()\n",
        "\n",
        "# Storing the fit object for later reference\n",
        "PredictorScalerFit=PredictorScaler.fit(X_ml)\n",
        "\n",
        "# Generating the standardized values of X\n",
        "X_ml=PredictorScalerFit.transform(X_ml)\n",
        "\n",
        "# Split the data into training and testing set\n",
        "from sklearn.model_selection import train_test_split\n",
        "X_train_ml, X_test_ml, y_train_ml, y_test_ml = train_test_split(X_ml, y_ml, test_size=0.3, random_state=42)"
      ],
      "metadata": {
        "id": "t0GiZegua0_C"
      },
      "execution_count": null,
      "outputs": []
    },
    {
      "cell_type": "code",
      "source": [
        "# Saving this standardizer for deployment\n",
        "import pickle\n",
        "# DataForML.to_pickle('DataForML.pkl')\n",
        "PredictorScalerFit.to_pickle(r'/gdrive/MyDrive/PGD_project/PredictorScalerFit.pkl')"
      ],
      "metadata": {
        "id": "2GcFR04M-SO0"
      },
      "execution_count": null,
      "outputs": []
    },
    {
      "cell_type": "code",
      "source": [
        "# Sanity check for the sampled data\n",
        "print(X_train_ml.shape)\n",
        "print(y_train_ml.shape)\n",
        "print(X_test_ml.shape)\n",
        "print(y_test_ml.shape)"
      ],
      "metadata": {
        "colab": {
          "base_uri": "https://localhost:8080/"
        },
        "id": "pyVe5u1qa5oK",
        "outputId": "9f074b0c-0277-4a6f-c759-e79b0a5a7822"
      },
      "execution_count": null,
      "outputs": [
        {
          "output_type": "stream",
          "name": "stdout",
          "text": [
            "(214540, 115)\n",
            "(214540,)\n",
            "(91946, 115)\n",
            "(91946,)\n"
          ]
        }
      ]
    },
    {
      "cell_type": "code",
      "source": [
        "# Get the default and non-default\n",
        "\n",
        "# default_1     = y_test[y_test['TARGET']==1]\n",
        "# non_default_1 = y_test[y_test['TARGET']==0]\n",
        "\n",
        "default_1     = y_test_ml[y_test_ml==1]\n",
        "non_default_1 = y_test_ml[y_test_ml==0]\n",
        "\n",
        "print(default_1.shape,non_default_1.shape)"
      ],
      "metadata": {
        "colab": {
          "base_uri": "https://localhost:8080/"
        },
        "id": "9ijP_UQnhzWm",
        "outputId": "1b96aa6e-fd4b-4cfb-c426-0cd423c55105"
      },
      "execution_count": null,
      "outputs": [
        {
          "output_type": "stream",
          "name": "stdout",
          "text": [
            "(7437,) (84509,)\n"
          ]
        }
      ]
    },
    {
      "cell_type": "markdown",
      "source": [
        "# **Oversampling**"
      ],
      "metadata": {
        "id": "oShTo5X8BDQt"
      }
    },
    {
      "cell_type": "code",
      "source": [
        "from imblearn.over_sampling import RandomOverSampler"
      ],
      "metadata": {
        "id": "0fMUKHS6BIj1"
      },
      "execution_count": null,
      "outputs": []
    },
    {
      "cell_type": "code",
      "source": [
        "os = RandomOverSampler(0.75)\n",
        "X_train_mlos, y_train_mlos = os.fit_resample(X_train_ml, y_train_ml)\n",
        "\n",
        "print(\"The number of classes before fit {}\".format(Counter(y_train_ml)))\n",
        "print(\"The number of classes after fit {}\".format(Counter(y_train_mlos)))"
      ],
      "metadata": {
        "colab": {
          "base_uri": "https://localhost:8080/"
        },
        "id": "ifTvoVQWCBEL",
        "outputId": "5cb02ee0-129e-49ca-c824-67e940722026"
      },
      "execution_count": null,
      "outputs": [
        {
          "output_type": "stream",
          "name": "stderr",
          "text": [
            "/usr/local/lib/python3.7/dist-packages/imblearn/utils/_validation.py:591: FutureWarning: Pass sampling_strategy=0.75 as keyword args. From version 0.9 passing these as positional arguments will result in an error\n",
            "  FutureWarning,\n"
          ]
        },
        {
          "output_type": "stream",
          "name": "stdout",
          "text": [
            "The number of classes before fit Counter({0: 197188, 1: 17352})\n",
            "The number of classes after fit Counter({0: 197188, 1: 147891})\n"
          ]
        }
      ]
    },
    {
      "cell_type": "code",
      "source": [
        "X_train_mlos.shape"
      ],
      "metadata": {
        "colab": {
          "base_uri": "https://localhost:8080/"
        },
        "id": "eh5fJVj_Ez3j",
        "outputId": "81aa1571-aa5a-4365-c7f8-30a3749d6721"
      },
      "execution_count": null,
      "outputs": [
        {
          "output_type": "execute_result",
          "data": {
            "text/plain": [
              "(345079, 115)"
            ]
          },
          "metadata": {},
          "execution_count": 90
        }
      ]
    },
    {
      "cell_type": "code",
      "source": [
        "X_train_ml.shape"
      ],
      "metadata": {
        "colab": {
          "base_uri": "https://localhost:8080/"
        },
        "id": "645HdA3XE5r8",
        "outputId": "2e90d015-aa6d-421f-960d-59519842ddab"
      },
      "execution_count": null,
      "outputs": [
        {
          "output_type": "execute_result",
          "data": {
            "text/plain": [
              "(214540, 115)"
            ]
          },
          "metadata": {},
          "execution_count": 91
        }
      ]
    },
    {
      "cell_type": "markdown",
      "source": [
        "# **XGBoost(Oversampling)**"
      ],
      "metadata": {
        "id": "lr7Lbjd5B7DK"
      }
    },
    {
      "cell_type": "code",
      "source": [
        "# Xtreme Gradient Boosting (XGBoost)\n",
        "from xgboost import XGBClassifier\n",
        "clf=XGBClassifier(max_depth=7, learning_rate=0.1, n_estimators=1000, objective='binary:logistic', booster='gbtree')\n",
        "\n",
        "# Printing all the parameters of XGBoost\n",
        "print(clf)\n",
        "\n",
        "# Creating the model on Training Data\n",
        "XGB=clf.fit(X_train_mlos,y_train_mlos)\n",
        "prediction=XGB.predict(X_test_ml)\n",
        "\n",
        "# Measuring accuracy on Testing Data\n",
        "from sklearn import metrics\n",
        "print(metrics.classification_report(y_test_ml, prediction))\n",
        "print(metrics.confusion_matrix(y_test_ml, prediction))\n",
        "\n",
        "# Printing the Overall Accuracy of the model\n",
        "F1_Score=metrics.f1_score(y_test_ml, prediction, average='weighted')\n",
        "print('Accuracy of the model on Testing Sample Data:', round(F1_Score,2))"
      ],
      "metadata": {
        "colab": {
          "base_uri": "https://localhost:8080/"
        },
        "id": "omqeEiI8Iufz",
        "outputId": "34d187e7-94a2-47c3-de24-3b294d8f3387"
      },
      "execution_count": null,
      "outputs": [
        {
          "output_type": "stream",
          "name": "stdout",
          "text": [
            "XGBClassifier(max_depth=7, n_estimators=1000)\n",
            "              precision    recall  f1-score   support\n",
            "\n",
            "           0       0.94      0.88      0.91     84509\n",
            "           1       0.20      0.33      0.25      7437\n",
            "\n",
            "    accuracy                           0.84     91946\n",
            "   macro avg       0.57      0.61      0.58     91946\n",
            "weighted avg       0.88      0.84      0.86     91946\n",
            "\n",
            "[[74498 10011]\n",
            " [ 4960  2477]]\n",
            "Accuracy of the model on Testing Sample Data: 0.86\n"
          ]
        }
      ]
    },
    {
      "cell_type": "code",
      "source": [
        "import joblib \n",
        "joblib.dump(XGB, r'/gdrive/MyDrive/PGD_project/FinalXGboostModel_os0_171000.pkl') \n",
        "model = joblib.load(r'/gdrive/MyDrive/PGD_project/FinalXGboostModel_os0_171000.pkl') "
      ],
      "metadata": {
        "id": "pOZrar1sSL0M"
      },
      "execution_count": null,
      "outputs": []
    },
    {
      "cell_type": "markdown",
      "source": [
        "# **Logistic Regression(oversampling)**"
      ],
      "metadata": {
        "id": "8GiIfF-RbNmq"
      }
    },
    {
      "cell_type": "code",
      "source": [
        "# Logistic Regression\n",
        "from sklearn.linear_model import LogisticRegression\n",
        "# choose parameter Penalty='l1' or C=1\n",
        "# choose different values for solver 'newton-cg', 'lbfgs', 'liblinear', 'sag', 'saga'\n",
        "clf = LogisticRegression(C=1,penalty='l2', solver='newton-cg')\n",
        "\n",
        "# Printing all the parameters of logistic regression\n",
        "# print(clf)\n",
        "\n",
        "# Creating the model on Training Data\n",
        "LOG=clf.fit(X_train_mlos,y_train_mlos)\n",
        "prediction_lr=LOG.predict(X_test_ml)\n",
        "\n",
        "# Measuring accuracy on Testing Data\n",
        "from sklearn import metrics\n",
        "print(metrics.classification_report(y_test_ml, prediction_lr))\n",
        "print(metrics.confusion_matrix(y_test_ml, prediction_lr))\n",
        "\n",
        "# Printing the Overall Accuracy of the model\n",
        "F1_Score_lr=metrics.f1_score(y_test_ml, prediction_lr, average='weighted')\n",
        "print('Accuracy of the model on Testing Sample Data:', round(F1_Score_lr,2))\n",
        "\n",
        "# # Importing cross validation function from sklearn\n",
        "# from sklearn.model_selection import cross_val_score\n",
        "\n",
        "# # Running 10-Fold Cross validation on a given algorithm\n",
        "# # Passing full data X and y because the K-fold will split the data and automatically choose train/test\n",
        "# Accuracy_Values=cross_val_score(LOG, X , y, cv=10, scoring='f1_weighted')\n",
        "# print('\\nAccuracy values for 10-fold Cross Validation:\\n',Accuracy_Values)\n",
        "# print('\\nFinal Average Accuracy of the model:', round(Accuracy_Values.mean(),2))"
      ],
      "metadata": {
        "colab": {
          "base_uri": "https://localhost:8080/"
        },
        "id": "Fzv1jJ5-bT2m",
        "outputId": "6e86c6ba-6609-4005-95ae-6aed380c691c"
      },
      "execution_count": null,
      "outputs": [
        {
          "output_type": "stream",
          "name": "stdout",
          "text": [
            "              precision    recall  f1-score   support\n",
            "\n",
            "           0       0.95      0.79      0.86     84509\n",
            "           1       0.17      0.49      0.25      7437\n",
            "\n",
            "    accuracy                           0.76     91946\n",
            "   macro avg       0.56      0.64      0.55     91946\n",
            "weighted avg       0.88      0.76      0.81     91946\n",
            "\n",
            "[[66425 18084]\n",
            " [ 3779  3658]]\n",
            "Accuracy of the model on Testing Sample Data: 0.81\n"
          ]
        }
      ]
    },
    {
      "cell_type": "code",
      "source": [
        "# example of grid searching key hyperparametres for logistic regression\n",
        "from sklearn.datasets import make_blobs\n",
        "from sklearn.model_selection import RepeatedStratifiedKFold\n",
        "from sklearn.model_selection import GridSearchCV\n",
        "from sklearn.linear_model import LogisticRegression"
      ],
      "metadata": {
        "id": "LLU08PQ4cZvJ"
      },
      "execution_count": null,
      "outputs": []
    },
    {
      "cell_type": "code",
      "source": [
        "# Logistic Regression\n",
        "from sklearn.linear_model import LogisticRegression\n",
        "# choose parameter Penalty='l1' or C=1\n",
        "# choose different values for solver 'newton-cg', 'lbfgs', 'liblinear', 'sag', 'saga'\n",
        "clf = LogisticRegression(C=100,penalty='l2', solver='liblinear')\n",
        "\n",
        "# Printing all the parameters of logistic regression\n",
        "# print(clf)\n",
        "\n",
        "# Creating the model on Training Data\n",
        "LOG=clf.fit(X_train_mlos,y_train_mlos)\n",
        "prediction_lr=LOG.predict(X_test_ml)\n",
        "\n",
        "# Measuring accuracy on Testing Data\n",
        "from sklearn import metrics\n",
        "print(metrics.classification_report(y_test_ml, prediction_lr))\n",
        "print(metrics.confusion_matrix(y_test_ml, prediction_lr))\n",
        "\n",
        "# Printing the Overall Accuracy of the model\n",
        "F1_Score_lr=metrics.f1_score(y_test_ml, prediction_lr, average='weighted')\n",
        "print('Accuracy of the model on Testing Sample Data:', round(F1_Score_lr,2))"
      ],
      "metadata": {
        "colab": {
          "base_uri": "https://localhost:8080/"
        },
        "id": "ITBHbcrG8aTX",
        "outputId": "00982713-ec14-4ac5-cc87-9a5385008c0c"
      },
      "execution_count": null,
      "outputs": [
        {
          "output_type": "stream",
          "name": "stdout",
          "text": [
            "              precision    recall  f1-score   support\n",
            "\n",
            "           0       0.95      0.78      0.86     84509\n",
            "           1       0.17      0.50      0.25      7437\n",
            "\n",
            "    accuracy                           0.76     91946\n",
            "   macro avg       0.56      0.64      0.55     91946\n",
            "weighted avg       0.88      0.76      0.81     91946\n",
            "\n",
            "[[66230 18279]\n",
            " [ 3746  3691]]\n",
            "Accuracy of the model on Testing Sample Data: 0.81\n"
          ]
        }
      ]
    },
    {
      "cell_type": "markdown",
      "source": [
        "# **KNN(Oversampling)**"
      ],
      "metadata": {
        "id": "JPLpZ24RVJJZ"
      }
    },
    {
      "cell_type": "code",
      "source": [
        "# K-Nearest Neighbor(KNN)\n",
        "from sklearn.neighbors import KNeighborsClassifier\n",
        "clf = KNeighborsClassifier(n_neighbors=5)\n",
        "\n",
        "# Printing all the parameters of KNN\n",
        "print(clf)\n",
        "\n",
        "# Creating the model on Training Data\n",
        "KNN=clf.fit(X_train_mlos,y_train_mlos)\n",
        "prediction_knn=KNN.predict(X_test_ml)\n",
        "\n",
        "# Measuring accuracy on Testing Data\n",
        "from sklearn import metrics\n",
        "print(metrics.classification_report(y_test_ml, prediction_knn))\n",
        "print(metrics.confusion_matrix(y_test_ml, prediction_knn))\n",
        "\n",
        "# Printing the Overall Accuracy of the model\n",
        "F1_Score=metrics.f1_score(y_test_ml, prediction_knn, average='weighted')\n",
        "print('Accuracy of the model on Testing Sample Data:', round(F1_Score,2))"
      ],
      "metadata": {
        "colab": {
          "base_uri": "https://localhost:8080/"
        },
        "id": "3szLfIJGYSx4",
        "outputId": "66c2ad68-819c-449f-8019-9e39c463ce49"
      },
      "execution_count": null,
      "outputs": [
        {
          "output_type": "stream",
          "name": "stdout",
          "text": [
            "KNeighborsClassifier()\n",
            "              precision    recall  f1-score   support\n",
            "\n",
            "           0       0.93      0.80      0.86     84509\n",
            "           1       0.11      0.28      0.16      7437\n",
            "\n",
            "    accuracy                           0.75     91946\n",
            "   macro avg       0.52      0.54      0.51     91946\n",
            "weighted avg       0.86      0.75      0.80     91946\n",
            "\n",
            "[[67318 17191]\n",
            " [ 5361  2076]]\n",
            "Accuracy of the model on Testing Sample Data: 0.8\n"
          ]
        }
      ]
    },
    {
      "cell_type": "markdown",
      "source": [
        "# **DecisionTree(Oversampling)**"
      ],
      "metadata": {
        "id": "wb9QIqhzIKlW"
      }
    },
    {
      "cell_type": "code",
      "source": [
        "#Decision Trees\n",
        "from sklearn import tree\n",
        "#choose from different tunable hyper parameters\n",
        "clf = tree.DecisionTreeClassifier(max_depth=7,criterion='entropy')\n",
        "\n",
        "# Printing all the parameters of Decision Trees\n",
        "print(clf)\n",
        "\n",
        "# Creating the model on Training Data\n",
        "DTree=clf.fit(X_train_mlos,y_train_mlos)\n",
        "prediction_dt=DTree.predict(X_test_ml)\n",
        "\n",
        "# Measuring accuracy on Testing Data\n",
        "from sklearn import metrics\n",
        "print(metrics.classification_report(y_test_ml, prediction_dt))\n",
        "print(metrics.confusion_matrix(y_test_ml, prediction_dt))\n",
        "\n",
        "# Printing the Overall Accuracy of the model\n",
        "F1_Score=metrics.f1_score(y_test_ml, prediction_dt, average='weighted')\n",
        "print('Accuracy of the model on Testing Sample Data:', round(F1_Score,2))"
      ],
      "metadata": {
        "colab": {
          "base_uri": "https://localhost:8080/"
        },
        "id": "g4BcXIEQLNvP",
        "outputId": "04f97a5e-d31e-4968-b38f-fec2e9768f77"
      },
      "execution_count": null,
      "outputs": [
        {
          "output_type": "stream",
          "name": "stdout",
          "text": [
            "DecisionTreeClassifier(criterion='entropy', max_depth=7)\n",
            "              precision    recall  f1-score   support\n",
            "\n",
            "           0       0.94      0.76      0.84     84509\n",
            "           1       0.15      0.50      0.23      7437\n",
            "\n",
            "    accuracy                           0.74     91946\n",
            "   macro avg       0.55      0.63      0.54     91946\n",
            "weighted avg       0.88      0.74      0.79     91946\n",
            "\n",
            "[[63895 20614]\n",
            " [ 3743  3694]]\n",
            "Accuracy of the model on Testing Sample Data: 0.79\n"
          ]
        }
      ]
    },
    {
      "cell_type": "markdown",
      "source": [
        "# **Randomforest(oversampling)**"
      ],
      "metadata": {
        "id": "v5JzGZ-aMSQi"
      }
    },
    {
      "cell_type": "markdown",
      "source": [
        "Final RF"
      ],
      "metadata": {
        "id": "nvlJk82XAe-t"
      }
    },
    {
      "cell_type": "code",
      "source": [
        "# Random Forest (Bagging of multiple Decision Trees)\n",
        "from sklearn.ensemble import RandomForestClassifier\n",
        "clf = RandomForestClassifier(max_depth=3, n_estimators=100,criterion='gini')\n",
        "\n",
        "# Printing all the parameters of Random Forest\n",
        "print(clf)\n",
        "\n",
        "# Creating the model on Training Data\n",
        "RF=clf.fit(X_train_mlos,y_train_mlos)\n",
        "prediction_rf=RF.predict(X_test_ml)\n",
        "\n",
        "# Measuring accuracy on Testing Data\n",
        "from sklearn import metrics\n",
        "print(metrics.classification_report(y_test_ml, prediction_rf))\n",
        "print(metrics.confusion_matrix(y_test_ml, prediction_rf))\n",
        "\n",
        "# Printing the Overall Accuracy of the model\n",
        "F1_Score=metrics.f1_score(y_test_ml, prediction_rf, average='weighted')\n",
        "print('Accuracy of the model on Testing Sample Data:', round(F1_Score,2))"
      ],
      "metadata": {
        "colab": {
          "base_uri": "https://localhost:8080/"
        },
        "id": "vFfaUv43MxxF",
        "outputId": "8e4f5d5a-8dfc-4170-d873-777012e64e05"
      },
      "execution_count": null,
      "outputs": [
        {
          "output_type": "stream",
          "name": "stdout",
          "text": [
            "RandomForestClassifier(max_depth=3)\n",
            "              precision    recall  f1-score   support\n",
            "\n",
            "           0       0.93      0.95      0.94     84509\n",
            "           1       0.23      0.18      0.20      7437\n",
            "\n",
            "    accuracy                           0.89     91946\n",
            "   macro avg       0.58      0.56      0.57     91946\n",
            "weighted avg       0.87      0.89      0.88     91946\n",
            "\n",
            "[[80078  4431]\n",
            " [ 6130  1307]]\n",
            "Accuracy of the model on Testing Sample Data: 0.88\n"
          ]
        }
      ]
    },
    {
      "cell_type": "markdown",
      "source": [
        "# **Adaboost**"
      ],
      "metadata": {
        "id": "kP_TqCdiQyFk"
      }
    },
    {
      "cell_type": "code",
      "source": [
        "# Adaboost \n",
        "from sklearn.ensemble import AdaBoostClassifier\n",
        "from sklearn.tree import DecisionTreeClassifier\n",
        "\n",
        "# Choosing Decision Tree with 1 level as the weak learner\n",
        "DTC=DecisionTreeClassifier(max_depth=1)\n",
        "clf = AdaBoostClassifier(n_estimators=500, base_estimator=DTC ,learning_rate=0.01)\n",
        "\n",
        "# Printing all the parameters of Adaboost\n",
        "print(clf)\n",
        "\n",
        "# Creating the model on Training Data\n",
        "AB=clf.fit(X_train_mlos,y_train_mlos)\n",
        "prediction_ab=AB.predict(X_test_ml)\n",
        "\n",
        "# Measuring accuracy on Testing Data\n",
        "from sklearn import metrics\n",
        "print(metrics.classification_report(y_test_ml, prediction_ab))\n",
        "print(metrics.confusion_matrix(y_test_ml, prediction_ab))\n",
        "\n",
        "# Printing the Overall Accuracy of the model\n",
        "F1_Score_ab=metrics.f1_score(y_test_ml, prediction_ab, average='weighted')\n",
        "print('Accuracy of the model on Testing Sample Data:', round(F1_Score_ab,2))"
      ],
      "metadata": {
        "colab": {
          "base_uri": "https://localhost:8080/"
        },
        "id": "aUnCaP3PQ1nm",
        "outputId": "db8b6dfc-9b4c-45b2-f8a2-e9b5f378b9d6"
      },
      "execution_count": null,
      "outputs": [
        {
          "output_type": "stream",
          "name": "stdout",
          "text": [
            "AdaBoostClassifier(base_estimator=DecisionTreeClassifier(max_depth=1),\n",
            "                   learning_rate=0.01, n_estimators=500)\n",
            "              precision    recall  f1-score   support\n",
            "\n",
            "           0       0.94      0.83      0.88     84509\n",
            "           1       0.17      0.40      0.24      7437\n",
            "\n",
            "    accuracy                           0.79     91946\n",
            "   macro avg       0.56      0.62      0.56     91946\n",
            "weighted avg       0.88      0.79      0.83     91946\n",
            "\n",
            "[[70035 14474]\n",
            " [ 4440  2997]]\n",
            "Accuracy of the model on Testing Sample Data: 0.83\n"
          ]
        }
      ]
    },
    {
      "cell_type": "markdown",
      "source": [
        "# **Naive Bayes(Oversampling)**"
      ],
      "metadata": {
        "id": "UVIBcwbnyuAV"
      }
    },
    {
      "cell_type": "code",
      "source": [
        "\n",
        "# Naive Bays\n",
        "from sklearn.naive_bayes import GaussianNB, MultinomialNB\n",
        "\n",
        "# GaussianNB is used in Binomial Classification\n",
        "# MultinomialNB is used in multi-class classification\n",
        "clf = GaussianNB()\n",
        "#clf = MultinomialNB()\n",
        "\n",
        "# Printing all the parameters of Naive Bayes\n",
        "print(clf)\n",
        "\n",
        "NB=clf.fit(X_train_mlos,y_train_mlos)\n",
        "# NB=clf.fit(X_train_ml,y_train_ml)\n",
        "# NB=clf.fit(X_ml,y_ml)\n",
        "\n",
        "\n",
        "prediction_nb=NB.predict(X_test_ml)\n",
        "\n",
        "# Measuring accuracy on Testing Data\n",
        "from sklearn import metrics\n",
        "print(metrics.classification_report(y_test_ml, prediction_nb))\n",
        "print(metrics.confusion_matrix(y_test_ml, prediction_nb))\n",
        "\n",
        "# Printing the Overall Accuracy of the model\n",
        "F1_Score=metrics.f1_score(y_test_ml, prediction_nb, average='weighted')\n",
        "print('Accuracy of the model on Testing Sample Data:', round(F1_Score,2))"
      ],
      "metadata": {
        "colab": {
          "base_uri": "https://localhost:8080/"
        },
        "id": "a0K1POFEhh2s",
        "outputId": "aa69d8ba-a269-4826-ca72-5c294eb0e275"
      },
      "execution_count": null,
      "outputs": [
        {
          "output_type": "stream",
          "name": "stdout",
          "text": [
            "GaussianNB()\n",
            "              precision    recall  f1-score   support\n",
            "\n",
            "           0       0.95      0.06      0.12     84509\n",
            "           1       0.08      0.96      0.15      7437\n",
            "\n",
            "    accuracy                           0.13     91946\n",
            "   macro avg       0.51      0.51      0.13     91946\n",
            "weighted avg       0.88      0.13      0.12     91946\n",
            "\n",
            "[[ 5268 79241]\n",
            " [  303  7134]]\n",
            "Accuracy of the model on Testing Sample Data: 0.12\n"
          ]
        }
      ]
    },
    {
      "cell_type": "code",
      "source": [
        "# Naive Bays\n",
        "from sklearn.naive_bayes import GaussianNB, MultinomialNB, BernoulliNB\n",
        "\n",
        "# GaussianNB is used in Binomial Classification\n",
        "# MultinomialNB is used in multi-class classification\n",
        "clf = BernoulliNB()\n",
        "#clf = MultinomialNB()\n",
        "\n",
        "# Printing all the parameters of Naive Bayes\n",
        "print(clf)\n",
        "\n",
        "NB=clf.fit(X_train_mlos,y_train_mlos)\n",
        "# NB=clf.fit(X_train_ml,y_train_ml)\n",
        "# NB=clf.fit(X_ml,y_ml)\n",
        "\n",
        "\n",
        "prediction_nb=NB.predict(X_test_ml)\n",
        "\n",
        "# Measuring accuracy on Testing Data\n",
        "from sklearn import metrics\n",
        "print(metrics.classification_report(y_test_ml, prediction_nb))\n",
        "print(metrics.confusion_matrix(y_test_ml, prediction_nb))\n",
        "\n",
        "# Printing the Overall Accuracy of the model\n",
        "F1_Score=metrics.f1_score(y_test_ml, prediction_nb, average='weighted')\n",
        "print('Accuracy of the model on Testing Sample Data:', round(F1_Score,2))"
      ],
      "metadata": {
        "colab": {
          "base_uri": "https://localhost:8080/"
        },
        "id": "2I8fESS_3CNs",
        "outputId": "9707f765-fd73-40f2-8fd2-0b2717f2d46f"
      },
      "execution_count": null,
      "outputs": [
        {
          "output_type": "stream",
          "name": "stdout",
          "text": [
            "BernoulliNB()\n",
            "              precision    recall  f1-score   support\n",
            "\n",
            "           0       0.94      0.61      0.74     84509\n",
            "           1       0.12      0.59      0.20      7437\n",
            "\n",
            "    accuracy                           0.61     91946\n",
            "   macro avg       0.53      0.60      0.47     91946\n",
            "weighted avg       0.88      0.61      0.70     91946\n",
            "\n",
            "[[51629 32880]\n",
            " [ 3058  4379]]\n",
            "Accuracy of the model on Testing Sample Data: 0.7\n"
          ]
        }
      ]
    },
    {
      "cell_type": "markdown",
      "source": [
        "# **XGBOOST(Oversampling)**"
      ],
      "metadata": {
        "id": "MT_vHmxBGcMv"
      }
    },
    {
      "cell_type": "code",
      "source": [
        "# Xtreme Gradient Boosting (XGBoost)\n",
        "from xgboost import XGBClassifier\n",
        "clf=XGBClassifier(max_depth=2, learning_rate=0.01, n_estimators=200, objective='binary:logistic', booster='gbtree')\n",
        "\n",
        "# Printing all the parameters of XGBoost\n",
        "print(clf)\n",
        "\n",
        "# Creating the model on Training Data\n",
        "XGB=clf.fit(X_train_mlos,y_train_mlos)\n",
        "prediction_xgb=XGB.predict(X_test_ml)\n",
        "\n",
        "# Measuring accuracy on Testing Data\n",
        "from sklearn import metrics\n",
        "print(metrics.classification_report(y_test_ml, prediction_xgb))\n",
        "print(metrics.confusion_matrix(y_test_ml, prediction_xgb))\n",
        "\n",
        "# Printing the Overall Accuracy of the model\n",
        "F1_Score=metrics.f1_score(y_test_ml, prediction_xgb, average='weighted')\n",
        "print('Accuracy of the model on Testing Sample Data:', round(F1_Score,2))"
      ],
      "metadata": {
        "colab": {
          "base_uri": "https://localhost:8080/"
        },
        "id": "jcLG8D2yGh56",
        "outputId": "c4027b1a-a6fb-4946-a634-3b7ac0d4fc6f"
      },
      "execution_count": null,
      "outputs": [
        {
          "output_type": "stream",
          "name": "stdout",
          "text": [
            "XGBClassifier(learning_rate=0.01, max_depth=2, n_estimators=200)\n",
            "              precision    recall  f1-score   support\n",
            "\n",
            "           0       0.94      0.82      0.88     84509\n",
            "           1       0.17      0.41      0.24      7437\n",
            "\n",
            "    accuracy                           0.79     91946\n",
            "   macro avg       0.55      0.61      0.56     91946\n",
            "weighted avg       0.88      0.79      0.83     91946\n",
            "\n",
            "[[69492 15017]\n",
            " [ 4419  3018]]\n",
            "Accuracy of the model on Testing Sample Data: 0.83\n"
          ]
        }
      ]
    }
  ],
  "metadata": {
    "colab": {
      "collapsed_sections": [
        "8OMWaDEGaiIW",
        "M5WKPrxa_Nze",
        "RlK_dHrvYUB8",
        "YzMntGYLaor4",
        "oShTo5X8BDQt",
        "lr7Lbjd5B7DK",
        "8GiIfF-RbNmq",
        "JPLpZ24RVJJZ",
        "wb9QIqhzIKlW",
        "v5JzGZ-aMSQi",
        "kP_TqCdiQyFk",
        "UVIBcwbnyuAV",
        "MT_vHmxBGcMv"
      ],
      "name": "Phase_6_Project_report_Basic_modelling.ipynb",
      "provenance": []
    },
    "kernelspec": {
      "display_name": "Python 3",
      "name": "python3"
    },
    "language_info": {
      "name": "python"
    }
  },
  "nbformat": 4,
  "nbformat_minor": 0
}