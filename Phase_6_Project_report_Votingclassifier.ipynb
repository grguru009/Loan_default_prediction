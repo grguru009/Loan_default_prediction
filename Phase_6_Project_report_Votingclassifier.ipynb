{
  "cells": [
    {
      "cell_type": "markdown",
      "metadata": {
        "id": "6d6fDomiZ7-8"
      },
      "source": [
        "**Problem Statement**: This notebook provides the details about Machine learning predictive model for the problem “Bank loan default risk”."
      ]
    },
    {
      "cell_type": "markdown",
      "metadata": {
        "id": "8OMWaDEGaiIW"
      },
      "source": [
        "# **1. importing required libraries and reading the data**\n"
      ]
    },
    {
      "cell_type": "code",
      "execution_count": null,
      "metadata": {
        "colab": {
          "base_uri": "https://localhost:8080/"
        },
        "id": "oJ-ugzKVZv2B",
        "outputId": "0bcff3eb-66c7-4e52-d62d-f8a2c1656abb"
      },
      "outputs": [
        {
          "output_type": "stream",
          "name": "stdout",
          "text": [
            "Mounted at /gdrive\n",
            "/gdrive\n"
          ]
        }
      ],
      "source": [
        "# Code to mount google drive   (loading the data from your google drive)\n",
        "from google.colab import drive\n",
        "drive.mount('/gdrive')\n",
        "%cd /gdrive"
      ]
    },
    {
      "cell_type": "code",
      "execution_count": null,
      "metadata": {
        "id": "EwW30Iada3lU"
      },
      "outputs": [],
      "source": [
        "# Importing libraries\n",
        "import numpy as np\n",
        "import pandas as pd\n",
        "import matplotlib.pyplot as plt\n",
        "import seaborn as sns\n",
        "from sklearn.feature_selection import VarianceThreshold      # for Feature selection\n",
        "from sklearn.feature_selection import mutual_info_classif    # Feature selection - mutual information\n",
        "from sklearn.model_selection import train_test_split\n",
        "from imblearn.combine import SMOTETomek\n",
        "from sklearn.preprocessing import LabelEncoder\n",
        "from sklearn.preprocessing import OneHotEncoder\n",
        "from collections import Counter\n",
        "from sklearn.ensemble import IsolationForest\n",
        "\n"
      ]
    },
    {
      "cell_type": "markdown",
      "source": [
        "# **Reading data from pickle file**"
      ],
      "metadata": {
        "id": "M5WKPrxa_Nze"
      }
    },
    {
      "cell_type": "code",
      "source": [
        "import pickle\n",
        "import joblib \n",
        "import pandas as pd\n",
        "\n",
        "# joblib.dump(FinalXGboostModel, r'/gdrive/MyDrive/PGD_project/FinalXGboostModel.pkl') \n",
        "# model = joblib.load(r'/gdrive/MyDrive/PGD_project/FinalXGboostModel.pkl') \n",
        "# model.predict(X_test)\n",
        "\n",
        "DataForML_t=pd.read_pickle(r'/gdrive/MyDrive/PGD_project/DataForML_t.pkl')"
      ],
      "metadata": {
        "id": "LaaXeUiz_MkF"
      },
      "execution_count": null,
      "outputs": []
    },
    {
      "cell_type": "code",
      "source": [
        "DataForML_t.head()"
      ],
      "metadata": {
        "colab": {
          "base_uri": "https://localhost:8080/",
          "height": 339
        },
        "id": "SS-mKXtyQxtc",
        "outputId": "c3eb19c0-fa3e-4a98-dc5b-510d105f9c54"
      },
      "execution_count": null,
      "outputs": [
        {
          "output_type": "execute_result",
          "data": {
            "text/html": [
              "\n",
              "  <div id=\"df-6c4b65ae-5348-4a47-8cc6-13f2767341e7\">\n",
              "    <div class=\"colab-df-container\">\n",
              "      <div>\n",
              "<style scoped>\n",
              "    .dataframe tbody tr th:only-of-type {\n",
              "        vertical-align: middle;\n",
              "    }\n",
              "\n",
              "    .dataframe tbody tr th {\n",
              "        vertical-align: top;\n",
              "    }\n",
              "\n",
              "    .dataframe thead th {\n",
              "        text-align: right;\n",
              "    }\n",
              "</style>\n",
              "<table border=\"1\" class=\"dataframe\">\n",
              "  <thead>\n",
              "    <tr style=\"text-align: right;\">\n",
              "      <th></th>\n",
              "      <th>TARGET</th>\n",
              "      <th>AGE</th>\n",
              "      <th>AMT_CREDIT</th>\n",
              "      <th>AMT_INCOME_TOTAL</th>\n",
              "      <th>CNT_FAM_MEMBERS</th>\n",
              "      <th>YEARS_EMPLOYED</th>\n",
              "      <th>AMT_ANNUITY</th>\n",
              "      <th>FLAG_EMP_PHONE</th>\n",
              "      <th>FLAG_WORK_PHONE</th>\n",
              "      <th>FLAG_PHONE</th>\n",
              "      <th>FLAG_DOCUMENT_3</th>\n",
              "      <th>FLAG_DOCUMENT_6</th>\n",
              "      <th>REGION_RATING_CLIENT</th>\n",
              "      <th>REGION_RATING_CLIENT_W_CITY</th>\n",
              "      <th>REG_CITY_NOT_LIVE_CITY</th>\n",
              "      <th>REG_CITY_NOT_WORK_CITY</th>\n",
              "      <th>EXT_SOURCE_2</th>\n",
              "      <th>AMT_REQ_CREDIT_BUREAU_YEAR</th>\n",
              "      <th>DAYS_REGISTRATION</th>\n",
              "      <th>DAYS_ID_PUBLISH</th>\n",
              "      <th>OBS_30_CNT_SOCIAL_CIRCLE</th>\n",
              "      <th>DEF_30_CNT_SOCIAL_CIRCLE</th>\n",
              "      <th>CODE_GENDER</th>\n",
              "      <th>FLAG_OWN_CAR</th>\n",
              "      <th>NAME_INCOME_TYPE</th>\n",
              "      <th>NAME_FAMILY_STATUS</th>\n",
              "      <th>NAME_HOUSING_TYPE</th>\n",
              "      <th>NAME_EDUCATION_TYPE</th>\n",
              "      <th>NAME_CONTRACT_TYPE</th>\n",
              "      <th>FLAG_OWN_REALTY</th>\n",
              "      <th>NAME_TYPE_SUITE</th>\n",
              "      <th>ORGANIZATION_TYPE</th>\n",
              "    </tr>\n",
              "  </thead>\n",
              "  <tbody>\n",
              "    <tr>\n",
              "      <th>0</th>\n",
              "      <td>1</td>\n",
              "      <td>25.0</td>\n",
              "      <td>406597.5</td>\n",
              "      <td>202500.0</td>\n",
              "      <td>1.0</td>\n",
              "      <td>1.0</td>\n",
              "      <td>24700.5</td>\n",
              "      <td>1</td>\n",
              "      <td>0</td>\n",
              "      <td>1</td>\n",
              "      <td>1</td>\n",
              "      <td>0</td>\n",
              "      <td>2</td>\n",
              "      <td>2</td>\n",
              "      <td>0</td>\n",
              "      <td>0</td>\n",
              "      <td>0.262949</td>\n",
              "      <td>1</td>\n",
              "      <td>3648.0</td>\n",
              "      <td>2120</td>\n",
              "      <td>2</td>\n",
              "      <td>2.0</td>\n",
              "      <td>Male</td>\n",
              "      <td>N</td>\n",
              "      <td>Working</td>\n",
              "      <td>Single / not married</td>\n",
              "      <td>House / apartment</td>\n",
              "      <td>Secondary / secondary special</td>\n",
              "      <td>Cash loans</td>\n",
              "      <td>Y</td>\n",
              "      <td>Unaccompanied</td>\n",
              "      <td>Business Entity Type 3</td>\n",
              "    </tr>\n",
              "    <tr>\n",
              "      <th>1</th>\n",
              "      <td>0</td>\n",
              "      <td>45.0</td>\n",
              "      <td>1293502.5</td>\n",
              "      <td>270000.0</td>\n",
              "      <td>2.0</td>\n",
              "      <td>3.0</td>\n",
              "      <td>35698.5</td>\n",
              "      <td>1</td>\n",
              "      <td>0</td>\n",
              "      <td>1</td>\n",
              "      <td>1</td>\n",
              "      <td>0</td>\n",
              "      <td>1</td>\n",
              "      <td>1</td>\n",
              "      <td>0</td>\n",
              "      <td>0</td>\n",
              "      <td>0.622246</td>\n",
              "      <td>0</td>\n",
              "      <td>1186.0</td>\n",
              "      <td>291</td>\n",
              "      <td>1</td>\n",
              "      <td>0.0</td>\n",
              "      <td>Female</td>\n",
              "      <td>N</td>\n",
              "      <td>State servant</td>\n",
              "      <td>Married</td>\n",
              "      <td>House / apartment</td>\n",
              "      <td>Higher education</td>\n",
              "      <td>Cash loans</td>\n",
              "      <td>N</td>\n",
              "      <td>Family</td>\n",
              "      <td>School</td>\n",
              "    </tr>\n",
              "    <tr>\n",
              "      <th>2</th>\n",
              "      <td>0</td>\n",
              "      <td>52.0</td>\n",
              "      <td>135000.0</td>\n",
              "      <td>67500.0</td>\n",
              "      <td>1.0</td>\n",
              "      <td>0.0</td>\n",
              "      <td>6750.0</td>\n",
              "      <td>1</td>\n",
              "      <td>1</td>\n",
              "      <td>1</td>\n",
              "      <td>0</td>\n",
              "      <td>0</td>\n",
              "      <td>2</td>\n",
              "      <td>2</td>\n",
              "      <td>0</td>\n",
              "      <td>0</td>\n",
              "      <td>0.555912</td>\n",
              "      <td>0</td>\n",
              "      <td>4260.0</td>\n",
              "      <td>2531</td>\n",
              "      <td>0</td>\n",
              "      <td>0.0</td>\n",
              "      <td>Male</td>\n",
              "      <td>Y</td>\n",
              "      <td>Working</td>\n",
              "      <td>Single / not married</td>\n",
              "      <td>House / apartment</td>\n",
              "      <td>Secondary / secondary special</td>\n",
              "      <td>Revolving loans</td>\n",
              "      <td>Y</td>\n",
              "      <td>Unaccompanied</td>\n",
              "      <td>Government</td>\n",
              "    </tr>\n",
              "    <tr>\n",
              "      <th>3</th>\n",
              "      <td>0</td>\n",
              "      <td>52.0</td>\n",
              "      <td>312682.5</td>\n",
              "      <td>135000.0</td>\n",
              "      <td>2.0</td>\n",
              "      <td>8.0</td>\n",
              "      <td>29686.5</td>\n",
              "      <td>1</td>\n",
              "      <td>0</td>\n",
              "      <td>0</td>\n",
              "      <td>1</td>\n",
              "      <td>0</td>\n",
              "      <td>2</td>\n",
              "      <td>2</td>\n",
              "      <td>0</td>\n",
              "      <td>0</td>\n",
              "      <td>0.650442</td>\n",
              "      <td>0</td>\n",
              "      <td>9833.0</td>\n",
              "      <td>2437</td>\n",
              "      <td>2</td>\n",
              "      <td>0.0</td>\n",
              "      <td>Female</td>\n",
              "      <td>N</td>\n",
              "      <td>Working</td>\n",
              "      <td>Civil marriage</td>\n",
              "      <td>House / apartment</td>\n",
              "      <td>Secondary / secondary special</td>\n",
              "      <td>Cash loans</td>\n",
              "      <td>Y</td>\n",
              "      <td>Unaccompanied</td>\n",
              "      <td>Business Entity Type 3</td>\n",
              "    </tr>\n",
              "    <tr>\n",
              "      <th>4</th>\n",
              "      <td>0</td>\n",
              "      <td>54.0</td>\n",
              "      <td>513000.0</td>\n",
              "      <td>121500.0</td>\n",
              "      <td>1.0</td>\n",
              "      <td>8.0</td>\n",
              "      <td>21865.5</td>\n",
              "      <td>1</td>\n",
              "      <td>0</td>\n",
              "      <td>0</td>\n",
              "      <td>0</td>\n",
              "      <td>0</td>\n",
              "      <td>2</td>\n",
              "      <td>2</td>\n",
              "      <td>0</td>\n",
              "      <td>1</td>\n",
              "      <td>0.322738</td>\n",
              "      <td>0</td>\n",
              "      <td>4311.0</td>\n",
              "      <td>3458</td>\n",
              "      <td>0</td>\n",
              "      <td>0.0</td>\n",
              "      <td>Male</td>\n",
              "      <td>N</td>\n",
              "      <td>Working</td>\n",
              "      <td>Single / not married</td>\n",
              "      <td>House / apartment</td>\n",
              "      <td>Secondary / secondary special</td>\n",
              "      <td>Cash loans</td>\n",
              "      <td>Y</td>\n",
              "      <td>Unaccompanied</td>\n",
              "      <td>Religion</td>\n",
              "    </tr>\n",
              "  </tbody>\n",
              "</table>\n",
              "</div>\n",
              "      <button class=\"colab-df-convert\" onclick=\"convertToInteractive('df-6c4b65ae-5348-4a47-8cc6-13f2767341e7')\"\n",
              "              title=\"Convert this dataframe to an interactive table.\"\n",
              "              style=\"display:none;\">\n",
              "        \n",
              "  <svg xmlns=\"http://www.w3.org/2000/svg\" height=\"24px\"viewBox=\"0 0 24 24\"\n",
              "       width=\"24px\">\n",
              "    <path d=\"M0 0h24v24H0V0z\" fill=\"none\"/>\n",
              "    <path d=\"M18.56 5.44l.94 2.06.94-2.06 2.06-.94-2.06-.94-.94-2.06-.94 2.06-2.06.94zm-11 1L8.5 8.5l.94-2.06 2.06-.94-2.06-.94L8.5 2.5l-.94 2.06-2.06.94zm10 10l.94 2.06.94-2.06 2.06-.94-2.06-.94-.94-2.06-.94 2.06-2.06.94z\"/><path d=\"M17.41 7.96l-1.37-1.37c-.4-.4-.92-.59-1.43-.59-.52 0-1.04.2-1.43.59L10.3 9.45l-7.72 7.72c-.78.78-.78 2.05 0 2.83L4 21.41c.39.39.9.59 1.41.59.51 0 1.02-.2 1.41-.59l7.78-7.78 2.81-2.81c.8-.78.8-2.07 0-2.86zM5.41 20L4 18.59l7.72-7.72 1.47 1.35L5.41 20z\"/>\n",
              "  </svg>\n",
              "      </button>\n",
              "      \n",
              "  <style>\n",
              "    .colab-df-container {\n",
              "      display:flex;\n",
              "      flex-wrap:wrap;\n",
              "      gap: 12px;\n",
              "    }\n",
              "\n",
              "    .colab-df-convert {\n",
              "      background-color: #E8F0FE;\n",
              "      border: none;\n",
              "      border-radius: 50%;\n",
              "      cursor: pointer;\n",
              "      display: none;\n",
              "      fill: #1967D2;\n",
              "      height: 32px;\n",
              "      padding: 0 0 0 0;\n",
              "      width: 32px;\n",
              "    }\n",
              "\n",
              "    .colab-df-convert:hover {\n",
              "      background-color: #E2EBFA;\n",
              "      box-shadow: 0px 1px 2px rgba(60, 64, 67, 0.3), 0px 1px 3px 1px rgba(60, 64, 67, 0.15);\n",
              "      fill: #174EA6;\n",
              "    }\n",
              "\n",
              "    [theme=dark] .colab-df-convert {\n",
              "      background-color: #3B4455;\n",
              "      fill: #D2E3FC;\n",
              "    }\n",
              "\n",
              "    [theme=dark] .colab-df-convert:hover {\n",
              "      background-color: #434B5C;\n",
              "      box-shadow: 0px 1px 3px 1px rgba(0, 0, 0, 0.15);\n",
              "      filter: drop-shadow(0px 1px 2px rgba(0, 0, 0, 0.3));\n",
              "      fill: #FFFFFF;\n",
              "    }\n",
              "  </style>\n",
              "\n",
              "      <script>\n",
              "        const buttonEl =\n",
              "          document.querySelector('#df-6c4b65ae-5348-4a47-8cc6-13f2767341e7 button.colab-df-convert');\n",
              "        buttonEl.style.display =\n",
              "          google.colab.kernel.accessAllowed ? 'block' : 'none';\n",
              "\n",
              "        async function convertToInteractive(key) {\n",
              "          const element = document.querySelector('#df-6c4b65ae-5348-4a47-8cc6-13f2767341e7');\n",
              "          const dataTable =\n",
              "            await google.colab.kernel.invokeFunction('convertToInteractive',\n",
              "                                                     [key], {});\n",
              "          if (!dataTable) return;\n",
              "\n",
              "          const docLinkHtml = 'Like what you see? Visit the ' +\n",
              "            '<a target=\"_blank\" href=https://colab.research.google.com/notebooks/data_table.ipynb>data table notebook</a>'\n",
              "            + ' to learn more about interactive tables.';\n",
              "          element.innerHTML = '';\n",
              "          dataTable['output_type'] = 'display_data';\n",
              "          await google.colab.output.renderOutput(dataTable, element);\n",
              "          const docLink = document.createElement('div');\n",
              "          docLink.innerHTML = docLinkHtml;\n",
              "          element.appendChild(docLink);\n",
              "        }\n",
              "      </script>\n",
              "    </div>\n",
              "  </div>\n",
              "  "
            ],
            "text/plain": [
              "   TARGET   AGE  ...  NAME_TYPE_SUITE       ORGANIZATION_TYPE\n",
              "0       1  25.0  ...    Unaccompanied  Business Entity Type 3\n",
              "1       0  45.0  ...           Family                  School\n",
              "2       0  52.0  ...    Unaccompanied              Government\n",
              "3       0  52.0  ...    Unaccompanied  Business Entity Type 3\n",
              "4       0  54.0  ...    Unaccompanied                Religion\n",
              "\n",
              "[5 rows x 32 columns]"
            ]
          },
          "metadata": {},
          "execution_count": 5
        }
      ]
    },
    {
      "cell_type": "code",
      "source": [
        "DataForML_t['CODE_GENDER'].replace({'Male':1, 'Female':0}, inplace=True)\n",
        "DataForML_t['FLAG_OWN_CAR'].replace({'Y':1, 'N':0}, inplace=True)\n",
        "DataForML_t['NAME_CONTRACT_TYPE'].replace({'Revolving loans':1, 'Cash loans':0}, inplace=True)\n",
        "DataForML_t['FLAG_OWN_REALTY'].replace({'Y':1, 'N':0}, inplace=True)"
      ],
      "metadata": {
        "id": "C5dCE_tdSjys"
      },
      "execution_count": null,
      "outputs": []
    },
    {
      "cell_type": "code",
      "source": [
        "# Treating all the nominal variables at once using dummy variables\n",
        "DataForML_Numeric=pd.get_dummies(DataForML_t)\n",
        "DataForML_Numeric.head()"
      ],
      "metadata": {
        "colab": {
          "base_uri": "https://localhost:8080/",
          "height": 317
        },
        "id": "-3DDPGNPWkJJ",
        "outputId": "34946366-452e-4d5b-b7cf-63f0642f83fb"
      },
      "execution_count": null,
      "outputs": [
        {
          "output_type": "execute_result",
          "data": {
            "text/html": [
              "\n",
              "  <div id=\"df-0c7138de-4e53-414f-86a9-22f3ee72efc9\">\n",
              "    <div class=\"colab-df-container\">\n",
              "      <div>\n",
              "<style scoped>\n",
              "    .dataframe tbody tr th:only-of-type {\n",
              "        vertical-align: middle;\n",
              "    }\n",
              "\n",
              "    .dataframe tbody tr th {\n",
              "        vertical-align: top;\n",
              "    }\n",
              "\n",
              "    .dataframe thead th {\n",
              "        text-align: right;\n",
              "    }\n",
              "</style>\n",
              "<table border=\"1\" class=\"dataframe\">\n",
              "  <thead>\n",
              "    <tr style=\"text-align: right;\">\n",
              "      <th></th>\n",
              "      <th>TARGET</th>\n",
              "      <th>AGE</th>\n",
              "      <th>AMT_CREDIT</th>\n",
              "      <th>AMT_INCOME_TOTAL</th>\n",
              "      <th>CNT_FAM_MEMBERS</th>\n",
              "      <th>YEARS_EMPLOYED</th>\n",
              "      <th>AMT_ANNUITY</th>\n",
              "      <th>FLAG_EMP_PHONE</th>\n",
              "      <th>FLAG_WORK_PHONE</th>\n",
              "      <th>FLAG_PHONE</th>\n",
              "      <th>FLAG_DOCUMENT_3</th>\n",
              "      <th>FLAG_DOCUMENT_6</th>\n",
              "      <th>REGION_RATING_CLIENT</th>\n",
              "      <th>REGION_RATING_CLIENT_W_CITY</th>\n",
              "      <th>REG_CITY_NOT_LIVE_CITY</th>\n",
              "      <th>REG_CITY_NOT_WORK_CITY</th>\n",
              "      <th>EXT_SOURCE_2</th>\n",
              "      <th>AMT_REQ_CREDIT_BUREAU_YEAR</th>\n",
              "      <th>DAYS_REGISTRATION</th>\n",
              "      <th>DAYS_ID_PUBLISH</th>\n",
              "      <th>OBS_30_CNT_SOCIAL_CIRCLE</th>\n",
              "      <th>DEF_30_CNT_SOCIAL_CIRCLE</th>\n",
              "      <th>CODE_GENDER</th>\n",
              "      <th>FLAG_OWN_CAR</th>\n",
              "      <th>NAME_CONTRACT_TYPE</th>\n",
              "      <th>FLAG_OWN_REALTY</th>\n",
              "      <th>NAME_INCOME_TYPE_Businessman</th>\n",
              "      <th>NAME_INCOME_TYPE_Commercial associate</th>\n",
              "      <th>NAME_INCOME_TYPE_Maternity leave</th>\n",
              "      <th>NAME_INCOME_TYPE_Pensioner</th>\n",
              "      <th>NAME_INCOME_TYPE_State servant</th>\n",
              "      <th>NAME_INCOME_TYPE_Student</th>\n",
              "      <th>NAME_INCOME_TYPE_Unemployed</th>\n",
              "      <th>NAME_INCOME_TYPE_Working</th>\n",
              "      <th>NAME_FAMILY_STATUS_Civil marriage</th>\n",
              "      <th>NAME_FAMILY_STATUS_Married</th>\n",
              "      <th>NAME_FAMILY_STATUS_Separated</th>\n",
              "      <th>NAME_FAMILY_STATUS_Single / not married</th>\n",
              "      <th>NAME_FAMILY_STATUS_Unknown</th>\n",
              "      <th>NAME_FAMILY_STATUS_Widow</th>\n",
              "      <th>...</th>\n",
              "      <th>ORGANIZATION_TYPE_Industry: type 13</th>\n",
              "      <th>ORGANIZATION_TYPE_Industry: type 2</th>\n",
              "      <th>ORGANIZATION_TYPE_Industry: type 3</th>\n",
              "      <th>ORGANIZATION_TYPE_Industry: type 4</th>\n",
              "      <th>ORGANIZATION_TYPE_Industry: type 5</th>\n",
              "      <th>ORGANIZATION_TYPE_Industry: type 6</th>\n",
              "      <th>ORGANIZATION_TYPE_Industry: type 7</th>\n",
              "      <th>ORGANIZATION_TYPE_Industry: type 8</th>\n",
              "      <th>ORGANIZATION_TYPE_Industry: type 9</th>\n",
              "      <th>ORGANIZATION_TYPE_Insurance</th>\n",
              "      <th>ORGANIZATION_TYPE_Kindergarten</th>\n",
              "      <th>ORGANIZATION_TYPE_Legal Services</th>\n",
              "      <th>ORGANIZATION_TYPE_Medicine</th>\n",
              "      <th>ORGANIZATION_TYPE_Military</th>\n",
              "      <th>ORGANIZATION_TYPE_Mobile</th>\n",
              "      <th>ORGANIZATION_TYPE_Other</th>\n",
              "      <th>ORGANIZATION_TYPE_Police</th>\n",
              "      <th>ORGANIZATION_TYPE_Postal</th>\n",
              "      <th>ORGANIZATION_TYPE_Realtor</th>\n",
              "      <th>ORGANIZATION_TYPE_Religion</th>\n",
              "      <th>ORGANIZATION_TYPE_Restaurant</th>\n",
              "      <th>ORGANIZATION_TYPE_School</th>\n",
              "      <th>ORGANIZATION_TYPE_Security</th>\n",
              "      <th>ORGANIZATION_TYPE_Security Ministries</th>\n",
              "      <th>ORGANIZATION_TYPE_Self-employed</th>\n",
              "      <th>ORGANIZATION_TYPE_Services</th>\n",
              "      <th>ORGANIZATION_TYPE_Telecom</th>\n",
              "      <th>ORGANIZATION_TYPE_Trade: type 1</th>\n",
              "      <th>ORGANIZATION_TYPE_Trade: type 2</th>\n",
              "      <th>ORGANIZATION_TYPE_Trade: type 3</th>\n",
              "      <th>ORGANIZATION_TYPE_Trade: type 4</th>\n",
              "      <th>ORGANIZATION_TYPE_Trade: type 5</th>\n",
              "      <th>ORGANIZATION_TYPE_Trade: type 6</th>\n",
              "      <th>ORGANIZATION_TYPE_Trade: type 7</th>\n",
              "      <th>ORGANIZATION_TYPE_Transport: type 1</th>\n",
              "      <th>ORGANIZATION_TYPE_Transport: type 2</th>\n",
              "      <th>ORGANIZATION_TYPE_Transport: type 3</th>\n",
              "      <th>ORGANIZATION_TYPE_Transport: type 4</th>\n",
              "      <th>ORGANIZATION_TYPE_University</th>\n",
              "      <th>ORGANIZATION_TYPE_XNA</th>\n",
              "    </tr>\n",
              "  </thead>\n",
              "  <tbody>\n",
              "    <tr>\n",
              "      <th>0</th>\n",
              "      <td>1</td>\n",
              "      <td>25.0</td>\n",
              "      <td>406597.5</td>\n",
              "      <td>202500.0</td>\n",
              "      <td>1.0</td>\n",
              "      <td>1.0</td>\n",
              "      <td>24700.5</td>\n",
              "      <td>1</td>\n",
              "      <td>0</td>\n",
              "      <td>1</td>\n",
              "      <td>1</td>\n",
              "      <td>0</td>\n",
              "      <td>2</td>\n",
              "      <td>2</td>\n",
              "      <td>0</td>\n",
              "      <td>0</td>\n",
              "      <td>0.262949</td>\n",
              "      <td>1</td>\n",
              "      <td>3648.0</td>\n",
              "      <td>2120</td>\n",
              "      <td>2</td>\n",
              "      <td>2.0</td>\n",
              "      <td>1</td>\n",
              "      <td>0</td>\n",
              "      <td>0</td>\n",
              "      <td>1</td>\n",
              "      <td>0</td>\n",
              "      <td>0</td>\n",
              "      <td>0</td>\n",
              "      <td>0</td>\n",
              "      <td>0</td>\n",
              "      <td>0</td>\n",
              "      <td>0</td>\n",
              "      <td>1</td>\n",
              "      <td>0</td>\n",
              "      <td>0</td>\n",
              "      <td>0</td>\n",
              "      <td>1</td>\n",
              "      <td>0</td>\n",
              "      <td>0</td>\n",
              "      <td>...</td>\n",
              "      <td>0</td>\n",
              "      <td>0</td>\n",
              "      <td>0</td>\n",
              "      <td>0</td>\n",
              "      <td>0</td>\n",
              "      <td>0</td>\n",
              "      <td>0</td>\n",
              "      <td>0</td>\n",
              "      <td>0</td>\n",
              "      <td>0</td>\n",
              "      <td>0</td>\n",
              "      <td>0</td>\n",
              "      <td>0</td>\n",
              "      <td>0</td>\n",
              "      <td>0</td>\n",
              "      <td>0</td>\n",
              "      <td>0</td>\n",
              "      <td>0</td>\n",
              "      <td>0</td>\n",
              "      <td>0</td>\n",
              "      <td>0</td>\n",
              "      <td>0</td>\n",
              "      <td>0</td>\n",
              "      <td>0</td>\n",
              "      <td>0</td>\n",
              "      <td>0</td>\n",
              "      <td>0</td>\n",
              "      <td>0</td>\n",
              "      <td>0</td>\n",
              "      <td>0</td>\n",
              "      <td>0</td>\n",
              "      <td>0</td>\n",
              "      <td>0</td>\n",
              "      <td>0</td>\n",
              "      <td>0</td>\n",
              "      <td>0</td>\n",
              "      <td>0</td>\n",
              "      <td>0</td>\n",
              "      <td>0</td>\n",
              "      <td>0</td>\n",
              "    </tr>\n",
              "    <tr>\n",
              "      <th>1</th>\n",
              "      <td>0</td>\n",
              "      <td>45.0</td>\n",
              "      <td>1293502.5</td>\n",
              "      <td>270000.0</td>\n",
              "      <td>2.0</td>\n",
              "      <td>3.0</td>\n",
              "      <td>35698.5</td>\n",
              "      <td>1</td>\n",
              "      <td>0</td>\n",
              "      <td>1</td>\n",
              "      <td>1</td>\n",
              "      <td>0</td>\n",
              "      <td>1</td>\n",
              "      <td>1</td>\n",
              "      <td>0</td>\n",
              "      <td>0</td>\n",
              "      <td>0.622246</td>\n",
              "      <td>0</td>\n",
              "      <td>1186.0</td>\n",
              "      <td>291</td>\n",
              "      <td>1</td>\n",
              "      <td>0.0</td>\n",
              "      <td>0</td>\n",
              "      <td>0</td>\n",
              "      <td>0</td>\n",
              "      <td>0</td>\n",
              "      <td>0</td>\n",
              "      <td>0</td>\n",
              "      <td>0</td>\n",
              "      <td>0</td>\n",
              "      <td>1</td>\n",
              "      <td>0</td>\n",
              "      <td>0</td>\n",
              "      <td>0</td>\n",
              "      <td>0</td>\n",
              "      <td>1</td>\n",
              "      <td>0</td>\n",
              "      <td>0</td>\n",
              "      <td>0</td>\n",
              "      <td>0</td>\n",
              "      <td>...</td>\n",
              "      <td>0</td>\n",
              "      <td>0</td>\n",
              "      <td>0</td>\n",
              "      <td>0</td>\n",
              "      <td>0</td>\n",
              "      <td>0</td>\n",
              "      <td>0</td>\n",
              "      <td>0</td>\n",
              "      <td>0</td>\n",
              "      <td>0</td>\n",
              "      <td>0</td>\n",
              "      <td>0</td>\n",
              "      <td>0</td>\n",
              "      <td>0</td>\n",
              "      <td>0</td>\n",
              "      <td>0</td>\n",
              "      <td>0</td>\n",
              "      <td>0</td>\n",
              "      <td>0</td>\n",
              "      <td>0</td>\n",
              "      <td>0</td>\n",
              "      <td>1</td>\n",
              "      <td>0</td>\n",
              "      <td>0</td>\n",
              "      <td>0</td>\n",
              "      <td>0</td>\n",
              "      <td>0</td>\n",
              "      <td>0</td>\n",
              "      <td>0</td>\n",
              "      <td>0</td>\n",
              "      <td>0</td>\n",
              "      <td>0</td>\n",
              "      <td>0</td>\n",
              "      <td>0</td>\n",
              "      <td>0</td>\n",
              "      <td>0</td>\n",
              "      <td>0</td>\n",
              "      <td>0</td>\n",
              "      <td>0</td>\n",
              "      <td>0</td>\n",
              "    </tr>\n",
              "    <tr>\n",
              "      <th>2</th>\n",
              "      <td>0</td>\n",
              "      <td>52.0</td>\n",
              "      <td>135000.0</td>\n",
              "      <td>67500.0</td>\n",
              "      <td>1.0</td>\n",
              "      <td>0.0</td>\n",
              "      <td>6750.0</td>\n",
              "      <td>1</td>\n",
              "      <td>1</td>\n",
              "      <td>1</td>\n",
              "      <td>0</td>\n",
              "      <td>0</td>\n",
              "      <td>2</td>\n",
              "      <td>2</td>\n",
              "      <td>0</td>\n",
              "      <td>0</td>\n",
              "      <td>0.555912</td>\n",
              "      <td>0</td>\n",
              "      <td>4260.0</td>\n",
              "      <td>2531</td>\n",
              "      <td>0</td>\n",
              "      <td>0.0</td>\n",
              "      <td>1</td>\n",
              "      <td>1</td>\n",
              "      <td>1</td>\n",
              "      <td>1</td>\n",
              "      <td>0</td>\n",
              "      <td>0</td>\n",
              "      <td>0</td>\n",
              "      <td>0</td>\n",
              "      <td>0</td>\n",
              "      <td>0</td>\n",
              "      <td>0</td>\n",
              "      <td>1</td>\n",
              "      <td>0</td>\n",
              "      <td>0</td>\n",
              "      <td>0</td>\n",
              "      <td>1</td>\n",
              "      <td>0</td>\n",
              "      <td>0</td>\n",
              "      <td>...</td>\n",
              "      <td>0</td>\n",
              "      <td>0</td>\n",
              "      <td>0</td>\n",
              "      <td>0</td>\n",
              "      <td>0</td>\n",
              "      <td>0</td>\n",
              "      <td>0</td>\n",
              "      <td>0</td>\n",
              "      <td>0</td>\n",
              "      <td>0</td>\n",
              "      <td>0</td>\n",
              "      <td>0</td>\n",
              "      <td>0</td>\n",
              "      <td>0</td>\n",
              "      <td>0</td>\n",
              "      <td>0</td>\n",
              "      <td>0</td>\n",
              "      <td>0</td>\n",
              "      <td>0</td>\n",
              "      <td>0</td>\n",
              "      <td>0</td>\n",
              "      <td>0</td>\n",
              "      <td>0</td>\n",
              "      <td>0</td>\n",
              "      <td>0</td>\n",
              "      <td>0</td>\n",
              "      <td>0</td>\n",
              "      <td>0</td>\n",
              "      <td>0</td>\n",
              "      <td>0</td>\n",
              "      <td>0</td>\n",
              "      <td>0</td>\n",
              "      <td>0</td>\n",
              "      <td>0</td>\n",
              "      <td>0</td>\n",
              "      <td>0</td>\n",
              "      <td>0</td>\n",
              "      <td>0</td>\n",
              "      <td>0</td>\n",
              "      <td>0</td>\n",
              "    </tr>\n",
              "    <tr>\n",
              "      <th>3</th>\n",
              "      <td>0</td>\n",
              "      <td>52.0</td>\n",
              "      <td>312682.5</td>\n",
              "      <td>135000.0</td>\n",
              "      <td>2.0</td>\n",
              "      <td>8.0</td>\n",
              "      <td>29686.5</td>\n",
              "      <td>1</td>\n",
              "      <td>0</td>\n",
              "      <td>0</td>\n",
              "      <td>1</td>\n",
              "      <td>0</td>\n",
              "      <td>2</td>\n",
              "      <td>2</td>\n",
              "      <td>0</td>\n",
              "      <td>0</td>\n",
              "      <td>0.650442</td>\n",
              "      <td>0</td>\n",
              "      <td>9833.0</td>\n",
              "      <td>2437</td>\n",
              "      <td>2</td>\n",
              "      <td>0.0</td>\n",
              "      <td>0</td>\n",
              "      <td>0</td>\n",
              "      <td>0</td>\n",
              "      <td>1</td>\n",
              "      <td>0</td>\n",
              "      <td>0</td>\n",
              "      <td>0</td>\n",
              "      <td>0</td>\n",
              "      <td>0</td>\n",
              "      <td>0</td>\n",
              "      <td>0</td>\n",
              "      <td>1</td>\n",
              "      <td>1</td>\n",
              "      <td>0</td>\n",
              "      <td>0</td>\n",
              "      <td>0</td>\n",
              "      <td>0</td>\n",
              "      <td>0</td>\n",
              "      <td>...</td>\n",
              "      <td>0</td>\n",
              "      <td>0</td>\n",
              "      <td>0</td>\n",
              "      <td>0</td>\n",
              "      <td>0</td>\n",
              "      <td>0</td>\n",
              "      <td>0</td>\n",
              "      <td>0</td>\n",
              "      <td>0</td>\n",
              "      <td>0</td>\n",
              "      <td>0</td>\n",
              "      <td>0</td>\n",
              "      <td>0</td>\n",
              "      <td>0</td>\n",
              "      <td>0</td>\n",
              "      <td>0</td>\n",
              "      <td>0</td>\n",
              "      <td>0</td>\n",
              "      <td>0</td>\n",
              "      <td>0</td>\n",
              "      <td>0</td>\n",
              "      <td>0</td>\n",
              "      <td>0</td>\n",
              "      <td>0</td>\n",
              "      <td>0</td>\n",
              "      <td>0</td>\n",
              "      <td>0</td>\n",
              "      <td>0</td>\n",
              "      <td>0</td>\n",
              "      <td>0</td>\n",
              "      <td>0</td>\n",
              "      <td>0</td>\n",
              "      <td>0</td>\n",
              "      <td>0</td>\n",
              "      <td>0</td>\n",
              "      <td>0</td>\n",
              "      <td>0</td>\n",
              "      <td>0</td>\n",
              "      <td>0</td>\n",
              "      <td>0</td>\n",
              "    </tr>\n",
              "    <tr>\n",
              "      <th>4</th>\n",
              "      <td>0</td>\n",
              "      <td>54.0</td>\n",
              "      <td>513000.0</td>\n",
              "      <td>121500.0</td>\n",
              "      <td>1.0</td>\n",
              "      <td>8.0</td>\n",
              "      <td>21865.5</td>\n",
              "      <td>1</td>\n",
              "      <td>0</td>\n",
              "      <td>0</td>\n",
              "      <td>0</td>\n",
              "      <td>0</td>\n",
              "      <td>2</td>\n",
              "      <td>2</td>\n",
              "      <td>0</td>\n",
              "      <td>1</td>\n",
              "      <td>0.322738</td>\n",
              "      <td>0</td>\n",
              "      <td>4311.0</td>\n",
              "      <td>3458</td>\n",
              "      <td>0</td>\n",
              "      <td>0.0</td>\n",
              "      <td>1</td>\n",
              "      <td>0</td>\n",
              "      <td>0</td>\n",
              "      <td>1</td>\n",
              "      <td>0</td>\n",
              "      <td>0</td>\n",
              "      <td>0</td>\n",
              "      <td>0</td>\n",
              "      <td>0</td>\n",
              "      <td>0</td>\n",
              "      <td>0</td>\n",
              "      <td>1</td>\n",
              "      <td>0</td>\n",
              "      <td>0</td>\n",
              "      <td>0</td>\n",
              "      <td>1</td>\n",
              "      <td>0</td>\n",
              "      <td>0</td>\n",
              "      <td>...</td>\n",
              "      <td>0</td>\n",
              "      <td>0</td>\n",
              "      <td>0</td>\n",
              "      <td>0</td>\n",
              "      <td>0</td>\n",
              "      <td>0</td>\n",
              "      <td>0</td>\n",
              "      <td>0</td>\n",
              "      <td>0</td>\n",
              "      <td>0</td>\n",
              "      <td>0</td>\n",
              "      <td>0</td>\n",
              "      <td>0</td>\n",
              "      <td>0</td>\n",
              "      <td>0</td>\n",
              "      <td>0</td>\n",
              "      <td>0</td>\n",
              "      <td>0</td>\n",
              "      <td>0</td>\n",
              "      <td>1</td>\n",
              "      <td>0</td>\n",
              "      <td>0</td>\n",
              "      <td>0</td>\n",
              "      <td>0</td>\n",
              "      <td>0</td>\n",
              "      <td>0</td>\n",
              "      <td>0</td>\n",
              "      <td>0</td>\n",
              "      <td>0</td>\n",
              "      <td>0</td>\n",
              "      <td>0</td>\n",
              "      <td>0</td>\n",
              "      <td>0</td>\n",
              "      <td>0</td>\n",
              "      <td>0</td>\n",
              "      <td>0</td>\n",
              "      <td>0</td>\n",
              "      <td>0</td>\n",
              "      <td>0</td>\n",
              "      <td>0</td>\n",
              "    </tr>\n",
              "  </tbody>\n",
              "</table>\n",
              "<p>5 rows × 116 columns</p>\n",
              "</div>\n",
              "      <button class=\"colab-df-convert\" onclick=\"convertToInteractive('df-0c7138de-4e53-414f-86a9-22f3ee72efc9')\"\n",
              "              title=\"Convert this dataframe to an interactive table.\"\n",
              "              style=\"display:none;\">\n",
              "        \n",
              "  <svg xmlns=\"http://www.w3.org/2000/svg\" height=\"24px\"viewBox=\"0 0 24 24\"\n",
              "       width=\"24px\">\n",
              "    <path d=\"M0 0h24v24H0V0z\" fill=\"none\"/>\n",
              "    <path d=\"M18.56 5.44l.94 2.06.94-2.06 2.06-.94-2.06-.94-.94-2.06-.94 2.06-2.06.94zm-11 1L8.5 8.5l.94-2.06 2.06-.94-2.06-.94L8.5 2.5l-.94 2.06-2.06.94zm10 10l.94 2.06.94-2.06 2.06-.94-2.06-.94-.94-2.06-.94 2.06-2.06.94z\"/><path d=\"M17.41 7.96l-1.37-1.37c-.4-.4-.92-.59-1.43-.59-.52 0-1.04.2-1.43.59L10.3 9.45l-7.72 7.72c-.78.78-.78 2.05 0 2.83L4 21.41c.39.39.9.59 1.41.59.51 0 1.02-.2 1.41-.59l7.78-7.78 2.81-2.81c.8-.78.8-2.07 0-2.86zM5.41 20L4 18.59l7.72-7.72 1.47 1.35L5.41 20z\"/>\n",
              "  </svg>\n",
              "      </button>\n",
              "      \n",
              "  <style>\n",
              "    .colab-df-container {\n",
              "      display:flex;\n",
              "      flex-wrap:wrap;\n",
              "      gap: 12px;\n",
              "    }\n",
              "\n",
              "    .colab-df-convert {\n",
              "      background-color: #E8F0FE;\n",
              "      border: none;\n",
              "      border-radius: 50%;\n",
              "      cursor: pointer;\n",
              "      display: none;\n",
              "      fill: #1967D2;\n",
              "      height: 32px;\n",
              "      padding: 0 0 0 0;\n",
              "      width: 32px;\n",
              "    }\n",
              "\n",
              "    .colab-df-convert:hover {\n",
              "      background-color: #E2EBFA;\n",
              "      box-shadow: 0px 1px 2px rgba(60, 64, 67, 0.3), 0px 1px 3px 1px rgba(60, 64, 67, 0.15);\n",
              "      fill: #174EA6;\n",
              "    }\n",
              "\n",
              "    [theme=dark] .colab-df-convert {\n",
              "      background-color: #3B4455;\n",
              "      fill: #D2E3FC;\n",
              "    }\n",
              "\n",
              "    [theme=dark] .colab-df-convert:hover {\n",
              "      background-color: #434B5C;\n",
              "      box-shadow: 0px 1px 3px 1px rgba(0, 0, 0, 0.15);\n",
              "      filter: drop-shadow(0px 1px 2px rgba(0, 0, 0, 0.3));\n",
              "      fill: #FFFFFF;\n",
              "    }\n",
              "  </style>\n",
              "\n",
              "      <script>\n",
              "        const buttonEl =\n",
              "          document.querySelector('#df-0c7138de-4e53-414f-86a9-22f3ee72efc9 button.colab-df-convert');\n",
              "        buttonEl.style.display =\n",
              "          google.colab.kernel.accessAllowed ? 'block' : 'none';\n",
              "\n",
              "        async function convertToInteractive(key) {\n",
              "          const element = document.querySelector('#df-0c7138de-4e53-414f-86a9-22f3ee72efc9');\n",
              "          const dataTable =\n",
              "            await google.colab.kernel.invokeFunction('convertToInteractive',\n",
              "                                                     [key], {});\n",
              "          if (!dataTable) return;\n",
              "\n",
              "          const docLinkHtml = 'Like what you see? Visit the ' +\n",
              "            '<a target=\"_blank\" href=https://colab.research.google.com/notebooks/data_table.ipynb>data table notebook</a>'\n",
              "            + ' to learn more about interactive tables.';\n",
              "          element.innerHTML = '';\n",
              "          dataTable['output_type'] = 'display_data';\n",
              "          await google.colab.output.renderOutput(dataTable, element);\n",
              "          const docLink = document.createElement('div');\n",
              "          docLink.innerHTML = docLinkHtml;\n",
              "          element.appendChild(docLink);\n",
              "        }\n",
              "      </script>\n",
              "    </div>\n",
              "  </div>\n",
              "  "
            ],
            "text/plain": [
              "   TARGET   AGE  ...  ORGANIZATION_TYPE_University  ORGANIZATION_TYPE_XNA\n",
              "0       1  25.0  ...                             0                      0\n",
              "1       0  45.0  ...                             0                      0\n",
              "2       0  52.0  ...                             0                      0\n",
              "3       0  52.0  ...                             0                      0\n",
              "4       0  54.0  ...                             0                      0\n",
              "\n",
              "[5 rows x 116 columns]"
            ]
          },
          "metadata": {},
          "execution_count": 7
        }
      ]
    },
    {
      "cell_type": "code",
      "source": [
        "print(DataForML_Numeric.shape)"
      ],
      "metadata": {
        "colab": {
          "base_uri": "https://localhost:8080/"
        },
        "id": "grmPYyebXNtZ",
        "outputId": "aa290952-d40e-4a11-f5a9-b3bc2baa56ea"
      },
      "execution_count": null,
      "outputs": [
        {
          "output_type": "stream",
          "name": "stdout",
          "text": [
            "(306486, 116)\n"
          ]
        }
      ]
    },
    {
      "cell_type": "code",
      "source": [
        ""
      ],
      "metadata": {
        "id": "L5NUOZJx_HFl"
      },
      "execution_count": null,
      "outputs": []
    },
    {
      "cell_type": "markdown",
      "source": [
        "# **Machine Learning**\n",
        "\n"
      ],
      "metadata": {
        "id": "RlK_dHrvYUB8"
      }
    },
    {
      "cell_type": "code",
      "source": [
        "# Printing all the column names for our reference\n",
        "print(list(DataForML_Numeric.columns))"
      ],
      "metadata": {
        "colab": {
          "base_uri": "https://localhost:8080/"
        },
        "id": "Ce-l8lKFYkw-",
        "outputId": "43c3dadc-caef-4262-ecef-6b9728ec15a9"
      },
      "execution_count": null,
      "outputs": [
        {
          "output_type": "stream",
          "name": "stdout",
          "text": [
            "['TARGET', 'AGE', 'AMT_CREDIT', 'AMT_INCOME_TOTAL', 'CNT_FAM_MEMBERS', 'YEARS_EMPLOYED', 'AMT_ANNUITY', 'FLAG_EMP_PHONE', 'FLAG_WORK_PHONE', 'FLAG_PHONE', 'FLAG_DOCUMENT_3', 'FLAG_DOCUMENT_6', 'REGION_RATING_CLIENT', 'REGION_RATING_CLIENT_W_CITY', 'REG_CITY_NOT_LIVE_CITY', 'REG_CITY_NOT_WORK_CITY', 'EXT_SOURCE_2', 'AMT_REQ_CREDIT_BUREAU_YEAR', 'DAYS_REGISTRATION', 'DAYS_ID_PUBLISH', 'OBS_30_CNT_SOCIAL_CIRCLE', 'DEF_30_CNT_SOCIAL_CIRCLE', 'CODE_GENDER', 'FLAG_OWN_CAR', 'NAME_CONTRACT_TYPE', 'FLAG_OWN_REALTY', 'NAME_INCOME_TYPE_Businessman', 'NAME_INCOME_TYPE_Commercial associate', 'NAME_INCOME_TYPE_Maternity leave', 'NAME_INCOME_TYPE_Pensioner', 'NAME_INCOME_TYPE_State servant', 'NAME_INCOME_TYPE_Student', 'NAME_INCOME_TYPE_Unemployed', 'NAME_INCOME_TYPE_Working', 'NAME_FAMILY_STATUS_Civil marriage', 'NAME_FAMILY_STATUS_Married', 'NAME_FAMILY_STATUS_Separated', 'NAME_FAMILY_STATUS_Single / not married', 'NAME_FAMILY_STATUS_Unknown', 'NAME_FAMILY_STATUS_Widow', 'NAME_HOUSING_TYPE_Co-op apartment', 'NAME_HOUSING_TYPE_House / apartment', 'NAME_HOUSING_TYPE_Municipal apartment', 'NAME_HOUSING_TYPE_Office apartment', 'NAME_HOUSING_TYPE_Rented apartment', 'NAME_HOUSING_TYPE_With parents', 'NAME_EDUCATION_TYPE_Academic degree', 'NAME_EDUCATION_TYPE_Higher education', 'NAME_EDUCATION_TYPE_Incomplete higher', 'NAME_EDUCATION_TYPE_Lower secondary', 'NAME_EDUCATION_TYPE_Secondary / secondary special', 'NAME_TYPE_SUITE_Children', 'NAME_TYPE_SUITE_Family', 'NAME_TYPE_SUITE_Group of people', 'NAME_TYPE_SUITE_Other_A', 'NAME_TYPE_SUITE_Other_B', 'NAME_TYPE_SUITE_Spouse, partner', 'NAME_TYPE_SUITE_Unaccompanied', 'ORGANIZATION_TYPE_Advertising', 'ORGANIZATION_TYPE_Agriculture', 'ORGANIZATION_TYPE_Bank', 'ORGANIZATION_TYPE_Business Entity Type 1', 'ORGANIZATION_TYPE_Business Entity Type 2', 'ORGANIZATION_TYPE_Business Entity Type 3', 'ORGANIZATION_TYPE_Cleaning', 'ORGANIZATION_TYPE_Construction', 'ORGANIZATION_TYPE_Culture', 'ORGANIZATION_TYPE_Electricity', 'ORGANIZATION_TYPE_Emergency', 'ORGANIZATION_TYPE_Government', 'ORGANIZATION_TYPE_Hotel', 'ORGANIZATION_TYPE_Housing', 'ORGANIZATION_TYPE_Industry: type 1', 'ORGANIZATION_TYPE_Industry: type 10', 'ORGANIZATION_TYPE_Industry: type 11', 'ORGANIZATION_TYPE_Industry: type 12', 'ORGANIZATION_TYPE_Industry: type 13', 'ORGANIZATION_TYPE_Industry: type 2', 'ORGANIZATION_TYPE_Industry: type 3', 'ORGANIZATION_TYPE_Industry: type 4', 'ORGANIZATION_TYPE_Industry: type 5', 'ORGANIZATION_TYPE_Industry: type 6', 'ORGANIZATION_TYPE_Industry: type 7', 'ORGANIZATION_TYPE_Industry: type 8', 'ORGANIZATION_TYPE_Industry: type 9', 'ORGANIZATION_TYPE_Insurance', 'ORGANIZATION_TYPE_Kindergarten', 'ORGANIZATION_TYPE_Legal Services', 'ORGANIZATION_TYPE_Medicine', 'ORGANIZATION_TYPE_Military', 'ORGANIZATION_TYPE_Mobile', 'ORGANIZATION_TYPE_Other', 'ORGANIZATION_TYPE_Police', 'ORGANIZATION_TYPE_Postal', 'ORGANIZATION_TYPE_Realtor', 'ORGANIZATION_TYPE_Religion', 'ORGANIZATION_TYPE_Restaurant', 'ORGANIZATION_TYPE_School', 'ORGANIZATION_TYPE_Security', 'ORGANIZATION_TYPE_Security Ministries', 'ORGANIZATION_TYPE_Self-employed', 'ORGANIZATION_TYPE_Services', 'ORGANIZATION_TYPE_Telecom', 'ORGANIZATION_TYPE_Trade: type 1', 'ORGANIZATION_TYPE_Trade: type 2', 'ORGANIZATION_TYPE_Trade: type 3', 'ORGANIZATION_TYPE_Trade: type 4', 'ORGANIZATION_TYPE_Trade: type 5', 'ORGANIZATION_TYPE_Trade: type 6', 'ORGANIZATION_TYPE_Trade: type 7', 'ORGANIZATION_TYPE_Transport: type 1', 'ORGANIZATION_TYPE_Transport: type 2', 'ORGANIZATION_TYPE_Transport: type 3', 'ORGANIZATION_TYPE_Transport: type 4', 'ORGANIZATION_TYPE_University', 'ORGANIZATION_TYPE_XNA']\n"
          ]
        }
      ]
    },
    {
      "cell_type": "code",
      "source": [
        "# Separate Target Variable and Predictor Variables\n",
        "TargetVariable='TARGET'\n",
        "Predictors=[ 'AGE', 'AMT_CREDIT', 'AMT_INCOME_TOTAL', 'CNT_FAM_MEMBERS', 'YEARS_EMPLOYED', 'AMT_ANNUITY', 'FLAG_EMP_PHONE', 'FLAG_WORK_PHONE', 'FLAG_PHONE', \n",
        "             'FLAG_DOCUMENT_3', 'FLAG_DOCUMENT_6', 'REGION_RATING_CLIENT', 'REGION_RATING_CLIENT_W_CITY', 'REG_CITY_NOT_LIVE_CITY', 'REG_CITY_NOT_WORK_CITY', \n",
        "             'EXT_SOURCE_2', 'AMT_REQ_CREDIT_BUREAU_YEAR', 'DAYS_REGISTRATION', 'DAYS_ID_PUBLISH', 'OBS_30_CNT_SOCIAL_CIRCLE', 'DEF_30_CNT_SOCIAL_CIRCLE', \n",
        "             'NAME_CONTRACT_TYPE', 'CODE_GENDER', 'FLAG_OWN_CAR',  'FLAG_OWN_REALTY',\n",
        "             \n",
        "             'NAME_TYPE_SUITE_Unaccompanied', 'NAME_TYPE_SUITE_Family', 'NAME_TYPE_SUITE_Spouse, partner', 'NAME_TYPE_SUITE_Children', \n",
        "             'NAME_TYPE_SUITE_Other_B', 'NAME_TYPE_SUITE_Other_A', 'NAME_TYPE_SUITE_Group of people',\n",
        "             \n",
        "             'NAME_EDUCATION_TYPE_Secondary / secondary special', 'NAME_EDUCATION_TYPE_Higher education', 'NAME_EDUCATION_TYPE_Incomplete higher',\n",
        "             'NAME_EDUCATION_TYPE_Lower secondary', 'NAME_EDUCATION_TYPE_Academic degree',  \n",
        "               \n",
        "             'NAME_FAMILY_STATUS_Married', 'NAME_FAMILY_STATUS_Single / not married', 'NAME_FAMILY_STATUS_Civil marriage', \n",
        "             'NAME_FAMILY_STATUS_Separated', 'NAME_FAMILY_STATUS_Widow', 'NAME_FAMILY_STATUS_Unknown',     \n",
        "\n",
        "             'NAME_HOUSING_TYPE_House / apartment', 'NAME_HOUSING_TYPE_With parents', 'NAME_HOUSING_TYPE_Municipal apartment',  \n",
        "             'NAME_HOUSING_TYPE_Rented apartment', 'NAME_HOUSING_TYPE_Office apartment', 'NAME_HOUSING_TYPE_Co-op apartment',         \n",
        "\n",
        "             'ORGANIZATION_TYPE_Business Entity Type 3', 'ORGANIZATION_TYPE_XNA', 'ORGANIZATION_TYPE_Self-employed', 'ORGANIZATION_TYPE_Other',\n",
        "             'ORGANIZATION_TYPE_Medicine', 'ORGANIZATION_TYPE_Business Entity Type 2', 'ORGANIZATION_TYPE_Government', 'ORGANIZATION_TYPE_School',\n",
        "             'ORGANIZATION_TYPE_Trade: type 7', 'ORGANIZATION_TYPE_Kindergarten', 'ORGANIZATION_TYPE_Construction', 'ORGANIZATION_TYPE_Business Entity Type 1',\n",
        "             'ORGANIZATION_TYPE_Transport: type 4', 'ORGANIZATION_TYPE_Trade: type 3', 'ORGANIZATION_TYPE_Industry: type 9', 'ORGANIZATION_TYPE_Industry: type 3',\n",
        "             'ORGANIZATION_TYPE_Security', 'ORGANIZATION_TYPE_Housing', 'ORGANIZATION_TYPE_Industry: type 11', 'ORGANIZATION_TYPE_Military',\n",
        "             'ORGANIZATION_TYPE_Bank', 'ORGANIZATION_TYPE_Agriculture', 'ORGANIZATION_TYPE_Police', 'ORGANIZATION_TYPE_Transport: type 2',\n",
        "             'ORGANIZATION_TYPE_Postal', 'ORGANIZATION_TYPE_Security Ministries', 'ORGANIZATION_TYPE_Trade: type 2', 'ORGANIZATION_TYPE_Restaurant',\n",
        "             'ORGANIZATION_TYPE_Services', 'ORGANIZATION_TYPE_University', 'ORGANIZATION_TYPE_Industry: type 7', 'ORGANIZATION_TYPE_Transport: type 3',\n",
        "             'ORGANIZATION_TYPE_Industry: type 1', 'ORGANIZATION_TYPE_Hotel', 'ORGANIZATION_TYPE_Electricity', 'ORGANIZATION_TYPE_Industry: type 4',\n",
        "             'ORGANIZATION_TYPE_Trade: type 6', 'ORGANIZATION_TYPE_Industry: type 5', 'ORGANIZATION_TYPE_Insurance', 'ORGANIZATION_TYPE_Telecom',\n",
        "             'ORGANIZATION_TYPE_Emergency', 'ORGANIZATION_TYPE_Industry: type 2', 'ORGANIZATION_TYPE_Advertising', 'ORGANIZATION_TYPE_Realtor',\n",
        "             'ORGANIZATION_TYPE_Culture', 'ORGANIZATION_TYPE_Industry: type 12', 'ORGANIZATION_TYPE_Trade: type 1',\n",
        "             'ORGANIZATION_TYPE_Mobile', 'ORGANIZATION_TYPE_Legal Services', 'ORGANIZATION_TYPE_Cleaning', 'ORGANIZATION_TYPE_Transport: type 1', \n",
        "             'ORGANIZATION_TYPE_Industry: type 6', 'ORGANIZATION_TYPE_Industry: type 10', 'ORGANIZATION_TYPE_Religion', 'ORGANIZATION_TYPE_Industry: type 13',\n",
        "             'ORGANIZATION_TYPE_Trade: type 4', 'ORGANIZATION_TYPE_Trade: type 5', 'ORGANIZATION_TYPE_Industry: type 8',    \n",
        "                  \n",
        "             'NAME_INCOME_TYPE_Working', 'NAME_INCOME_TYPE_Commercial associate', 'NAME_INCOME_TYPE_Pensioner', 'NAME_INCOME_TYPE_State servant', \n",
        "             'NAME_INCOME_TYPE_Unemployed', 'NAME_INCOME_TYPE_Student', 'NAME_INCOME_TYPE_Businessman', 'NAME_INCOME_TYPE_Maternity leave']\n",
        "\n",
        "X_ml=DataForML_Numeric[Predictors].values\n",
        "y_ml=DataForML_Numeric[TargetVariable].values\n",
        "\n",
        "# Split the data into training and testing set\n",
        "from sklearn.model_selection import train_test_split\n",
        "X_train_ml, X_test_ml, y_train_ml, y_test_ml = train_test_split(X_ml, y_ml, test_size=0.3, random_state=428)\n"
      ],
      "metadata": {
        "id": "EksWYWE_YwUJ"
      },
      "execution_count": null,
      "outputs": []
    },
    {
      "cell_type": "markdown",
      "source": [
        "# **Standardization/Normalization of data**"
      ],
      "metadata": {
        "id": "YzMntGYLaor4"
      }
    },
    {
      "cell_type": "code",
      "source": [
        "### Sandardization of data ###\n",
        "from sklearn.preprocessing import StandardScaler, MinMaxScaler\n",
        "# Choose either standardization or Normalization\n",
        "# On this data Min Max Normalization produced better results\n",
        "\n",
        "# Choose between standardization and MinMAx normalization\n",
        "#PredictorScaler=StandardScaler()\n",
        "PredictorScaler=MinMaxScaler()\n",
        "\n",
        "# Storing the fit object for later reference\n",
        "PredictorScalerFit=PredictorScaler.fit(X_ml)\n",
        "\n",
        "# Generating the standardized values of X\n",
        "X_ml=PredictorScalerFit.transform(X_ml)\n",
        "\n",
        "# Split the data into training and testing set\n",
        "from sklearn.model_selection import train_test_split\n",
        "X_train_ml, X_test_ml, y_train_ml, y_test_ml = train_test_split(X_ml, y_ml, test_size=0.3, random_state=42)"
      ],
      "metadata": {
        "id": "t0GiZegua0_C"
      },
      "execution_count": null,
      "outputs": []
    },
    {
      "cell_type": "code",
      "source": [
        "# Sanity check for the sampled data\n",
        "print(X_train_ml.shape)\n",
        "print(y_train_ml.shape)\n",
        "print(X_test_ml.shape)\n",
        "print(y_test_ml.shape)"
      ],
      "metadata": {
        "colab": {
          "base_uri": "https://localhost:8080/"
        },
        "id": "pyVe5u1qa5oK",
        "outputId": "633ac276-9b4a-4ffd-f75f-cc6d1634126d"
      },
      "execution_count": null,
      "outputs": [
        {
          "output_type": "stream",
          "name": "stdout",
          "text": [
            "(214540, 115)\n",
            "(214540,)\n",
            "(91946, 115)\n",
            "(91946,)\n"
          ]
        }
      ]
    },
    {
      "cell_type": "code",
      "source": [
        "# Get the default and non-default\n",
        "\n",
        "# default_1     = y_test[y_test['TARGET']==1]\n",
        "# non_default_1 = y_test[y_test['TARGET']==0]\n",
        "\n",
        "default_1     = y_test_ml[y_test_ml==1]\n",
        "non_default_1 = y_test_ml[y_test_ml==0]\n",
        "\n",
        "print(default_1.shape,non_default_1.shape)"
      ],
      "metadata": {
        "colab": {
          "base_uri": "https://localhost:8080/"
        },
        "id": "9ijP_UQnhzWm",
        "outputId": "07fab1ba-de08-4cc6-b4b6-b22aa618a8bc"
      },
      "execution_count": null,
      "outputs": [
        {
          "output_type": "stream",
          "name": "stdout",
          "text": [
            "(7437,) (84509,)\n"
          ]
        }
      ]
    },
    {
      "cell_type": "markdown",
      "source": [
        "# **Oversampling**"
      ],
      "metadata": {
        "id": "oShTo5X8BDQt"
      }
    },
    {
      "cell_type": "code",
      "source": [
        "from imblearn.over_sampling import RandomOverSampler"
      ],
      "metadata": {
        "id": "0fMUKHS6BIj1"
      },
      "execution_count": null,
      "outputs": []
    },
    {
      "cell_type": "code",
      "source": [
        "os = RandomOverSampler(0.5)\n",
        "X_train_mlos, y_train_mlos = os.fit_resample(X_train_ml, y_train_ml)\n",
        "\n",
        "print(\"The number of classes before fit {}\".format(Counter(y_train_ml)))\n",
        "print(\"The number of classes after fit {}\".format(Counter(y_train_mlos)))"
      ],
      "metadata": {
        "colab": {
          "base_uri": "https://localhost:8080/"
        },
        "id": "ifTvoVQWCBEL",
        "outputId": "9eecf1d8-c07f-4011-b7f0-f35d5ce06c15"
      },
      "execution_count": null,
      "outputs": [
        {
          "output_type": "stream",
          "name": "stderr",
          "text": [
            "/usr/local/lib/python3.7/dist-packages/imblearn/utils/_validation.py:591: FutureWarning: Pass sampling_strategy=0.5 as keyword args. From version 0.9 passing these as positional arguments will result in an error\n",
            "  FutureWarning,\n"
          ]
        },
        {
          "output_type": "stream",
          "name": "stdout",
          "text": [
            "The number of classes before fit Counter({0: 197188, 1: 17352})\n",
            "The number of classes after fit Counter({0: 197188, 1: 98594})\n"
          ]
        }
      ]
    },
    {
      "cell_type": "code",
      "source": [
        "X_train_mlos.shape"
      ],
      "metadata": {
        "colab": {
          "base_uri": "https://localhost:8080/"
        },
        "id": "eh5fJVj_Ez3j",
        "outputId": "68645c00-33d9-4f2b-fe04-bd5c1d1e3023"
      },
      "execution_count": null,
      "outputs": [
        {
          "output_type": "execute_result",
          "data": {
            "text/plain": [
              "(295782, 115)"
            ]
          },
          "metadata": {},
          "execution_count": 16
        }
      ]
    },
    {
      "cell_type": "code",
      "source": [
        "X_train_ml.shape"
      ],
      "metadata": {
        "colab": {
          "base_uri": "https://localhost:8080/"
        },
        "id": "645HdA3XE5r8",
        "outputId": "41997f71-5582-4740-8e3b-6abe58278f6d"
      },
      "execution_count": null,
      "outputs": [
        {
          "output_type": "execute_result",
          "data": {
            "text/plain": [
              "(214540, 115)"
            ]
          },
          "metadata": {},
          "execution_count": 17
        }
      ]
    },
    {
      "cell_type": "markdown",
      "source": [
        "# **Anamoly Detection and Removal**"
      ],
      "metadata": {
        "id": "LrdVdOmq3npj"
      }
    },
    {
      "cell_type": "code",
      "source": [
        "# identify outliers in the training dataset\n",
        "iso = IsolationForest(contamination=0.1)\n",
        "y_pred = iso.fit_predict(X_train_mlos)"
      ],
      "metadata": {
        "id": "QMuWu-uP34Lj"
      },
      "execution_count": null,
      "outputs": []
    },
    {
      "cell_type": "code",
      "source": [
        "y_pred"
      ],
      "metadata": {
        "colab": {
          "base_uri": "https://localhost:8080/"
        },
        "id": "qff7-FJP4Sfs",
        "outputId": "3c4a091b-330b-4b15-8071-1e6dbd17e575"
      },
      "execution_count": null,
      "outputs": [
        {
          "output_type": "execute_result",
          "data": {
            "text/plain": [
              "array([1, 1, 1, ..., 1, 1, 1])"
            ]
          },
          "metadata": {},
          "execution_count": 19
        }
      ]
    },
    {
      "cell_type": "code",
      "source": [
        "# function to get unique values\n",
        "def unique(list1):\n",
        "    y_pred_unique = np.array(list1)\n",
        "    print(np.unique(y_pred_unique))"
      ],
      "metadata": {
        "id": "dnqiRKj84cbU"
      },
      "execution_count": null,
      "outputs": []
    },
    {
      "cell_type": "code",
      "source": [
        "print(\"the unique values from 1st list is\")\n",
        "unique(y_pred)"
      ],
      "metadata": {
        "colab": {
          "base_uri": "https://localhost:8080/"
        },
        "id": "v-kbPMkI4fEf",
        "outputId": "d4b0b649-d0f9-4736-c196-468f25df28fd"
      },
      "execution_count": null,
      "outputs": [
        {
          "output_type": "stream",
          "name": "stdout",
          "text": [
            "the unique values from 1st list is\n",
            "[-1  1]\n"
          ]
        }
      ]
    },
    {
      "cell_type": "code",
      "source": [
        "# y_train_mlos.head()"
      ],
      "metadata": {
        "id": "Ghqj2uTT4kHx"
      },
      "execution_count": null,
      "outputs": []
    },
    {
      "cell_type": "code",
      "source": [
        "# select all rows that are not outliers\n",
        "mask = y_pred != -1\n",
        "X_train_iso, y_train_iso = X_train_mlos[mask], y_train_mlos[mask]"
      ],
      "metadata": {
        "id": "e8DpSxh64pZj"
      },
      "execution_count": null,
      "outputs": []
    },
    {
      "cell_type": "code",
      "source": [
        "X_train_mlos.shape, y_train_mlos.shape"
      ],
      "metadata": {
        "colab": {
          "base_uri": "https://localhost:8080/"
        },
        "id": "me2qiZwy5iRa",
        "outputId": "682f8ea1-3e81-4d17-e201-b82acc920501"
      },
      "execution_count": null,
      "outputs": [
        {
          "output_type": "execute_result",
          "data": {
            "text/plain": [
              "((295782, 115), (295782,))"
            ]
          },
          "metadata": {},
          "execution_count": 24
        }
      ]
    },
    {
      "cell_type": "code",
      "source": [
        "X_train_iso.shape, y_train_iso.shape"
      ],
      "metadata": {
        "colab": {
          "base_uri": "https://localhost:8080/"
        },
        "id": "G7Bl6LD25mtB",
        "outputId": "df2e844f-839f-4df4-e6e2-1a6ba20024e3"
      },
      "execution_count": null,
      "outputs": [
        {
          "output_type": "execute_result",
          "data": {
            "text/plain": [
              "((266203, 115), (266203,))"
            ]
          },
          "metadata": {},
          "execution_count": 25
        }
      ]
    },
    {
      "cell_type": "code",
      "source": [
        "print(\"The number of classes after outlier removal {}\".format(Counter(y_train_iso)))"
      ],
      "metadata": {
        "colab": {
          "base_uri": "https://localhost:8080/"
        },
        "id": "9bZKAp8U8B4V",
        "outputId": "6fbe1725-0b0d-4f23-e835-9694bee4e429"
      },
      "execution_count": null,
      "outputs": [
        {
          "output_type": "stream",
          "name": "stdout",
          "text": [
            "The number of classes after outlier removal Counter({0: 177331, 1: 88872})\n"
          ]
        }
      ]
    },
    {
      "cell_type": "markdown",
      "source": [
        "# **Voting**"
      ],
      "metadata": {
        "id": "pahiXKXjUbQ6"
      }
    },
    {
      "cell_type": "code",
      "source": [
        "# make a prediction with a stacking ensemble\n",
        "from sklearn.datasets import make_classification\n",
        "from sklearn.ensemble import StackingClassifier\n",
        "from sklearn.linear_model import LogisticRegression\n",
        "from sklearn.neighbors import KNeighborsClassifier\n",
        "from sklearn.tree import DecisionTreeClassifier\n",
        "from sklearn.ensemble import RandomForestClassifier\n",
        "from sklearn.svm import SVC\n",
        "from sklearn.naive_bayes import GaussianNB\n",
        "from sklearn.naive_bayes import BernoulliNB\n"
      ],
      "metadata": {
        "id": "pF1nC9V58Q3g"
      },
      "execution_count": null,
      "outputs": []
    },
    {
      "cell_type": "code",
      "source": [
        "from sklearn.ensemble import VotingClassifier\n",
        "from sklearn.linear_model import LogisticRegression\n",
        "from sklearn.svm import SVC\n",
        "from sklearn.tree import DecisionTreeClassifier\n",
        "from sklearn.metrics import accuracy_score\n",
        "from sklearn.ensemble import RandomForestClassifier\n",
        "from sklearn.ensemble import AdaBoostClassifier\n",
        "from xgboost import XGBClassifier\n",
        "\n",
        "DTC=DecisionTreeClassifier(max_depth=1)\n",
        "\n"
      ],
      "metadata": {
        "id": "EbGcze8CVFt1"
      },
      "execution_count": null,
      "outputs": []
    },
    {
      "cell_type": "markdown",
      "source": [
        "**Base model as Logistic Regression, KNN, DTC, RandomForest, BernoulliNB**"
      ],
      "metadata": {
        "id": "a2-U_xibP9O_"
      }
    },
    {
      "cell_type": "code",
      "source": [
        "level0 = list()\n",
        "level0.append(('lr', LogisticRegression(C=100,penalty='l2', solver='liblinear')))\n",
        "level0.append(('knn', KNeighborsClassifier(n_neighbors=5)))\n",
        "level0.append(('cart', DecisionTreeClassifier(max_depth=7,criterion='entropy')))\n",
        "level0.append(('rf', RandomForestClassifier(max_depth=3, n_estimators=100,criterion='gini')))\n",
        "level0.append(('bayes', BernoulliNB()))\n",
        "\n",
        "# define the stacking ensemble\n",
        "model_vc5 = VotingClassifier(estimators=level0, voting ='hard')\n",
        "# fit the model on all available data\n",
        "vote_1aa = model_vc5.fit(X_train_iso,y_train_iso)\n",
        "\n",
        "prediction_vote=vote_1aa.predict(X_test_ml)\n",
        "\n",
        "# Measuring accuracy on Testing Data\n",
        "from sklearn import metrics\n",
        "print(metrics.classification_report(y_test_ml, prediction_vote))\n",
        "print(metrics.confusion_matrix(y_test_ml, prediction_vote))\n",
        "\n",
        "# Printing the Overall Accuracy of the model\n",
        "F1_Score=metrics.f1_score(y_test_ml, prediction_vote, average='weighted')\n",
        "print('Accuracy of the model on Testing Sample Data:', round(F1_Score,2))"
      ],
      "metadata": {
        "colab": {
          "base_uri": "https://localhost:8080/"
        },
        "id": "fnYG_nvjFYFA",
        "outputId": "79941e73-7260-42ea-dfcf-2d264dfa6f1e"
      },
      "execution_count": null,
      "outputs": [
        {
          "output_type": "stream",
          "name": "stdout",
          "text": [
            "              precision    recall  f1-score   support\n",
            "\n",
            "           0       0.93      0.94      0.93     84509\n",
            "           1       0.23      0.21      0.22      7437\n",
            "\n",
            "    accuracy                           0.88     91946\n",
            "   macro avg       0.58      0.57      0.58     91946\n",
            "weighted avg       0.87      0.88      0.88     91946\n",
            "\n",
            "[[79151  5358]\n",
            " [ 5871  1566]]\n",
            "Accuracy of the model on Testing Sample Data: 0.88\n"
          ]
        }
      ]
    },
    {
      "cell_type": "markdown",
      "source": [
        "**Base model as Logistic Regression, ADABoost, Decision Tree, RandomForest, BernoulliNB**"
      ],
      "metadata": {
        "id": "wj6-Mu9lQKau"
      }
    },
    {
      "cell_type": "code",
      "source": [
        "level0 = list()\n",
        "level0.append(('lr', LogisticRegression(C=100,penalty='l2', solver='liblinear')))\n",
        "level0.append(('ada', AdaBoostClassifier(n_estimators=500, base_estimator=DTC ,learning_rate=0.01)))\n",
        "level0.append(('cart', DecisionTreeClassifier(max_depth=7,criterion='entropy')))\n",
        "level0.append(('rf', RandomForestClassifier(max_depth=3, n_estimators=100,criterion='gini')))\n",
        "level0.append(('bayes', BernoulliNB()))\n",
        "\n",
        "# define the stacking ensemble\n",
        "model_vc5 = VotingClassifier(estimators=level0, voting ='hard')\n",
        "# fit the model on all available data\n",
        "vote_1aa = model_vc5.fit(X_train_iso,y_train_iso)\n",
        "\n",
        "prediction_vote=vote_1aa.predict(X_test_ml)\n",
        "\n",
        "# Measuring accuracy on Testing Data\n",
        "from sklearn import metrics\n",
        "print(metrics.classification_report(y_test_ml, prediction_vote))\n",
        "print(metrics.confusion_matrix(y_test_ml, prediction_vote))\n",
        "\n",
        "# Printing the Overall Accuracy of the model\n",
        "F1_Score=metrics.f1_score(y_test_ml, prediction_vote, average='weighted')\n",
        "print('Accuracy of the model on Testing Sample Data:', round(F1_Score,2))"
      ],
      "metadata": {
        "colab": {
          "base_uri": "https://localhost:8080/"
        },
        "id": "JVB4FFRuFdeA",
        "outputId": "a393781e-3771-47f2-c52b-3784b9295068"
      },
      "execution_count": null,
      "outputs": [
        {
          "output_type": "stream",
          "name": "stdout",
          "text": [
            "              precision    recall  f1-score   support\n",
            "\n",
            "           0       0.93      0.94      0.94     84509\n",
            "           1       0.24      0.21      0.22      7437\n",
            "\n",
            "    accuracy                           0.88     91946\n",
            "   macro avg       0.58      0.57      0.58     91946\n",
            "weighted avg       0.87      0.88      0.88     91946\n",
            "\n",
            "[[79612  4897]\n",
            " [ 5905  1532]]\n",
            "Accuracy of the model on Testing Sample Data: 0.88\n"
          ]
        }
      ]
    },
    {
      "cell_type": "markdown",
      "source": [
        "**Base model as Logistic Regression, ADABoost, DTC, RandomForest, GaussianNB**"
      ],
      "metadata": {
        "id": "TQh5SJf9Q41I"
      }
    },
    {
      "cell_type": "code",
      "source": [
        "level0 = list()\n",
        "level0.append(('lr', LogisticRegression(C=100,penalty='l2', solver='liblinear')))\n",
        "level0.append(('ada', AdaBoostClassifier(n_estimators=500, base_estimator=DTC ,learning_rate=0.01)))\n",
        "level0.append(('cart', DecisionTreeClassifier(max_depth=7,criterion='entropy')))\n",
        "level0.append(('rf', RandomForestClassifier(max_depth=3, n_estimators=100,criterion='gini')))\n",
        "level0.append(('bayes', GaussianNB()))\n",
        "\n",
        "# define the stacking ensemble\n",
        "model_vc5 = VotingClassifier(estimators=level0, voting ='hard')\n",
        "# fit the model on all available data\n",
        "vote_1aa = model_vc5.fit(X_train_iso,y_train_iso)\n",
        "\n",
        "prediction_vote=vote_1aa.predict(X_test_ml)\n",
        "\n",
        "# Measuring accuracy on Testing Data\n",
        "from sklearn import metrics\n",
        "print(metrics.classification_report(y_test_ml, prediction_vote))\n",
        "print(metrics.confusion_matrix(y_test_ml, prediction_vote))\n",
        "\n",
        "# Printing the Overall Accuracy of the model\n",
        "F1_Score=metrics.f1_score(y_test_ml, prediction_vote, average='weighted')\n",
        "print('Accuracy of the model on Testing Sample Data:', round(F1_Score,2))"
      ],
      "metadata": {
        "colab": {
          "base_uri": "https://localhost:8080/"
        },
        "id": "57T8W8cdFmxG",
        "outputId": "645da397-bcc8-42c9-bfbb-caccdd46d2ea"
      },
      "execution_count": null,
      "outputs": [
        {
          "output_type": "stream",
          "name": "stdout",
          "text": [
            "              precision    recall  f1-score   support\n",
            "\n",
            "           0       0.93      0.93      0.93     84509\n",
            "           1       0.23      0.24      0.23      7437\n",
            "\n",
            "    accuracy                           0.87     91946\n",
            "   macro avg       0.58      0.58      0.58     91946\n",
            "weighted avg       0.88      0.87      0.87     91946\n",
            "\n",
            "[[78426  6083]\n",
            " [ 5645  1792]]\n",
            "Accuracy of the model on Testing Sample Data: 0.87\n"
          ]
        }
      ]
    },
    {
      "cell_type": "markdown",
      "source": [
        "(**Selected model**) **Base model as Logistic Regression, KNN, DTC, RandomForest, GaussianNB**  with Outlier removal"
      ],
      "metadata": {
        "id": "k15uElCZilmr"
      }
    },
    {
      "cell_type": "code",
      "source": [
        "level0 = list()\n",
        "level0.append(('lr', LogisticRegression(C=100,penalty='l2', solver='liblinear')))\n",
        "level0.append(('knn', KNeighborsClassifier(n_neighbors=5)))\n",
        "level0.append(('cart', DecisionTreeClassifier(max_depth=7,criterion='entropy')))\n",
        "level0.append(('rf', RandomForestClassifier(max_depth=3, n_estimators=100,criterion='gini')))\n",
        "level0.append(('bayes', GaussianNB()))\n",
        "\n",
        "# define the stacking ensemble\n",
        "model_vc5 = VotingClassifier(estimators=level0, voting ='hard')\n",
        "# fit the model on all available data\n",
        "vote_1aa = model_vc5.fit(X_train_iso,y_train_iso)\n",
        "\n",
        "prediction_vote=vote_1aa.predict(X_test_ml)\n",
        "\n",
        "# Measuring accuracy on Testing Data\n",
        "from sklearn import metrics\n",
        "print(metrics.classification_report(y_test_ml, prediction_vote))\n",
        "print(metrics.confusion_matrix(y_test_ml, prediction_vote))\n",
        "\n",
        "# Printing the Overall Accuracy of the model\n",
        "F1_Score=metrics.f1_score(y_test_ml, prediction_vote, average='weighted')\n",
        "print('Accuracy of the model on Testing Sample Data:', round(F1_Score,2))"
      ],
      "metadata": {
        "id": "TeGF0zAF1GAS",
        "colab": {
          "base_uri": "https://localhost:8080/"
        },
        "outputId": "99dfd7f8-d91c-48ec-c49d-a9baf1456c95"
      },
      "execution_count": null,
      "outputs": [
        {
          "output_type": "stream",
          "name": "stdout",
          "text": [
            "              precision    recall  f1-score   support\n",
            "\n",
            "           0       0.93      0.91      0.92     84509\n",
            "           1       0.21      0.27      0.24      7437\n",
            "\n",
            "    accuracy                           0.86     91946\n",
            "   macro avg       0.57      0.59      0.58     91946\n",
            "weighted avg       0.88      0.86      0.87     91946\n",
            "\n",
            "[[77142  7367]\n",
            " [ 5437  2000]]\n",
            "Accuracy of the model on Testing Sample Data: 0.87\n"
          ]
        }
      ]
    },
    {
      "cell_type": "markdown",
      "source": [
        "**Base model as Logistic Regression, KNN, DTC, RandomForest, GaussianNB** without Outlier removal"
      ],
      "metadata": {
        "id": "GJEsQOA1Rtbb"
      }
    },
    {
      "cell_type": "code",
      "source": [
        "level0 = list()\n",
        "level0.append(('lr', LogisticRegression(C=100,penalty='l2', solver='liblinear')))\n",
        "level0.append(('knn', KNeighborsClassifier(n_neighbors=5)))\n",
        "level0.append(('cart', DecisionTreeClassifier(max_depth=7,criterion='entropy')))\n",
        "level0.append(('rf', RandomForestClassifier(max_depth=3, n_estimators=100,criterion='gini')))\n",
        "level0.append(('bayes', GaussianNB()))\n",
        "\n",
        "# define the stacking ensemble\n",
        "model_vc5 = VotingClassifier(estimators=level0, voting ='hard')\n",
        "# fit the model on all available data\n",
        "vote_1aa = model_vc5.fit(X_train_mlos,y_train_mlos)\n",
        "\n",
        "prediction_vote=vote_1aa.predict(X_test_ml)\n",
        "\n",
        "# Measuring accuracy on Testing Data\n",
        "from sklearn import metrics\n",
        "print(metrics.classification_report(y_test_ml, prediction_vote))\n",
        "print(metrics.confusion_matrix(y_test_ml, prediction_vote))\n",
        "\n",
        "# Printing the Overall Accuracy of the model\n",
        "F1_Score=metrics.f1_score(y_test_ml, prediction_vote, average='weighted')\n",
        "print('Accuracy of the model on Testing Sample Data:', round(F1_Score,2))"
      ],
      "metadata": {
        "colab": {
          "base_uri": "https://localhost:8080/"
        },
        "id": "J1V5wuzwjY2D",
        "outputId": "ae03f5fd-fdb0-4625-ae77-be3e16b12b66"
      },
      "execution_count": null,
      "outputs": [
        {
          "output_type": "stream",
          "name": "stdout",
          "text": [
            "              precision    recall  f1-score   support\n",
            "\n",
            "           0       0.93      0.91      0.92     84509\n",
            "           1       0.21      0.27      0.24      7437\n",
            "\n",
            "    accuracy                           0.86     91946\n",
            "   macro avg       0.57      0.59      0.58     91946\n",
            "weighted avg       0.88      0.86      0.87     91946\n",
            "\n",
            "[[77236  7273]\n",
            " [ 5457  1980]]\n",
            "Accuracy of the model on Testing Sample Data: 0.87\n"
          ]
        }
      ]
    },
    {
      "cell_type": "markdown",
      "source": [
        "**Base model as Logistic Regression, RandomForest, BernoulliNB** (with outlier removal)"
      ],
      "metadata": {
        "id": "5CAv9-le9vsV"
      }
    },
    {
      "cell_type": "code",
      "source": [
        "#after iso\n",
        "from sklearn.naive_bayes import BernoulliNB\n",
        "# define the base models\n",
        "level0 = list()\n",
        "level0.append(('lr', LogisticRegression(C=100,penalty='l2', solver='liblinear')))\n",
        "level0.append(('rf', RandomForestClassifier(max_depth=3, n_estimators=100,criterion='gini')))\n",
        "level0.append(('bayes', BernoulliNB()))\n",
        "\n",
        "\n",
        "# define meta learner model\n",
        "# level1 = LogisticRegression()\n",
        "\n",
        "# define the stacking ensemble\n",
        "model_vc3rf = VotingClassifier(estimators=level0, voting ='hard')\n",
        "# fit the model on all available data\n",
        "vote_1 = model_vc3rf.fit(X_train_iso,y_train_iso)\n",
        "\n",
        "prediction_vote=vote_1.predict(X_test_ml)\n",
        "\n",
        "# Measuring accuracy on Testing Data\n",
        "from sklearn import metrics\n",
        "print(metrics.classification_report(y_test_ml, prediction_vote))\n",
        "print(metrics.confusion_matrix(y_test_ml, prediction_vote))\n",
        "\n",
        "# Printing the Overall Accuracy of the model\n",
        "F1_Score=metrics.f1_score(y_test_ml, prediction_vote, average='weighted')\n",
        "print('Accuracy of the model on Testing Sample Data:', round(F1_Score,2))"
      ],
      "metadata": {
        "colab": {
          "base_uri": "https://localhost:8080/"
        },
        "id": "xWdHCw0Z9u9A",
        "outputId": "331624d1-a915-46c7-a99c-6157cd9381b0"
      },
      "execution_count": null,
      "outputs": [
        {
          "output_type": "stream",
          "name": "stdout",
          "text": [
            "              precision    recall  f1-score   support\n",
            "\n",
            "           0       0.93      0.93      0.93     84509\n",
            "           1       0.22      0.23      0.22      7437\n",
            "\n",
            "    accuracy                           0.87     91946\n",
            "   macro avg       0.58      0.58      0.58     91946\n",
            "weighted avg       0.87      0.87      0.87     91946\n",
            "\n",
            "[[78587  5922]\n",
            " [ 5757  1680]]\n",
            "Accuracy of the model on Testing Sample Data: 0.87\n"
          ]
        }
      ]
    },
    {
      "cell_type": "markdown",
      "source": [
        "**Base model as Logistic Regression, RandomForest, BernoulliNB** (without outlier removal)"
      ],
      "metadata": {
        "id": "x7k1qPzv-KbU"
      }
    },
    {
      "cell_type": "code",
      "source": [
        "#before iso\n",
        "from sklearn.naive_bayes import BernoulliNB\n",
        "# define the base models\n",
        "level0 = list()\n",
        "level0.append(('lr', LogisticRegression(C=100,penalty='l2', solver='liblinear')))\n",
        "level0.append(('rf', RandomForestClassifier(max_depth=3, n_estimators=100,criterion='gini')))\n",
        "level0.append(('bayes', BernoulliNB()))\n",
        "\n",
        "\n",
        "# define meta learner model\n",
        "# level1 = LogisticRegression()\n",
        "\n",
        "# define the stacking ensemble\n",
        "model_vcb3rf = VotingClassifier(estimators=level0, voting ='hard')\n",
        "# fit the model on all available data\n",
        "vote_1 = model_vcb3rf.fit(X_train_mlos,y_train_mlos)\n",
        "\n",
        "prediction_vote=vote_1.predict(X_test_ml)\n",
        "\n",
        "# Measuring accuracy on Testing Data\n",
        "from sklearn import metrics\n",
        "print(metrics.classification_report(y_test_ml, prediction_vote))\n",
        "print(metrics.confusion_matrix(y_test_ml, prediction_vote))\n",
        "\n",
        "# Printing the Overall Accuracy of the model\n",
        "F1_Score=metrics.f1_score(y_test_ml, prediction_vote, average='weighted')\n",
        "print('Accuracy of the model on Testing Sample Data:', round(F1_Score,2))"
      ],
      "metadata": {
        "colab": {
          "base_uri": "https://localhost:8080/"
        },
        "id": "9NIvUru2-L9T",
        "outputId": "82325671-044a-4df2-8569-54d8c40f8608"
      },
      "execution_count": null,
      "outputs": [
        {
          "output_type": "stream",
          "name": "stdout",
          "text": [
            "              precision    recall  f1-score   support\n",
            "\n",
            "           0       0.93      0.93      0.93     84509\n",
            "           1       0.22      0.22      0.22      7437\n",
            "\n",
            "    accuracy                           0.87     91946\n",
            "   macro avg       0.58      0.58      0.58     91946\n",
            "weighted avg       0.87      0.87      0.87     91946\n",
            "\n",
            "[[78666  5843]\n",
            " [ 5777  1660]]\n",
            "Accuracy of the model on Testing Sample Data: 0.87\n"
          ]
        }
      ]
    },
    {
      "cell_type": "markdown",
      "source": [
        "**Base model as Logistic Regression, RandomForest, DecisionTree** (without outlier removal)"
      ],
      "metadata": {
        "id": "caqOJdu6Swpr"
      }
    },
    {
      "cell_type": "code",
      "source": [
        "#before iso\n",
        "from sklearn.naive_bayes import BernoulliNB\n",
        "# define the base models\n",
        "level0 = list()\n",
        "level0.append(('lr', LogisticRegression(C=100,penalty='l2', solver='liblinear')))\n",
        "level0.append(('rf', RandomForestClassifier(max_depth=3, n_estimators=100,criterion='gini')))\n",
        "level0.append(('cart', DecisionTreeClassifier(max_depth=7,criterion='entropy')))\n",
        "\n",
        "\n",
        "# define meta learner model\n",
        "# level1 = LogisticRegression()\n",
        "\n",
        "# define the stacking ensemble\n",
        "model_vcb3rf = VotingClassifier(estimators=level0, voting ='hard')\n",
        "# fit the model on all available data\n",
        "vote_1 = model_vcb3rf.fit(X_train_mlos,y_train_mlos)\n",
        "\n",
        "prediction_vote=vote_1.predict(X_test_ml)\n",
        "\n",
        "# Measuring accuracy on Testing Data\n",
        "from sklearn import metrics\n",
        "print(metrics.classification_report(y_test_ml, prediction_vote))\n",
        "print(metrics.confusion_matrix(y_test_ml, prediction_vote))\n",
        "\n",
        "# Printing the Overall Accuracy of the model\n",
        "F1_Score=metrics.f1_score(y_test_ml, prediction_vote, average='weighted')\n",
        "print('Accuracy of the model on Testing Sample Data:', round(F1_Score,2))"
      ],
      "metadata": {
        "colab": {
          "base_uri": "https://localhost:8080/"
        },
        "id": "iMYpTdANBMqM",
        "outputId": "e527f035-fc12-4b62-f79a-441770f8d5a9"
      },
      "execution_count": null,
      "outputs": [
        {
          "output_type": "stream",
          "name": "stdout",
          "text": [
            "              precision    recall  f1-score   support\n",
            "\n",
            "           0       0.93      0.93      0.93     84509\n",
            "           1       0.23      0.23      0.23      7437\n",
            "\n",
            "    accuracy                           0.88     91946\n",
            "   macro avg       0.58      0.58      0.58     91946\n",
            "weighted avg       0.88      0.88      0.88     91946\n",
            "\n",
            "[[78894  5615]\n",
            " [ 5738  1699]]\n",
            "Accuracy of the model on Testing Sample Data: 0.88\n"
          ]
        }
      ]
    },
    {
      "cell_type": "markdown",
      "source": [
        "**Base model as Decision Tree, RandomForest, BernoulliNB** (without outlier removal)"
      ],
      "metadata": {
        "id": "w7G7d5OcTBaT"
      }
    },
    {
      "cell_type": "code",
      "source": [
        "#Before iso\n",
        "from sklearn.naive_bayes import BernoulliNB\n",
        "# define the base models\n",
        "level0 = list()\n",
        "level0.append(('cart', DecisionTreeClassifier(max_depth=7,criterion='entropy')))\n",
        "level0.append(('rf', RandomForestClassifier(max_depth=3, n_estimators=100,criterion='gini')))\n",
        "level0.append(('bayes', BernoulliNB()))\n",
        "\n",
        "\n",
        "# define meta learner model\n",
        "# level1 = LogisticRegression()\n",
        "\n",
        "# define the stacking ensemble\n",
        "model_vcb3rf = VotingClassifier(estimators=level0, voting ='hard')\n",
        "# fit the model on all available data\n",
        "vote_1 = model_vcb3rf.fit(X_train_mlos,y_train_mlos)\n",
        "\n",
        "prediction_vote=vote_1.predict(X_test_ml)\n",
        "\n",
        "# Measuring accuracy on Testing Data\n",
        "from sklearn import metrics\n",
        "print(metrics.classification_report(y_test_ml, prediction_vote))\n",
        "print(metrics.confusion_matrix(y_test_ml, prediction_vote))\n",
        "\n",
        "# Printing the Overall Accuracy of the model\n",
        "F1_Score=metrics.f1_score(y_test_ml, prediction_vote, average='weighted')\n",
        "print('Accuracy of the model on Testing Sample Data:', round(F1_Score,2))"
      ],
      "metadata": {
        "colab": {
          "base_uri": "https://localhost:8080/"
        },
        "id": "Ejkws2sSBbCC",
        "outputId": "b146eb42-e430-4c12-b095-6a7dba6d1a42"
      },
      "execution_count": null,
      "outputs": [
        {
          "output_type": "stream",
          "name": "stdout",
          "text": [
            "              precision    recall  f1-score   support\n",
            "\n",
            "           0       0.93      0.95      0.94     84509\n",
            "           1       0.22      0.18      0.20      7437\n",
            "\n",
            "    accuracy                           0.88     91946\n",
            "   macro avg       0.58      0.56      0.57     91946\n",
            "weighted avg       0.87      0.88      0.88     91946\n",
            "\n",
            "[[80006  4503]\n",
            " [ 6131  1306]]\n",
            "Accuracy of the model on Testing Sample Data: 0.88\n"
          ]
        }
      ]
    },
    {
      "cell_type": "markdown",
      "source": [
        "**Base model as Decision Tree, RandomForest, GaussianNB** (without outlier removal)"
      ],
      "metadata": {
        "id": "vc3a00UATVtL"
      }
    },
    {
      "cell_type": "code",
      "source": [
        "#before iso\n",
        "from sklearn.naive_bayes import BernoulliNB\n",
        "# define the base models\n",
        "level0 = list()\n",
        "level0.append(('cart', DecisionTreeClassifier(max_depth=7,criterion='entropy')))\n",
        "level0.append(('rf', RandomForestClassifier(max_depth=3, n_estimators=100,criterion='gini')))\n",
        "level0.append(('bayes', GaussianNB()))\n",
        "\n",
        "\n",
        "# define meta learner model\n",
        "# level1 = LogisticRegression()\n",
        "\n",
        "# define the stacking ensemble\n",
        "model_vcb3rf = VotingClassifier(estimators=level0, voting ='hard')\n",
        "# fit the model on all available data\n",
        "vote_1 = model_vcb3rf.fit(X_train_mlos,y_train_mlos)\n",
        "\n",
        "prediction_vote=vote_1.predict(X_test_ml)\n",
        "\n",
        "# Measuring accuracy on Testing Data\n",
        "from sklearn import metrics\n",
        "print(metrics.classification_report(y_test_ml, prediction_vote))\n",
        "print(metrics.confusion_matrix(y_test_ml, prediction_vote))\n",
        "\n",
        "# Printing the Overall Accuracy of the model\n",
        "F1_Score=metrics.f1_score(y_test_ml, prediction_vote, average='weighted')\n",
        "print('Accuracy of the model on Testing Sample Data:', round(F1_Score,2))"
      ],
      "metadata": {
        "colab": {
          "base_uri": "https://localhost:8080/"
        },
        "id": "SYL-83r6BVts",
        "outputId": "fd350fbd-c086-42e4-e6a8-14f04af79c27"
      },
      "execution_count": null,
      "outputs": [
        {
          "output_type": "stream",
          "name": "stdout",
          "text": [
            "              precision    recall  f1-score   support\n",
            "\n",
            "           0       0.93      0.90      0.92     84509\n",
            "           1       0.20      0.28      0.23      7437\n",
            "\n",
            "    accuracy                           0.85     91946\n",
            "   macro avg       0.57      0.59      0.57     91946\n",
            "weighted avg       0.87      0.85      0.86     91946\n",
            "\n",
            "[[76127  8382]\n",
            " [ 5374  2063]]\n",
            "Accuracy of the model on Testing Sample Data: 0.86\n"
          ]
        }
      ]
    },
    {
      "cell_type": "code",
      "source": [
        ""
      ],
      "metadata": {
        "id": "t0zHXbQNVJGv"
      },
      "execution_count": null,
      "outputs": []
    }
  ],
  "metadata": {
    "colab": {
      "collapsed_sections": [
        "8OMWaDEGaiIW",
        "M5WKPrxa_Nze",
        "RlK_dHrvYUB8",
        "YzMntGYLaor4",
        "oShTo5X8BDQt",
        "LrdVdOmq3npj",
        "pahiXKXjUbQ6"
      ],
      "name": "Phase_6_Project_report_Votingclassifier.ipynb",
      "provenance": []
    },
    "kernelspec": {
      "display_name": "Python 3",
      "name": "python3"
    },
    "language_info": {
      "name": "python"
    }
  },
  "nbformat": 4,
  "nbformat_minor": 0
}