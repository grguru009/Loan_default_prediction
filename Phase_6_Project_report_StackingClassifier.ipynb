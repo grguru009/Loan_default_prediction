{
  "cells": [
    {
      "cell_type": "markdown",
      "metadata": {
        "id": "6d6fDomiZ7-8"
      },
      "source": [
        "**Problem Statement**: This notebook provides the details about Machine learning predictive model for the problem “Bank loan default risk”."
      ]
    },
    {
      "cell_type": "markdown",
      "metadata": {
        "id": "8OMWaDEGaiIW"
      },
      "source": [
        "# **1. importing required libraries and reading the data**\n"
      ]
    },
    {
      "cell_type": "code",
      "execution_count": null,
      "metadata": {
        "colab": {
          "base_uri": "https://localhost:8080/"
        },
        "id": "oJ-ugzKVZv2B",
        "outputId": "dc7d6c46-7252-45b7-8a90-2e0f36ddb8c4"
      },
      "outputs": [
        {
          "output_type": "stream",
          "name": "stdout",
          "text": [
            "Mounted at /gdrive\n",
            "/gdrive\n"
          ]
        }
      ],
      "source": [
        "# Code to mount google drive   (loading the data from your google drive)\n",
        "from google.colab import drive\n",
        "drive.mount('/gdrive')\n",
        "%cd /gdrive"
      ]
    },
    {
      "cell_type": "code",
      "execution_count": null,
      "metadata": {
        "id": "EwW30Iada3lU"
      },
      "outputs": [],
      "source": [
        "# Importing libraries\n",
        "import numpy as np\n",
        "import pandas as pd\n",
        "import matplotlib.pyplot as plt\n",
        "import seaborn as sns\n",
        "from sklearn.feature_selection import VarianceThreshold      # for Feature selection\n",
        "from sklearn.feature_selection import mutual_info_classif    # Feature selection - mutual information\n",
        "from sklearn.model_selection import train_test_split\n",
        "from imblearn.combine import SMOTETomek\n",
        "from sklearn.preprocessing import LabelEncoder\n",
        "from sklearn.preprocessing import OneHotEncoder\n",
        "from collections import Counter\n",
        "from sklearn.ensemble import IsolationForest\n",
        "\n"
      ]
    },
    {
      "cell_type": "markdown",
      "source": [
        "# **Reading data from pickle file**"
      ],
      "metadata": {
        "id": "M5WKPrxa_Nze"
      }
    },
    {
      "cell_type": "code",
      "source": [
        "import pickle\n",
        "import joblib \n",
        "import pandas as pd\n",
        "\n",
        "# joblib.dump(FinalXGboostModel, r'/gdrive/MyDrive/PGD_project/FinalXGboostModel.pkl') \n",
        "# model = joblib.load(r'/gdrive/MyDrive/PGD_project/FinalXGboostModel.pkl') \n",
        "# model.predict(X_test)\n",
        "\n",
        "DataForML_t=pd.read_pickle(r'/gdrive/MyDrive/PGD_project/DataForML_t.pkl')"
      ],
      "metadata": {
        "id": "LaaXeUiz_MkF"
      },
      "execution_count": null,
      "outputs": []
    },
    {
      "cell_type": "code",
      "source": [
        "DataForML_t.head()"
      ],
      "metadata": {
        "colab": {
          "base_uri": "https://localhost:8080/"
        },
        "id": "SS-mKXtyQxtc",
        "outputId": "4cde898f-722c-4319-b756-343348f2b681"
      },
      "execution_count": null,
      "outputs": [
        {
          "output_type": "execute_result",
          "data": {
            "text/html": [
              "\n",
              "  <div id=\"df-590fdf7d-90f4-4ce4-a0d2-9ec6a2a54339\">\n",
              "    <div class=\"colab-df-container\">\n",
              "      <div>\n",
              "<style scoped>\n",
              "    .dataframe tbody tr th:only-of-type {\n",
              "        vertical-align: middle;\n",
              "    }\n",
              "\n",
              "    .dataframe tbody tr th {\n",
              "        vertical-align: top;\n",
              "    }\n",
              "\n",
              "    .dataframe thead th {\n",
              "        text-align: right;\n",
              "    }\n",
              "</style>\n",
              "<table border=\"1\" class=\"dataframe\">\n",
              "  <thead>\n",
              "    <tr style=\"text-align: right;\">\n",
              "      <th></th>\n",
              "      <th>TARGET</th>\n",
              "      <th>AGE</th>\n",
              "      <th>AMT_CREDIT</th>\n",
              "      <th>AMT_INCOME_TOTAL</th>\n",
              "      <th>CNT_FAM_MEMBERS</th>\n",
              "      <th>YEARS_EMPLOYED</th>\n",
              "      <th>AMT_ANNUITY</th>\n",
              "      <th>FLAG_EMP_PHONE</th>\n",
              "      <th>FLAG_WORK_PHONE</th>\n",
              "      <th>FLAG_PHONE</th>\n",
              "      <th>FLAG_DOCUMENT_3</th>\n",
              "      <th>FLAG_DOCUMENT_6</th>\n",
              "      <th>REGION_RATING_CLIENT</th>\n",
              "      <th>REGION_RATING_CLIENT_W_CITY</th>\n",
              "      <th>REG_CITY_NOT_LIVE_CITY</th>\n",
              "      <th>REG_CITY_NOT_WORK_CITY</th>\n",
              "      <th>EXT_SOURCE_2</th>\n",
              "      <th>AMT_REQ_CREDIT_BUREAU_YEAR</th>\n",
              "      <th>DAYS_REGISTRATION</th>\n",
              "      <th>DAYS_ID_PUBLISH</th>\n",
              "      <th>OBS_30_CNT_SOCIAL_CIRCLE</th>\n",
              "      <th>DEF_30_CNT_SOCIAL_CIRCLE</th>\n",
              "      <th>CODE_GENDER</th>\n",
              "      <th>FLAG_OWN_CAR</th>\n",
              "      <th>NAME_INCOME_TYPE</th>\n",
              "      <th>NAME_FAMILY_STATUS</th>\n",
              "      <th>NAME_HOUSING_TYPE</th>\n",
              "      <th>NAME_EDUCATION_TYPE</th>\n",
              "      <th>NAME_CONTRACT_TYPE</th>\n",
              "      <th>FLAG_OWN_REALTY</th>\n",
              "      <th>NAME_TYPE_SUITE</th>\n",
              "      <th>ORGANIZATION_TYPE</th>\n",
              "    </tr>\n",
              "  </thead>\n",
              "  <tbody>\n",
              "    <tr>\n",
              "      <th>0</th>\n",
              "      <td>1</td>\n",
              "      <td>25.0</td>\n",
              "      <td>406597.5</td>\n",
              "      <td>202500.0</td>\n",
              "      <td>1.0</td>\n",
              "      <td>1.0</td>\n",
              "      <td>24700.5</td>\n",
              "      <td>1</td>\n",
              "      <td>0</td>\n",
              "      <td>1</td>\n",
              "      <td>1</td>\n",
              "      <td>0</td>\n",
              "      <td>2</td>\n",
              "      <td>2</td>\n",
              "      <td>0</td>\n",
              "      <td>0</td>\n",
              "      <td>0.262949</td>\n",
              "      <td>1</td>\n",
              "      <td>3648.0</td>\n",
              "      <td>2120</td>\n",
              "      <td>2</td>\n",
              "      <td>2.0</td>\n",
              "      <td>Male</td>\n",
              "      <td>N</td>\n",
              "      <td>Working</td>\n",
              "      <td>Single / not married</td>\n",
              "      <td>House / apartment</td>\n",
              "      <td>Secondary / secondary special</td>\n",
              "      <td>Cash loans</td>\n",
              "      <td>Y</td>\n",
              "      <td>Unaccompanied</td>\n",
              "      <td>Business Entity Type 3</td>\n",
              "    </tr>\n",
              "    <tr>\n",
              "      <th>1</th>\n",
              "      <td>0</td>\n",
              "      <td>45.0</td>\n",
              "      <td>1293502.5</td>\n",
              "      <td>270000.0</td>\n",
              "      <td>2.0</td>\n",
              "      <td>3.0</td>\n",
              "      <td>35698.5</td>\n",
              "      <td>1</td>\n",
              "      <td>0</td>\n",
              "      <td>1</td>\n",
              "      <td>1</td>\n",
              "      <td>0</td>\n",
              "      <td>1</td>\n",
              "      <td>1</td>\n",
              "      <td>0</td>\n",
              "      <td>0</td>\n",
              "      <td>0.622246</td>\n",
              "      <td>0</td>\n",
              "      <td>1186.0</td>\n",
              "      <td>291</td>\n",
              "      <td>1</td>\n",
              "      <td>0.0</td>\n",
              "      <td>Female</td>\n",
              "      <td>N</td>\n",
              "      <td>State servant</td>\n",
              "      <td>Married</td>\n",
              "      <td>House / apartment</td>\n",
              "      <td>Higher education</td>\n",
              "      <td>Cash loans</td>\n",
              "      <td>N</td>\n",
              "      <td>Family</td>\n",
              "      <td>School</td>\n",
              "    </tr>\n",
              "    <tr>\n",
              "      <th>2</th>\n",
              "      <td>0</td>\n",
              "      <td>52.0</td>\n",
              "      <td>135000.0</td>\n",
              "      <td>67500.0</td>\n",
              "      <td>1.0</td>\n",
              "      <td>0.0</td>\n",
              "      <td>6750.0</td>\n",
              "      <td>1</td>\n",
              "      <td>1</td>\n",
              "      <td>1</td>\n",
              "      <td>0</td>\n",
              "      <td>0</td>\n",
              "      <td>2</td>\n",
              "      <td>2</td>\n",
              "      <td>0</td>\n",
              "      <td>0</td>\n",
              "      <td>0.555912</td>\n",
              "      <td>0</td>\n",
              "      <td>4260.0</td>\n",
              "      <td>2531</td>\n",
              "      <td>0</td>\n",
              "      <td>0.0</td>\n",
              "      <td>Male</td>\n",
              "      <td>Y</td>\n",
              "      <td>Working</td>\n",
              "      <td>Single / not married</td>\n",
              "      <td>House / apartment</td>\n",
              "      <td>Secondary / secondary special</td>\n",
              "      <td>Revolving loans</td>\n",
              "      <td>Y</td>\n",
              "      <td>Unaccompanied</td>\n",
              "      <td>Government</td>\n",
              "    </tr>\n",
              "    <tr>\n",
              "      <th>3</th>\n",
              "      <td>0</td>\n",
              "      <td>52.0</td>\n",
              "      <td>312682.5</td>\n",
              "      <td>135000.0</td>\n",
              "      <td>2.0</td>\n",
              "      <td>8.0</td>\n",
              "      <td>29686.5</td>\n",
              "      <td>1</td>\n",
              "      <td>0</td>\n",
              "      <td>0</td>\n",
              "      <td>1</td>\n",
              "      <td>0</td>\n",
              "      <td>2</td>\n",
              "      <td>2</td>\n",
              "      <td>0</td>\n",
              "      <td>0</td>\n",
              "      <td>0.650442</td>\n",
              "      <td>0</td>\n",
              "      <td>9833.0</td>\n",
              "      <td>2437</td>\n",
              "      <td>2</td>\n",
              "      <td>0.0</td>\n",
              "      <td>Female</td>\n",
              "      <td>N</td>\n",
              "      <td>Working</td>\n",
              "      <td>Civil marriage</td>\n",
              "      <td>House / apartment</td>\n",
              "      <td>Secondary / secondary special</td>\n",
              "      <td>Cash loans</td>\n",
              "      <td>Y</td>\n",
              "      <td>Unaccompanied</td>\n",
              "      <td>Business Entity Type 3</td>\n",
              "    </tr>\n",
              "    <tr>\n",
              "      <th>4</th>\n",
              "      <td>0</td>\n",
              "      <td>54.0</td>\n",
              "      <td>513000.0</td>\n",
              "      <td>121500.0</td>\n",
              "      <td>1.0</td>\n",
              "      <td>8.0</td>\n",
              "      <td>21865.5</td>\n",
              "      <td>1</td>\n",
              "      <td>0</td>\n",
              "      <td>0</td>\n",
              "      <td>0</td>\n",
              "      <td>0</td>\n",
              "      <td>2</td>\n",
              "      <td>2</td>\n",
              "      <td>0</td>\n",
              "      <td>1</td>\n",
              "      <td>0.322738</td>\n",
              "      <td>0</td>\n",
              "      <td>4311.0</td>\n",
              "      <td>3458</td>\n",
              "      <td>0</td>\n",
              "      <td>0.0</td>\n",
              "      <td>Male</td>\n",
              "      <td>N</td>\n",
              "      <td>Working</td>\n",
              "      <td>Single / not married</td>\n",
              "      <td>House / apartment</td>\n",
              "      <td>Secondary / secondary special</td>\n",
              "      <td>Cash loans</td>\n",
              "      <td>Y</td>\n",
              "      <td>Unaccompanied</td>\n",
              "      <td>Religion</td>\n",
              "    </tr>\n",
              "  </tbody>\n",
              "</table>\n",
              "</div>\n",
              "      <button class=\"colab-df-convert\" onclick=\"convertToInteractive('df-590fdf7d-90f4-4ce4-a0d2-9ec6a2a54339')\"\n",
              "              title=\"Convert this dataframe to an interactive table.\"\n",
              "              style=\"display:none;\">\n",
              "        \n",
              "  <svg xmlns=\"http://www.w3.org/2000/svg\" height=\"24px\"viewBox=\"0 0 24 24\"\n",
              "       width=\"24px\">\n",
              "    <path d=\"M0 0h24v24H0V0z\" fill=\"none\"/>\n",
              "    <path d=\"M18.56 5.44l.94 2.06.94-2.06 2.06-.94-2.06-.94-.94-2.06-.94 2.06-2.06.94zm-11 1L8.5 8.5l.94-2.06 2.06-.94-2.06-.94L8.5 2.5l-.94 2.06-2.06.94zm10 10l.94 2.06.94-2.06 2.06-.94-2.06-.94-.94-2.06-.94 2.06-2.06.94z\"/><path d=\"M17.41 7.96l-1.37-1.37c-.4-.4-.92-.59-1.43-.59-.52 0-1.04.2-1.43.59L10.3 9.45l-7.72 7.72c-.78.78-.78 2.05 0 2.83L4 21.41c.39.39.9.59 1.41.59.51 0 1.02-.2 1.41-.59l7.78-7.78 2.81-2.81c.8-.78.8-2.07 0-2.86zM5.41 20L4 18.59l7.72-7.72 1.47 1.35L5.41 20z\"/>\n",
              "  </svg>\n",
              "      </button>\n",
              "      \n",
              "  <style>\n",
              "    .colab-df-container {\n",
              "      display:flex;\n",
              "      flex-wrap:wrap;\n",
              "      gap: 12px;\n",
              "    }\n",
              "\n",
              "    .colab-df-convert {\n",
              "      background-color: #E8F0FE;\n",
              "      border: none;\n",
              "      border-radius: 50%;\n",
              "      cursor: pointer;\n",
              "      display: none;\n",
              "      fill: #1967D2;\n",
              "      height: 32px;\n",
              "      padding: 0 0 0 0;\n",
              "      width: 32px;\n",
              "    }\n",
              "\n",
              "    .colab-df-convert:hover {\n",
              "      background-color: #E2EBFA;\n",
              "      box-shadow: 0px 1px 2px rgba(60, 64, 67, 0.3), 0px 1px 3px 1px rgba(60, 64, 67, 0.15);\n",
              "      fill: #174EA6;\n",
              "    }\n",
              "\n",
              "    [theme=dark] .colab-df-convert {\n",
              "      background-color: #3B4455;\n",
              "      fill: #D2E3FC;\n",
              "    }\n",
              "\n",
              "    [theme=dark] .colab-df-convert:hover {\n",
              "      background-color: #434B5C;\n",
              "      box-shadow: 0px 1px 3px 1px rgba(0, 0, 0, 0.15);\n",
              "      filter: drop-shadow(0px 1px 2px rgba(0, 0, 0, 0.3));\n",
              "      fill: #FFFFFF;\n",
              "    }\n",
              "  </style>\n",
              "\n",
              "      <script>\n",
              "        const buttonEl =\n",
              "          document.querySelector('#df-590fdf7d-90f4-4ce4-a0d2-9ec6a2a54339 button.colab-df-convert');\n",
              "        buttonEl.style.display =\n",
              "          google.colab.kernel.accessAllowed ? 'block' : 'none';\n",
              "\n",
              "        async function convertToInteractive(key) {\n",
              "          const element = document.querySelector('#df-590fdf7d-90f4-4ce4-a0d2-9ec6a2a54339');\n",
              "          const dataTable =\n",
              "            await google.colab.kernel.invokeFunction('convertToInteractive',\n",
              "                                                     [key], {});\n",
              "          if (!dataTable) return;\n",
              "\n",
              "          const docLinkHtml = 'Like what you see? Visit the ' +\n",
              "            '<a target=\"_blank\" href=https://colab.research.google.com/notebooks/data_table.ipynb>data table notebook</a>'\n",
              "            + ' to learn more about interactive tables.';\n",
              "          element.innerHTML = '';\n",
              "          dataTable['output_type'] = 'display_data';\n",
              "          await google.colab.output.renderOutput(dataTable, element);\n",
              "          const docLink = document.createElement('div');\n",
              "          docLink.innerHTML = docLinkHtml;\n",
              "          element.appendChild(docLink);\n",
              "        }\n",
              "      </script>\n",
              "    </div>\n",
              "  </div>\n",
              "  "
            ],
            "text/plain": [
              "   TARGET   AGE  ...  NAME_TYPE_SUITE       ORGANIZATION_TYPE\n",
              "0       1  25.0  ...    Unaccompanied  Business Entity Type 3\n",
              "1       0  45.0  ...           Family                  School\n",
              "2       0  52.0  ...    Unaccompanied              Government\n",
              "3       0  52.0  ...    Unaccompanied  Business Entity Type 3\n",
              "4       0  54.0  ...    Unaccompanied                Religion\n",
              "\n",
              "[5 rows x 32 columns]"
            ]
          },
          "metadata": {},
          "execution_count": 4
        }
      ]
    },
    {
      "cell_type": "code",
      "source": [
        "DataForML_t['CODE_GENDER'].replace({'Male':1, 'Female':0}, inplace=True)\n",
        "DataForML_t['FLAG_OWN_CAR'].replace({'Y':1, 'N':0}, inplace=True)\n",
        "DataForML_t['NAME_CONTRACT_TYPE'].replace({'Revolving loans':1, 'Cash loans':0}, inplace=True)\n",
        "DataForML_t['FLAG_OWN_REALTY'].replace({'Y':1, 'N':0}, inplace=True)"
      ],
      "metadata": {
        "id": "C5dCE_tdSjys"
      },
      "execution_count": null,
      "outputs": []
    },
    {
      "cell_type": "code",
      "source": [
        "# Treating all the nominal variables at once using dummy variables\n",
        "DataForML_Numeric=pd.get_dummies(DataForML_t)\n",
        "DataForML_Numeric.head()"
      ],
      "metadata": {
        "colab": {
          "base_uri": "https://localhost:8080/"
        },
        "id": "-3DDPGNPWkJJ",
        "outputId": "22bda542-a05a-406c-d6ac-2f445bb4dfcd"
      },
      "execution_count": null,
      "outputs": [
        {
          "output_type": "execute_result",
          "data": {
            "text/html": [
              "\n",
              "  <div id=\"df-b260e68a-9212-4518-9926-35eabe7cebd8\">\n",
              "    <div class=\"colab-df-container\">\n",
              "      <div>\n",
              "<style scoped>\n",
              "    .dataframe tbody tr th:only-of-type {\n",
              "        vertical-align: middle;\n",
              "    }\n",
              "\n",
              "    .dataframe tbody tr th {\n",
              "        vertical-align: top;\n",
              "    }\n",
              "\n",
              "    .dataframe thead th {\n",
              "        text-align: right;\n",
              "    }\n",
              "</style>\n",
              "<table border=\"1\" class=\"dataframe\">\n",
              "  <thead>\n",
              "    <tr style=\"text-align: right;\">\n",
              "      <th></th>\n",
              "      <th>TARGET</th>\n",
              "      <th>AGE</th>\n",
              "      <th>AMT_CREDIT</th>\n",
              "      <th>AMT_INCOME_TOTAL</th>\n",
              "      <th>CNT_FAM_MEMBERS</th>\n",
              "      <th>YEARS_EMPLOYED</th>\n",
              "      <th>AMT_ANNUITY</th>\n",
              "      <th>FLAG_EMP_PHONE</th>\n",
              "      <th>FLAG_WORK_PHONE</th>\n",
              "      <th>FLAG_PHONE</th>\n",
              "      <th>FLAG_DOCUMENT_3</th>\n",
              "      <th>FLAG_DOCUMENT_6</th>\n",
              "      <th>REGION_RATING_CLIENT</th>\n",
              "      <th>REGION_RATING_CLIENT_W_CITY</th>\n",
              "      <th>REG_CITY_NOT_LIVE_CITY</th>\n",
              "      <th>REG_CITY_NOT_WORK_CITY</th>\n",
              "      <th>EXT_SOURCE_2</th>\n",
              "      <th>AMT_REQ_CREDIT_BUREAU_YEAR</th>\n",
              "      <th>DAYS_REGISTRATION</th>\n",
              "      <th>DAYS_ID_PUBLISH</th>\n",
              "      <th>OBS_30_CNT_SOCIAL_CIRCLE</th>\n",
              "      <th>DEF_30_CNT_SOCIAL_CIRCLE</th>\n",
              "      <th>CODE_GENDER</th>\n",
              "      <th>FLAG_OWN_CAR</th>\n",
              "      <th>NAME_CONTRACT_TYPE</th>\n",
              "      <th>FLAG_OWN_REALTY</th>\n",
              "      <th>NAME_INCOME_TYPE_Businessman</th>\n",
              "      <th>NAME_INCOME_TYPE_Commercial associate</th>\n",
              "      <th>NAME_INCOME_TYPE_Maternity leave</th>\n",
              "      <th>NAME_INCOME_TYPE_Pensioner</th>\n",
              "      <th>NAME_INCOME_TYPE_State servant</th>\n",
              "      <th>NAME_INCOME_TYPE_Student</th>\n",
              "      <th>NAME_INCOME_TYPE_Unemployed</th>\n",
              "      <th>NAME_INCOME_TYPE_Working</th>\n",
              "      <th>NAME_FAMILY_STATUS_Civil marriage</th>\n",
              "      <th>NAME_FAMILY_STATUS_Married</th>\n",
              "      <th>NAME_FAMILY_STATUS_Separated</th>\n",
              "      <th>NAME_FAMILY_STATUS_Single / not married</th>\n",
              "      <th>NAME_FAMILY_STATUS_Unknown</th>\n",
              "      <th>NAME_FAMILY_STATUS_Widow</th>\n",
              "      <th>...</th>\n",
              "      <th>ORGANIZATION_TYPE_Industry: type 13</th>\n",
              "      <th>ORGANIZATION_TYPE_Industry: type 2</th>\n",
              "      <th>ORGANIZATION_TYPE_Industry: type 3</th>\n",
              "      <th>ORGANIZATION_TYPE_Industry: type 4</th>\n",
              "      <th>ORGANIZATION_TYPE_Industry: type 5</th>\n",
              "      <th>ORGANIZATION_TYPE_Industry: type 6</th>\n",
              "      <th>ORGANIZATION_TYPE_Industry: type 7</th>\n",
              "      <th>ORGANIZATION_TYPE_Industry: type 8</th>\n",
              "      <th>ORGANIZATION_TYPE_Industry: type 9</th>\n",
              "      <th>ORGANIZATION_TYPE_Insurance</th>\n",
              "      <th>ORGANIZATION_TYPE_Kindergarten</th>\n",
              "      <th>ORGANIZATION_TYPE_Legal Services</th>\n",
              "      <th>ORGANIZATION_TYPE_Medicine</th>\n",
              "      <th>ORGANIZATION_TYPE_Military</th>\n",
              "      <th>ORGANIZATION_TYPE_Mobile</th>\n",
              "      <th>ORGANIZATION_TYPE_Other</th>\n",
              "      <th>ORGANIZATION_TYPE_Police</th>\n",
              "      <th>ORGANIZATION_TYPE_Postal</th>\n",
              "      <th>ORGANIZATION_TYPE_Realtor</th>\n",
              "      <th>ORGANIZATION_TYPE_Religion</th>\n",
              "      <th>ORGANIZATION_TYPE_Restaurant</th>\n",
              "      <th>ORGANIZATION_TYPE_School</th>\n",
              "      <th>ORGANIZATION_TYPE_Security</th>\n",
              "      <th>ORGANIZATION_TYPE_Security Ministries</th>\n",
              "      <th>ORGANIZATION_TYPE_Self-employed</th>\n",
              "      <th>ORGANIZATION_TYPE_Services</th>\n",
              "      <th>ORGANIZATION_TYPE_Telecom</th>\n",
              "      <th>ORGANIZATION_TYPE_Trade: type 1</th>\n",
              "      <th>ORGANIZATION_TYPE_Trade: type 2</th>\n",
              "      <th>ORGANIZATION_TYPE_Trade: type 3</th>\n",
              "      <th>ORGANIZATION_TYPE_Trade: type 4</th>\n",
              "      <th>ORGANIZATION_TYPE_Trade: type 5</th>\n",
              "      <th>ORGANIZATION_TYPE_Trade: type 6</th>\n",
              "      <th>ORGANIZATION_TYPE_Trade: type 7</th>\n",
              "      <th>ORGANIZATION_TYPE_Transport: type 1</th>\n",
              "      <th>ORGANIZATION_TYPE_Transport: type 2</th>\n",
              "      <th>ORGANIZATION_TYPE_Transport: type 3</th>\n",
              "      <th>ORGANIZATION_TYPE_Transport: type 4</th>\n",
              "      <th>ORGANIZATION_TYPE_University</th>\n",
              "      <th>ORGANIZATION_TYPE_XNA</th>\n",
              "    </tr>\n",
              "  </thead>\n",
              "  <tbody>\n",
              "    <tr>\n",
              "      <th>0</th>\n",
              "      <td>1</td>\n",
              "      <td>25.0</td>\n",
              "      <td>406597.5</td>\n",
              "      <td>202500.0</td>\n",
              "      <td>1.0</td>\n",
              "      <td>1.0</td>\n",
              "      <td>24700.5</td>\n",
              "      <td>1</td>\n",
              "      <td>0</td>\n",
              "      <td>1</td>\n",
              "      <td>1</td>\n",
              "      <td>0</td>\n",
              "      <td>2</td>\n",
              "      <td>2</td>\n",
              "      <td>0</td>\n",
              "      <td>0</td>\n",
              "      <td>0.262949</td>\n",
              "      <td>1</td>\n",
              "      <td>3648.0</td>\n",
              "      <td>2120</td>\n",
              "      <td>2</td>\n",
              "      <td>2.0</td>\n",
              "      <td>1</td>\n",
              "      <td>0</td>\n",
              "      <td>0</td>\n",
              "      <td>1</td>\n",
              "      <td>0</td>\n",
              "      <td>0</td>\n",
              "      <td>0</td>\n",
              "      <td>0</td>\n",
              "      <td>0</td>\n",
              "      <td>0</td>\n",
              "      <td>0</td>\n",
              "      <td>1</td>\n",
              "      <td>0</td>\n",
              "      <td>0</td>\n",
              "      <td>0</td>\n",
              "      <td>1</td>\n",
              "      <td>0</td>\n",
              "      <td>0</td>\n",
              "      <td>...</td>\n",
              "      <td>0</td>\n",
              "      <td>0</td>\n",
              "      <td>0</td>\n",
              "      <td>0</td>\n",
              "      <td>0</td>\n",
              "      <td>0</td>\n",
              "      <td>0</td>\n",
              "      <td>0</td>\n",
              "      <td>0</td>\n",
              "      <td>0</td>\n",
              "      <td>0</td>\n",
              "      <td>0</td>\n",
              "      <td>0</td>\n",
              "      <td>0</td>\n",
              "      <td>0</td>\n",
              "      <td>0</td>\n",
              "      <td>0</td>\n",
              "      <td>0</td>\n",
              "      <td>0</td>\n",
              "      <td>0</td>\n",
              "      <td>0</td>\n",
              "      <td>0</td>\n",
              "      <td>0</td>\n",
              "      <td>0</td>\n",
              "      <td>0</td>\n",
              "      <td>0</td>\n",
              "      <td>0</td>\n",
              "      <td>0</td>\n",
              "      <td>0</td>\n",
              "      <td>0</td>\n",
              "      <td>0</td>\n",
              "      <td>0</td>\n",
              "      <td>0</td>\n",
              "      <td>0</td>\n",
              "      <td>0</td>\n",
              "      <td>0</td>\n",
              "      <td>0</td>\n",
              "      <td>0</td>\n",
              "      <td>0</td>\n",
              "      <td>0</td>\n",
              "    </tr>\n",
              "    <tr>\n",
              "      <th>1</th>\n",
              "      <td>0</td>\n",
              "      <td>45.0</td>\n",
              "      <td>1293502.5</td>\n",
              "      <td>270000.0</td>\n",
              "      <td>2.0</td>\n",
              "      <td>3.0</td>\n",
              "      <td>35698.5</td>\n",
              "      <td>1</td>\n",
              "      <td>0</td>\n",
              "      <td>1</td>\n",
              "      <td>1</td>\n",
              "      <td>0</td>\n",
              "      <td>1</td>\n",
              "      <td>1</td>\n",
              "      <td>0</td>\n",
              "      <td>0</td>\n",
              "      <td>0.622246</td>\n",
              "      <td>0</td>\n",
              "      <td>1186.0</td>\n",
              "      <td>291</td>\n",
              "      <td>1</td>\n",
              "      <td>0.0</td>\n",
              "      <td>0</td>\n",
              "      <td>0</td>\n",
              "      <td>0</td>\n",
              "      <td>0</td>\n",
              "      <td>0</td>\n",
              "      <td>0</td>\n",
              "      <td>0</td>\n",
              "      <td>0</td>\n",
              "      <td>1</td>\n",
              "      <td>0</td>\n",
              "      <td>0</td>\n",
              "      <td>0</td>\n",
              "      <td>0</td>\n",
              "      <td>1</td>\n",
              "      <td>0</td>\n",
              "      <td>0</td>\n",
              "      <td>0</td>\n",
              "      <td>0</td>\n",
              "      <td>...</td>\n",
              "      <td>0</td>\n",
              "      <td>0</td>\n",
              "      <td>0</td>\n",
              "      <td>0</td>\n",
              "      <td>0</td>\n",
              "      <td>0</td>\n",
              "      <td>0</td>\n",
              "      <td>0</td>\n",
              "      <td>0</td>\n",
              "      <td>0</td>\n",
              "      <td>0</td>\n",
              "      <td>0</td>\n",
              "      <td>0</td>\n",
              "      <td>0</td>\n",
              "      <td>0</td>\n",
              "      <td>0</td>\n",
              "      <td>0</td>\n",
              "      <td>0</td>\n",
              "      <td>0</td>\n",
              "      <td>0</td>\n",
              "      <td>0</td>\n",
              "      <td>1</td>\n",
              "      <td>0</td>\n",
              "      <td>0</td>\n",
              "      <td>0</td>\n",
              "      <td>0</td>\n",
              "      <td>0</td>\n",
              "      <td>0</td>\n",
              "      <td>0</td>\n",
              "      <td>0</td>\n",
              "      <td>0</td>\n",
              "      <td>0</td>\n",
              "      <td>0</td>\n",
              "      <td>0</td>\n",
              "      <td>0</td>\n",
              "      <td>0</td>\n",
              "      <td>0</td>\n",
              "      <td>0</td>\n",
              "      <td>0</td>\n",
              "      <td>0</td>\n",
              "    </tr>\n",
              "    <tr>\n",
              "      <th>2</th>\n",
              "      <td>0</td>\n",
              "      <td>52.0</td>\n",
              "      <td>135000.0</td>\n",
              "      <td>67500.0</td>\n",
              "      <td>1.0</td>\n",
              "      <td>0.0</td>\n",
              "      <td>6750.0</td>\n",
              "      <td>1</td>\n",
              "      <td>1</td>\n",
              "      <td>1</td>\n",
              "      <td>0</td>\n",
              "      <td>0</td>\n",
              "      <td>2</td>\n",
              "      <td>2</td>\n",
              "      <td>0</td>\n",
              "      <td>0</td>\n",
              "      <td>0.555912</td>\n",
              "      <td>0</td>\n",
              "      <td>4260.0</td>\n",
              "      <td>2531</td>\n",
              "      <td>0</td>\n",
              "      <td>0.0</td>\n",
              "      <td>1</td>\n",
              "      <td>1</td>\n",
              "      <td>1</td>\n",
              "      <td>1</td>\n",
              "      <td>0</td>\n",
              "      <td>0</td>\n",
              "      <td>0</td>\n",
              "      <td>0</td>\n",
              "      <td>0</td>\n",
              "      <td>0</td>\n",
              "      <td>0</td>\n",
              "      <td>1</td>\n",
              "      <td>0</td>\n",
              "      <td>0</td>\n",
              "      <td>0</td>\n",
              "      <td>1</td>\n",
              "      <td>0</td>\n",
              "      <td>0</td>\n",
              "      <td>...</td>\n",
              "      <td>0</td>\n",
              "      <td>0</td>\n",
              "      <td>0</td>\n",
              "      <td>0</td>\n",
              "      <td>0</td>\n",
              "      <td>0</td>\n",
              "      <td>0</td>\n",
              "      <td>0</td>\n",
              "      <td>0</td>\n",
              "      <td>0</td>\n",
              "      <td>0</td>\n",
              "      <td>0</td>\n",
              "      <td>0</td>\n",
              "      <td>0</td>\n",
              "      <td>0</td>\n",
              "      <td>0</td>\n",
              "      <td>0</td>\n",
              "      <td>0</td>\n",
              "      <td>0</td>\n",
              "      <td>0</td>\n",
              "      <td>0</td>\n",
              "      <td>0</td>\n",
              "      <td>0</td>\n",
              "      <td>0</td>\n",
              "      <td>0</td>\n",
              "      <td>0</td>\n",
              "      <td>0</td>\n",
              "      <td>0</td>\n",
              "      <td>0</td>\n",
              "      <td>0</td>\n",
              "      <td>0</td>\n",
              "      <td>0</td>\n",
              "      <td>0</td>\n",
              "      <td>0</td>\n",
              "      <td>0</td>\n",
              "      <td>0</td>\n",
              "      <td>0</td>\n",
              "      <td>0</td>\n",
              "      <td>0</td>\n",
              "      <td>0</td>\n",
              "    </tr>\n",
              "    <tr>\n",
              "      <th>3</th>\n",
              "      <td>0</td>\n",
              "      <td>52.0</td>\n",
              "      <td>312682.5</td>\n",
              "      <td>135000.0</td>\n",
              "      <td>2.0</td>\n",
              "      <td>8.0</td>\n",
              "      <td>29686.5</td>\n",
              "      <td>1</td>\n",
              "      <td>0</td>\n",
              "      <td>0</td>\n",
              "      <td>1</td>\n",
              "      <td>0</td>\n",
              "      <td>2</td>\n",
              "      <td>2</td>\n",
              "      <td>0</td>\n",
              "      <td>0</td>\n",
              "      <td>0.650442</td>\n",
              "      <td>0</td>\n",
              "      <td>9833.0</td>\n",
              "      <td>2437</td>\n",
              "      <td>2</td>\n",
              "      <td>0.0</td>\n",
              "      <td>0</td>\n",
              "      <td>0</td>\n",
              "      <td>0</td>\n",
              "      <td>1</td>\n",
              "      <td>0</td>\n",
              "      <td>0</td>\n",
              "      <td>0</td>\n",
              "      <td>0</td>\n",
              "      <td>0</td>\n",
              "      <td>0</td>\n",
              "      <td>0</td>\n",
              "      <td>1</td>\n",
              "      <td>1</td>\n",
              "      <td>0</td>\n",
              "      <td>0</td>\n",
              "      <td>0</td>\n",
              "      <td>0</td>\n",
              "      <td>0</td>\n",
              "      <td>...</td>\n",
              "      <td>0</td>\n",
              "      <td>0</td>\n",
              "      <td>0</td>\n",
              "      <td>0</td>\n",
              "      <td>0</td>\n",
              "      <td>0</td>\n",
              "      <td>0</td>\n",
              "      <td>0</td>\n",
              "      <td>0</td>\n",
              "      <td>0</td>\n",
              "      <td>0</td>\n",
              "      <td>0</td>\n",
              "      <td>0</td>\n",
              "      <td>0</td>\n",
              "      <td>0</td>\n",
              "      <td>0</td>\n",
              "      <td>0</td>\n",
              "      <td>0</td>\n",
              "      <td>0</td>\n",
              "      <td>0</td>\n",
              "      <td>0</td>\n",
              "      <td>0</td>\n",
              "      <td>0</td>\n",
              "      <td>0</td>\n",
              "      <td>0</td>\n",
              "      <td>0</td>\n",
              "      <td>0</td>\n",
              "      <td>0</td>\n",
              "      <td>0</td>\n",
              "      <td>0</td>\n",
              "      <td>0</td>\n",
              "      <td>0</td>\n",
              "      <td>0</td>\n",
              "      <td>0</td>\n",
              "      <td>0</td>\n",
              "      <td>0</td>\n",
              "      <td>0</td>\n",
              "      <td>0</td>\n",
              "      <td>0</td>\n",
              "      <td>0</td>\n",
              "    </tr>\n",
              "    <tr>\n",
              "      <th>4</th>\n",
              "      <td>0</td>\n",
              "      <td>54.0</td>\n",
              "      <td>513000.0</td>\n",
              "      <td>121500.0</td>\n",
              "      <td>1.0</td>\n",
              "      <td>8.0</td>\n",
              "      <td>21865.5</td>\n",
              "      <td>1</td>\n",
              "      <td>0</td>\n",
              "      <td>0</td>\n",
              "      <td>0</td>\n",
              "      <td>0</td>\n",
              "      <td>2</td>\n",
              "      <td>2</td>\n",
              "      <td>0</td>\n",
              "      <td>1</td>\n",
              "      <td>0.322738</td>\n",
              "      <td>0</td>\n",
              "      <td>4311.0</td>\n",
              "      <td>3458</td>\n",
              "      <td>0</td>\n",
              "      <td>0.0</td>\n",
              "      <td>1</td>\n",
              "      <td>0</td>\n",
              "      <td>0</td>\n",
              "      <td>1</td>\n",
              "      <td>0</td>\n",
              "      <td>0</td>\n",
              "      <td>0</td>\n",
              "      <td>0</td>\n",
              "      <td>0</td>\n",
              "      <td>0</td>\n",
              "      <td>0</td>\n",
              "      <td>1</td>\n",
              "      <td>0</td>\n",
              "      <td>0</td>\n",
              "      <td>0</td>\n",
              "      <td>1</td>\n",
              "      <td>0</td>\n",
              "      <td>0</td>\n",
              "      <td>...</td>\n",
              "      <td>0</td>\n",
              "      <td>0</td>\n",
              "      <td>0</td>\n",
              "      <td>0</td>\n",
              "      <td>0</td>\n",
              "      <td>0</td>\n",
              "      <td>0</td>\n",
              "      <td>0</td>\n",
              "      <td>0</td>\n",
              "      <td>0</td>\n",
              "      <td>0</td>\n",
              "      <td>0</td>\n",
              "      <td>0</td>\n",
              "      <td>0</td>\n",
              "      <td>0</td>\n",
              "      <td>0</td>\n",
              "      <td>0</td>\n",
              "      <td>0</td>\n",
              "      <td>0</td>\n",
              "      <td>1</td>\n",
              "      <td>0</td>\n",
              "      <td>0</td>\n",
              "      <td>0</td>\n",
              "      <td>0</td>\n",
              "      <td>0</td>\n",
              "      <td>0</td>\n",
              "      <td>0</td>\n",
              "      <td>0</td>\n",
              "      <td>0</td>\n",
              "      <td>0</td>\n",
              "      <td>0</td>\n",
              "      <td>0</td>\n",
              "      <td>0</td>\n",
              "      <td>0</td>\n",
              "      <td>0</td>\n",
              "      <td>0</td>\n",
              "      <td>0</td>\n",
              "      <td>0</td>\n",
              "      <td>0</td>\n",
              "      <td>0</td>\n",
              "    </tr>\n",
              "  </tbody>\n",
              "</table>\n",
              "<p>5 rows × 116 columns</p>\n",
              "</div>\n",
              "      <button class=\"colab-df-convert\" onclick=\"convertToInteractive('df-b260e68a-9212-4518-9926-35eabe7cebd8')\"\n",
              "              title=\"Convert this dataframe to an interactive table.\"\n",
              "              style=\"display:none;\">\n",
              "        \n",
              "  <svg xmlns=\"http://www.w3.org/2000/svg\" height=\"24px\"viewBox=\"0 0 24 24\"\n",
              "       width=\"24px\">\n",
              "    <path d=\"M0 0h24v24H0V0z\" fill=\"none\"/>\n",
              "    <path d=\"M18.56 5.44l.94 2.06.94-2.06 2.06-.94-2.06-.94-.94-2.06-.94 2.06-2.06.94zm-11 1L8.5 8.5l.94-2.06 2.06-.94-2.06-.94L8.5 2.5l-.94 2.06-2.06.94zm10 10l.94 2.06.94-2.06 2.06-.94-2.06-.94-.94-2.06-.94 2.06-2.06.94z\"/><path d=\"M17.41 7.96l-1.37-1.37c-.4-.4-.92-.59-1.43-.59-.52 0-1.04.2-1.43.59L10.3 9.45l-7.72 7.72c-.78.78-.78 2.05 0 2.83L4 21.41c.39.39.9.59 1.41.59.51 0 1.02-.2 1.41-.59l7.78-7.78 2.81-2.81c.8-.78.8-2.07 0-2.86zM5.41 20L4 18.59l7.72-7.72 1.47 1.35L5.41 20z\"/>\n",
              "  </svg>\n",
              "      </button>\n",
              "      \n",
              "  <style>\n",
              "    .colab-df-container {\n",
              "      display:flex;\n",
              "      flex-wrap:wrap;\n",
              "      gap: 12px;\n",
              "    }\n",
              "\n",
              "    .colab-df-convert {\n",
              "      background-color: #E8F0FE;\n",
              "      border: none;\n",
              "      border-radius: 50%;\n",
              "      cursor: pointer;\n",
              "      display: none;\n",
              "      fill: #1967D2;\n",
              "      height: 32px;\n",
              "      padding: 0 0 0 0;\n",
              "      width: 32px;\n",
              "    }\n",
              "\n",
              "    .colab-df-convert:hover {\n",
              "      background-color: #E2EBFA;\n",
              "      box-shadow: 0px 1px 2px rgba(60, 64, 67, 0.3), 0px 1px 3px 1px rgba(60, 64, 67, 0.15);\n",
              "      fill: #174EA6;\n",
              "    }\n",
              "\n",
              "    [theme=dark] .colab-df-convert {\n",
              "      background-color: #3B4455;\n",
              "      fill: #D2E3FC;\n",
              "    }\n",
              "\n",
              "    [theme=dark] .colab-df-convert:hover {\n",
              "      background-color: #434B5C;\n",
              "      box-shadow: 0px 1px 3px 1px rgba(0, 0, 0, 0.15);\n",
              "      filter: drop-shadow(0px 1px 2px rgba(0, 0, 0, 0.3));\n",
              "      fill: #FFFFFF;\n",
              "    }\n",
              "  </style>\n",
              "\n",
              "      <script>\n",
              "        const buttonEl =\n",
              "          document.querySelector('#df-b260e68a-9212-4518-9926-35eabe7cebd8 button.colab-df-convert');\n",
              "        buttonEl.style.display =\n",
              "          google.colab.kernel.accessAllowed ? 'block' : 'none';\n",
              "\n",
              "        async function convertToInteractive(key) {\n",
              "          const element = document.querySelector('#df-b260e68a-9212-4518-9926-35eabe7cebd8');\n",
              "          const dataTable =\n",
              "            await google.colab.kernel.invokeFunction('convertToInteractive',\n",
              "                                                     [key], {});\n",
              "          if (!dataTable) return;\n",
              "\n",
              "          const docLinkHtml = 'Like what you see? Visit the ' +\n",
              "            '<a target=\"_blank\" href=https://colab.research.google.com/notebooks/data_table.ipynb>data table notebook</a>'\n",
              "            + ' to learn more about interactive tables.';\n",
              "          element.innerHTML = '';\n",
              "          dataTable['output_type'] = 'display_data';\n",
              "          await google.colab.output.renderOutput(dataTable, element);\n",
              "          const docLink = document.createElement('div');\n",
              "          docLink.innerHTML = docLinkHtml;\n",
              "          element.appendChild(docLink);\n",
              "        }\n",
              "      </script>\n",
              "    </div>\n",
              "  </div>\n",
              "  "
            ],
            "text/plain": [
              "   TARGET   AGE  ...  ORGANIZATION_TYPE_University  ORGANIZATION_TYPE_XNA\n",
              "0       1  25.0  ...                             0                      0\n",
              "1       0  45.0  ...                             0                      0\n",
              "2       0  52.0  ...                             0                      0\n",
              "3       0  52.0  ...                             0                      0\n",
              "4       0  54.0  ...                             0                      0\n",
              "\n",
              "[5 rows x 116 columns]"
            ]
          },
          "metadata": {},
          "execution_count": 6
        }
      ]
    },
    {
      "cell_type": "code",
      "source": [
        "print(DataForML_Numeric.shape)"
      ],
      "metadata": {
        "colab": {
          "base_uri": "https://localhost:8080/"
        },
        "id": "grmPYyebXNtZ",
        "outputId": "f4bae414-f1c4-4787-bf48-2f766779b078"
      },
      "execution_count": null,
      "outputs": [
        {
          "output_type": "stream",
          "name": "stdout",
          "text": [
            "(306486, 116)\n"
          ]
        }
      ]
    },
    {
      "cell_type": "code",
      "source": [
        ""
      ],
      "metadata": {
        "id": "L5NUOZJx_HFl"
      },
      "execution_count": null,
      "outputs": []
    },
    {
      "cell_type": "markdown",
      "source": [
        "# **Machine Learning**\n",
        "\n"
      ],
      "metadata": {
        "id": "RlK_dHrvYUB8"
      }
    },
    {
      "cell_type": "code",
      "source": [
        "# Printing all the column names for our reference\n",
        "print(list(DataForML_Numeric.columns))"
      ],
      "metadata": {
        "colab": {
          "base_uri": "https://localhost:8080/"
        },
        "id": "Ce-l8lKFYkw-",
        "outputId": "6951293d-6d9f-441c-88af-4f767d4a4708"
      },
      "execution_count": null,
      "outputs": [
        {
          "output_type": "stream",
          "name": "stdout",
          "text": [
            "['TARGET', 'AGE', 'AMT_CREDIT', 'AMT_INCOME_TOTAL', 'CNT_FAM_MEMBERS', 'YEARS_EMPLOYED', 'AMT_ANNUITY', 'FLAG_EMP_PHONE', 'FLAG_WORK_PHONE', 'FLAG_PHONE', 'FLAG_DOCUMENT_3', 'FLAG_DOCUMENT_6', 'REGION_RATING_CLIENT', 'REGION_RATING_CLIENT_W_CITY', 'REG_CITY_NOT_LIVE_CITY', 'REG_CITY_NOT_WORK_CITY', 'EXT_SOURCE_2', 'AMT_REQ_CREDIT_BUREAU_YEAR', 'DAYS_REGISTRATION', 'DAYS_ID_PUBLISH', 'OBS_30_CNT_SOCIAL_CIRCLE', 'DEF_30_CNT_SOCIAL_CIRCLE', 'CODE_GENDER', 'FLAG_OWN_CAR', 'NAME_CONTRACT_TYPE', 'FLAG_OWN_REALTY', 'NAME_INCOME_TYPE_Businessman', 'NAME_INCOME_TYPE_Commercial associate', 'NAME_INCOME_TYPE_Maternity leave', 'NAME_INCOME_TYPE_Pensioner', 'NAME_INCOME_TYPE_State servant', 'NAME_INCOME_TYPE_Student', 'NAME_INCOME_TYPE_Unemployed', 'NAME_INCOME_TYPE_Working', 'NAME_FAMILY_STATUS_Civil marriage', 'NAME_FAMILY_STATUS_Married', 'NAME_FAMILY_STATUS_Separated', 'NAME_FAMILY_STATUS_Single / not married', 'NAME_FAMILY_STATUS_Unknown', 'NAME_FAMILY_STATUS_Widow', 'NAME_HOUSING_TYPE_Co-op apartment', 'NAME_HOUSING_TYPE_House / apartment', 'NAME_HOUSING_TYPE_Municipal apartment', 'NAME_HOUSING_TYPE_Office apartment', 'NAME_HOUSING_TYPE_Rented apartment', 'NAME_HOUSING_TYPE_With parents', 'NAME_EDUCATION_TYPE_Academic degree', 'NAME_EDUCATION_TYPE_Higher education', 'NAME_EDUCATION_TYPE_Incomplete higher', 'NAME_EDUCATION_TYPE_Lower secondary', 'NAME_EDUCATION_TYPE_Secondary / secondary special', 'NAME_TYPE_SUITE_Children', 'NAME_TYPE_SUITE_Family', 'NAME_TYPE_SUITE_Group of people', 'NAME_TYPE_SUITE_Other_A', 'NAME_TYPE_SUITE_Other_B', 'NAME_TYPE_SUITE_Spouse, partner', 'NAME_TYPE_SUITE_Unaccompanied', 'ORGANIZATION_TYPE_Advertising', 'ORGANIZATION_TYPE_Agriculture', 'ORGANIZATION_TYPE_Bank', 'ORGANIZATION_TYPE_Business Entity Type 1', 'ORGANIZATION_TYPE_Business Entity Type 2', 'ORGANIZATION_TYPE_Business Entity Type 3', 'ORGANIZATION_TYPE_Cleaning', 'ORGANIZATION_TYPE_Construction', 'ORGANIZATION_TYPE_Culture', 'ORGANIZATION_TYPE_Electricity', 'ORGANIZATION_TYPE_Emergency', 'ORGANIZATION_TYPE_Government', 'ORGANIZATION_TYPE_Hotel', 'ORGANIZATION_TYPE_Housing', 'ORGANIZATION_TYPE_Industry: type 1', 'ORGANIZATION_TYPE_Industry: type 10', 'ORGANIZATION_TYPE_Industry: type 11', 'ORGANIZATION_TYPE_Industry: type 12', 'ORGANIZATION_TYPE_Industry: type 13', 'ORGANIZATION_TYPE_Industry: type 2', 'ORGANIZATION_TYPE_Industry: type 3', 'ORGANIZATION_TYPE_Industry: type 4', 'ORGANIZATION_TYPE_Industry: type 5', 'ORGANIZATION_TYPE_Industry: type 6', 'ORGANIZATION_TYPE_Industry: type 7', 'ORGANIZATION_TYPE_Industry: type 8', 'ORGANIZATION_TYPE_Industry: type 9', 'ORGANIZATION_TYPE_Insurance', 'ORGANIZATION_TYPE_Kindergarten', 'ORGANIZATION_TYPE_Legal Services', 'ORGANIZATION_TYPE_Medicine', 'ORGANIZATION_TYPE_Military', 'ORGANIZATION_TYPE_Mobile', 'ORGANIZATION_TYPE_Other', 'ORGANIZATION_TYPE_Police', 'ORGANIZATION_TYPE_Postal', 'ORGANIZATION_TYPE_Realtor', 'ORGANIZATION_TYPE_Religion', 'ORGANIZATION_TYPE_Restaurant', 'ORGANIZATION_TYPE_School', 'ORGANIZATION_TYPE_Security', 'ORGANIZATION_TYPE_Security Ministries', 'ORGANIZATION_TYPE_Self-employed', 'ORGANIZATION_TYPE_Services', 'ORGANIZATION_TYPE_Telecom', 'ORGANIZATION_TYPE_Trade: type 1', 'ORGANIZATION_TYPE_Trade: type 2', 'ORGANIZATION_TYPE_Trade: type 3', 'ORGANIZATION_TYPE_Trade: type 4', 'ORGANIZATION_TYPE_Trade: type 5', 'ORGANIZATION_TYPE_Trade: type 6', 'ORGANIZATION_TYPE_Trade: type 7', 'ORGANIZATION_TYPE_Transport: type 1', 'ORGANIZATION_TYPE_Transport: type 2', 'ORGANIZATION_TYPE_Transport: type 3', 'ORGANIZATION_TYPE_Transport: type 4', 'ORGANIZATION_TYPE_University', 'ORGANIZATION_TYPE_XNA']\n"
          ]
        }
      ]
    },
    {
      "cell_type": "code",
      "source": [
        "# Separate Target Variable and Predictor Variables\n",
        "TargetVariable='TARGET'\n",
        "Predictors=[ 'AGE', 'AMT_CREDIT', 'AMT_INCOME_TOTAL', 'CNT_FAM_MEMBERS', 'YEARS_EMPLOYED', 'AMT_ANNUITY', 'FLAG_EMP_PHONE', 'FLAG_WORK_PHONE', 'FLAG_PHONE', \n",
        "             'FLAG_DOCUMENT_3', 'FLAG_DOCUMENT_6', 'REGION_RATING_CLIENT', 'REGION_RATING_CLIENT_W_CITY', 'REG_CITY_NOT_LIVE_CITY', 'REG_CITY_NOT_WORK_CITY', \n",
        "             'EXT_SOURCE_2', 'AMT_REQ_CREDIT_BUREAU_YEAR', 'DAYS_REGISTRATION', 'DAYS_ID_PUBLISH', 'OBS_30_CNT_SOCIAL_CIRCLE', 'DEF_30_CNT_SOCIAL_CIRCLE', \n",
        "             'NAME_CONTRACT_TYPE', 'CODE_GENDER', 'FLAG_OWN_CAR',  'FLAG_OWN_REALTY',\n",
        "             \n",
        "             'NAME_TYPE_SUITE_Unaccompanied', 'NAME_TYPE_SUITE_Family', 'NAME_TYPE_SUITE_Spouse, partner', 'NAME_TYPE_SUITE_Children', \n",
        "             'NAME_TYPE_SUITE_Other_B', 'NAME_TYPE_SUITE_Other_A', 'NAME_TYPE_SUITE_Group of people',\n",
        "             \n",
        "             'NAME_EDUCATION_TYPE_Secondary / secondary special', 'NAME_EDUCATION_TYPE_Higher education', 'NAME_EDUCATION_TYPE_Incomplete higher',\n",
        "             'NAME_EDUCATION_TYPE_Lower secondary', 'NAME_EDUCATION_TYPE_Academic degree',  \n",
        "               \n",
        "             'NAME_FAMILY_STATUS_Married', 'NAME_FAMILY_STATUS_Single / not married', 'NAME_FAMILY_STATUS_Civil marriage', \n",
        "             'NAME_FAMILY_STATUS_Separated', 'NAME_FAMILY_STATUS_Widow', 'NAME_FAMILY_STATUS_Unknown',     \n",
        "\n",
        "             'NAME_HOUSING_TYPE_House / apartment', 'NAME_HOUSING_TYPE_With parents', 'NAME_HOUSING_TYPE_Municipal apartment',  \n",
        "             'NAME_HOUSING_TYPE_Rented apartment', 'NAME_HOUSING_TYPE_Office apartment', 'NAME_HOUSING_TYPE_Co-op apartment',         \n",
        "\n",
        "             'ORGANIZATION_TYPE_Business Entity Type 3', 'ORGANIZATION_TYPE_XNA', 'ORGANIZATION_TYPE_Self-employed', 'ORGANIZATION_TYPE_Other',\n",
        "             'ORGANIZATION_TYPE_Medicine', 'ORGANIZATION_TYPE_Business Entity Type 2', 'ORGANIZATION_TYPE_Government', 'ORGANIZATION_TYPE_School',\n",
        "             'ORGANIZATION_TYPE_Trade: type 7', 'ORGANIZATION_TYPE_Kindergarten', 'ORGANIZATION_TYPE_Construction', 'ORGANIZATION_TYPE_Business Entity Type 1',\n",
        "             'ORGANIZATION_TYPE_Transport: type 4', 'ORGANIZATION_TYPE_Trade: type 3', 'ORGANIZATION_TYPE_Industry: type 9', 'ORGANIZATION_TYPE_Industry: type 3',\n",
        "             'ORGANIZATION_TYPE_Security', 'ORGANIZATION_TYPE_Housing', 'ORGANIZATION_TYPE_Industry: type 11', 'ORGANIZATION_TYPE_Military',\n",
        "             'ORGANIZATION_TYPE_Bank', 'ORGANIZATION_TYPE_Agriculture', 'ORGANIZATION_TYPE_Police', 'ORGANIZATION_TYPE_Transport: type 2',\n",
        "             'ORGANIZATION_TYPE_Postal', 'ORGANIZATION_TYPE_Security Ministries', 'ORGANIZATION_TYPE_Trade: type 2', 'ORGANIZATION_TYPE_Restaurant',\n",
        "             'ORGANIZATION_TYPE_Services', 'ORGANIZATION_TYPE_University', 'ORGANIZATION_TYPE_Industry: type 7', 'ORGANIZATION_TYPE_Transport: type 3',\n",
        "             'ORGANIZATION_TYPE_Industry: type 1', 'ORGANIZATION_TYPE_Hotel', 'ORGANIZATION_TYPE_Electricity', 'ORGANIZATION_TYPE_Industry: type 4',\n",
        "             'ORGANIZATION_TYPE_Trade: type 6', 'ORGANIZATION_TYPE_Industry: type 5', 'ORGANIZATION_TYPE_Insurance', 'ORGANIZATION_TYPE_Telecom',\n",
        "             'ORGANIZATION_TYPE_Emergency', 'ORGANIZATION_TYPE_Industry: type 2', 'ORGANIZATION_TYPE_Advertising', 'ORGANIZATION_TYPE_Realtor',\n",
        "             'ORGANIZATION_TYPE_Culture', 'ORGANIZATION_TYPE_Industry: type 12', 'ORGANIZATION_TYPE_Trade: type 1',\n",
        "             'ORGANIZATION_TYPE_Mobile', 'ORGANIZATION_TYPE_Legal Services', 'ORGANIZATION_TYPE_Cleaning', 'ORGANIZATION_TYPE_Transport: type 1', \n",
        "             'ORGANIZATION_TYPE_Industry: type 6', 'ORGANIZATION_TYPE_Industry: type 10', 'ORGANIZATION_TYPE_Religion', 'ORGANIZATION_TYPE_Industry: type 13',\n",
        "             'ORGANIZATION_TYPE_Trade: type 4', 'ORGANIZATION_TYPE_Trade: type 5', 'ORGANIZATION_TYPE_Industry: type 8',    \n",
        "                  \n",
        "             'NAME_INCOME_TYPE_Working', 'NAME_INCOME_TYPE_Commercial associate', 'NAME_INCOME_TYPE_Pensioner', 'NAME_INCOME_TYPE_State servant', \n",
        "             'NAME_INCOME_TYPE_Unemployed', 'NAME_INCOME_TYPE_Student', 'NAME_INCOME_TYPE_Businessman', 'NAME_INCOME_TYPE_Maternity leave']\n",
        "\n",
        "X_ml=DataForML_Numeric[Predictors].values\n",
        "y_ml=DataForML_Numeric[TargetVariable].values\n",
        "\n",
        "# Split the data into training and testing set\n",
        "from sklearn.model_selection import train_test_split\n",
        "X_train_ml, X_test_ml, y_train_ml, y_test_ml = train_test_split(X_ml, y_ml, test_size=0.3, random_state=428)\n"
      ],
      "metadata": {
        "id": "EksWYWE_YwUJ"
      },
      "execution_count": null,
      "outputs": []
    },
    {
      "cell_type": "markdown",
      "source": [
        "# **Standardization/Normalization of data**"
      ],
      "metadata": {
        "id": "YzMntGYLaor4"
      }
    },
    {
      "cell_type": "code",
      "source": [
        "### Sandardization of data ###\n",
        "from sklearn.preprocessing import StandardScaler, MinMaxScaler\n",
        "# Choose either standardization or Normalization\n",
        "# On this data Min Max Normalization produced better results\n",
        "\n",
        "# Choose between standardization and MinMAx normalization\n",
        "#PredictorScaler=StandardScaler()\n",
        "PredictorScaler=MinMaxScaler()\n",
        "\n",
        "# Storing the fit object for later reference\n",
        "PredictorScalerFit=PredictorScaler.fit(X_ml)\n",
        "\n",
        "# Generating the standardized values of X\n",
        "X_ml=PredictorScalerFit.transform(X_ml)\n",
        "\n",
        "# Split the data into training and testing set\n",
        "from sklearn.model_selection import train_test_split\n",
        "X_train_ml, X_test_ml, y_train_ml, y_test_ml = train_test_split(X_ml, y_ml, test_size=0.3, random_state=42)"
      ],
      "metadata": {
        "id": "t0GiZegua0_C"
      },
      "execution_count": null,
      "outputs": []
    },
    {
      "cell_type": "code",
      "source": [
        "# Sanity check for the sampled data\n",
        "print(X_train_ml.shape)\n",
        "print(y_train_ml.shape)\n",
        "print(X_test_ml.shape)\n",
        "print(y_test_ml.shape)"
      ],
      "metadata": {
        "colab": {
          "base_uri": "https://localhost:8080/"
        },
        "id": "pyVe5u1qa5oK",
        "outputId": "5c810d05-486b-4156-cf9a-fad694d1611d"
      },
      "execution_count": null,
      "outputs": [
        {
          "output_type": "stream",
          "name": "stdout",
          "text": [
            "(214540, 115)\n",
            "(214540,)\n",
            "(91946, 115)\n",
            "(91946,)\n"
          ]
        }
      ]
    },
    {
      "cell_type": "code",
      "source": [
        "# Get the default and non-default\n",
        "\n",
        "# default_1     = y_test[y_test['TARGET']==1]\n",
        "# non_default_1 = y_test[y_test['TARGET']==0]\n",
        "\n",
        "default_1     = y_test_ml[y_test_ml==1]\n",
        "non_default_1 = y_test_ml[y_test_ml==0]\n",
        "\n",
        "print(default_1.shape,non_default_1.shape)"
      ],
      "metadata": {
        "colab": {
          "base_uri": "https://localhost:8080/"
        },
        "id": "9ijP_UQnhzWm",
        "outputId": "09be6fc3-3933-4af0-8a0a-61d434ddfb02"
      },
      "execution_count": null,
      "outputs": [
        {
          "output_type": "stream",
          "name": "stdout",
          "text": [
            "(7437,) (84509,)\n"
          ]
        }
      ]
    },
    {
      "cell_type": "markdown",
      "source": [
        "# **Oversampling**"
      ],
      "metadata": {
        "id": "oShTo5X8BDQt"
      }
    },
    {
      "cell_type": "code",
      "source": [
        "from imblearn.over_sampling import RandomOverSampler"
      ],
      "metadata": {
        "id": "0fMUKHS6BIj1"
      },
      "execution_count": null,
      "outputs": []
    },
    {
      "cell_type": "code",
      "source": [
        "os = RandomOverSampler(0.5)\n",
        "X_train_mlos, y_train_mlos = os.fit_resample(X_train_ml, y_train_ml)\n",
        "\n",
        "print(\"The number of classes before fit {}\".format(Counter(y_train_ml)))\n",
        "print(\"The number of classes after fit {}\".format(Counter(y_train_mlos)))"
      ],
      "metadata": {
        "colab": {
          "base_uri": "https://localhost:8080/"
        },
        "id": "ifTvoVQWCBEL",
        "outputId": "93631444-c02c-4ab5-d133-172d5c44535f"
      },
      "execution_count": null,
      "outputs": [
        {
          "output_type": "stream",
          "name": "stderr",
          "text": [
            "/usr/local/lib/python3.7/dist-packages/imblearn/utils/_validation.py:591: FutureWarning: Pass sampling_strategy=0.5 as keyword args. From version 0.9 passing these as positional arguments will result in an error\n",
            "  FutureWarning,\n"
          ]
        },
        {
          "output_type": "stream",
          "name": "stdout",
          "text": [
            "The number of classes before fit Counter({0: 197188, 1: 17352})\n",
            "The number of classes after fit Counter({0: 197188, 1: 98594})\n"
          ]
        }
      ]
    },
    {
      "cell_type": "code",
      "source": [
        "X_train_mlos.shape"
      ],
      "metadata": {
        "colab": {
          "base_uri": "https://localhost:8080/"
        },
        "id": "eh5fJVj_Ez3j",
        "outputId": "e6342b18-2dec-4411-935f-36a37e96cf24"
      },
      "execution_count": null,
      "outputs": [
        {
          "output_type": "execute_result",
          "data": {
            "text/plain": [
              "(295782, 115)"
            ]
          },
          "metadata": {},
          "execution_count": 15
        }
      ]
    },
    {
      "cell_type": "code",
      "source": [
        "X_train_ml.shape"
      ],
      "metadata": {
        "colab": {
          "base_uri": "https://localhost:8080/"
        },
        "id": "645HdA3XE5r8",
        "outputId": "60b829d7-cfa8-4a21-ecd8-3757f1c197e9"
      },
      "execution_count": null,
      "outputs": [
        {
          "output_type": "execute_result",
          "data": {
            "text/plain": [
              "(214540, 115)"
            ]
          },
          "metadata": {},
          "execution_count": 16
        }
      ]
    },
    {
      "cell_type": "markdown",
      "source": [
        "# **Anamoly Detection and Removal**"
      ],
      "metadata": {
        "id": "LrdVdOmq3npj"
      }
    },
    {
      "cell_type": "code",
      "source": [
        "# identify outliers in the training dataset\n",
        "iso = IsolationForest(contamination=0.1)\n",
        "y_pred = iso.fit_predict(X_train_mlos)"
      ],
      "metadata": {
        "id": "QMuWu-uP34Lj"
      },
      "execution_count": null,
      "outputs": []
    },
    {
      "cell_type": "code",
      "source": [
        "y_pred"
      ],
      "metadata": {
        "colab": {
          "base_uri": "https://localhost:8080/"
        },
        "id": "qff7-FJP4Sfs",
        "outputId": "db9e6a84-1393-47a3-e795-c58345b25ab1"
      },
      "execution_count": null,
      "outputs": [
        {
          "output_type": "execute_result",
          "data": {
            "text/plain": [
              "array([ 1,  1,  1, ..., -1,  1,  1])"
            ]
          },
          "metadata": {},
          "execution_count": 18
        }
      ]
    },
    {
      "cell_type": "code",
      "source": [
        "# function to get unique values\n",
        "def unique(list1):\n",
        "    y_pred_unique = np.array(list1)\n",
        "    print(np.unique(y_pred_unique))"
      ],
      "metadata": {
        "id": "dnqiRKj84cbU"
      },
      "execution_count": null,
      "outputs": []
    },
    {
      "cell_type": "code",
      "source": [
        "print(\"the unique values from 1st list is\")\n",
        "unique(y_pred)"
      ],
      "metadata": {
        "colab": {
          "base_uri": "https://localhost:8080/"
        },
        "id": "v-kbPMkI4fEf",
        "outputId": "aa367f1b-2f2a-4697-a79d-e7d63c720b30"
      },
      "execution_count": null,
      "outputs": [
        {
          "output_type": "stream",
          "name": "stdout",
          "text": [
            "the unique values from 1st list is\n",
            "[-1  1]\n"
          ]
        }
      ]
    },
    {
      "cell_type": "code",
      "source": [
        "# y_train_mlos.head()"
      ],
      "metadata": {
        "id": "Ghqj2uTT4kHx"
      },
      "execution_count": null,
      "outputs": []
    },
    {
      "cell_type": "code",
      "source": [
        "# select all rows that are not outliers\n",
        "mask = y_pred != -1\n",
        "X_train_iso, y_train_iso = X_train_mlos[mask], y_train_mlos[mask]"
      ],
      "metadata": {
        "id": "e8DpSxh64pZj"
      },
      "execution_count": null,
      "outputs": []
    },
    {
      "cell_type": "code",
      "source": [
        "X_train_mlos.shape, y_train_mlos.shape"
      ],
      "metadata": {
        "colab": {
          "base_uri": "https://localhost:8080/"
        },
        "id": "me2qiZwy5iRa",
        "outputId": "22987068-40c9-4d01-df59-d43ab89cd452"
      },
      "execution_count": null,
      "outputs": [
        {
          "output_type": "execute_result",
          "data": {
            "text/plain": [
              "((295782, 115), (295782,))"
            ]
          },
          "metadata": {},
          "execution_count": 23
        }
      ]
    },
    {
      "cell_type": "code",
      "source": [
        "X_train_iso.shape, y_train_iso.shape"
      ],
      "metadata": {
        "colab": {
          "base_uri": "https://localhost:8080/"
        },
        "id": "G7Bl6LD25mtB",
        "outputId": "2c27512d-6a01-4883-ecb5-2fda5d5b80b4"
      },
      "execution_count": null,
      "outputs": [
        {
          "output_type": "execute_result",
          "data": {
            "text/plain": [
              "((266203, 115), (266203,))"
            ]
          },
          "metadata": {},
          "execution_count": 24
        }
      ]
    },
    {
      "cell_type": "code",
      "source": [
        "print(\"The number of classes after outlier removal {}\".format(Counter(y_train_iso)))"
      ],
      "metadata": {
        "colab": {
          "base_uri": "https://localhost:8080/"
        },
        "id": "9bZKAp8U8B4V",
        "outputId": "1134b6d6-31eb-4374-e5f8-edf5ac73c10e"
      },
      "execution_count": null,
      "outputs": [
        {
          "output_type": "stream",
          "name": "stdout",
          "text": [
            "The number of classes after outlier removal Counter({0: 177191, 1: 89012})\n"
          ]
        }
      ]
    },
    {
      "cell_type": "markdown",
      "source": [
        "# **Stacking**"
      ],
      "metadata": {
        "id": "OpFZ89G9b2Az"
      }
    },
    {
      "cell_type": "code",
      "source": [
        "# make a prediction with a stacking ensemble\n",
        "from sklearn.datasets import make_classification\n",
        "from sklearn.ensemble import StackingClassifier\n",
        "from sklearn.linear_model import LogisticRegression\n",
        "from sklearn.neighbors import KNeighborsClassifier\n",
        "from sklearn.tree import DecisionTreeClassifier\n",
        "from sklearn.ensemble import RandomForestClassifier\n",
        "from sklearn.svm import SVC\n",
        "from sklearn.naive_bayes import GaussianNB"
      ],
      "metadata": {
        "id": "irdCwpodb1Ek"
      },
      "execution_count": null,
      "outputs": []
    },
    {
      "cell_type": "markdown",
      "source": [
        "Trained without Outlier removal"
      ],
      "metadata": {
        "id": "gvCU2JUSKYpW"
      }
    },
    {
      "cell_type": "code",
      "source": [
        "# define the base models\n",
        "level0 = list()\n",
        "level0.append(('lr', LogisticRegression(C=100,penalty='l2', solver='liblinear')))\n",
        "level0.append(('cart', DecisionTreeClassifier(max_depth=7,criterion='entropy')))\n",
        "level0.append(('bayes', GaussianNB()))\n",
        "\n",
        "\n",
        "# define meta learner model\n",
        "level1 = LogisticRegression()\n",
        "\n",
        "# define the stacking ensemble\n",
        "model = StackingClassifier(estimators=level0, final_estimator=level1)\n",
        "# fit the model on all available data\n",
        "stack_2 = model.fit(X_train_mlos,y_train_mlos)\n",
        "\n",
        "prediction_stack=stack_2.predict(X_test_ml)\n",
        "\n",
        "# Measuring accuracy on Testing Data\n",
        "from sklearn import metrics\n",
        "print(metrics.classification_report(y_test_ml, prediction_stack))\n",
        "print(metrics.confusion_matrix(y_test_ml, prediction_stack))\n",
        "\n",
        "# Printing the Overall Accuracy of the model\n",
        "F1_Score=metrics.f1_score(y_test_ml, prediction_stack, average='weighted')\n",
        "print('Accuracy of the model on Testing Sample Data:', round(F1_Score,2))"
      ],
      "metadata": {
        "id": "C4SPUJr7jrCr",
        "colab": {
          "base_uri": "https://localhost:8080/"
        },
        "outputId": "6d12e0dd-1bfd-4e6d-904d-26f29e2576ab"
      },
      "execution_count": null,
      "outputs": [
        {
          "output_type": "stream",
          "name": "stdout",
          "text": [
            "              precision    recall  f1-score   support\n",
            "\n",
            "           0       0.94      0.90      0.92     84509\n",
            "           1       0.21      0.30      0.25      7437\n",
            "\n",
            "    accuracy                           0.85     91946\n",
            "   macro avg       0.57      0.60      0.58     91946\n",
            "weighted avg       0.88      0.85      0.86     91946\n",
            "\n",
            "[[75893  8616]\n",
            " [ 5169  2268]]\n",
            "Accuracy of the model on Testing Sample Data: 0.86\n"
          ]
        }
      ]
    },
    {
      "cell_type": "markdown",
      "source": [
        "decision tree as meta learener"
      ],
      "metadata": {
        "id": "A2_p_E47L-34"
      }
    },
    {
      "cell_type": "code",
      "source": [
        "# before Iso\n",
        "# define the base models\n",
        "level0 = list()\n",
        "level0.append(('lr', LogisticRegression(C=100,penalty='l2', solver='liblinear')))\n",
        "level0.append(('cart', DecisionTreeClassifier(max_depth=7,criterion='entropy')))\n",
        "level0.append(('bayes', GaussianNB()))\n",
        "\n",
        "\n",
        "# define meta learner model\n",
        "level1 = DecisionTreeClassifier()\n",
        "\n",
        "# define the stacking ensemble\n",
        "model = StackingClassifier(estimators=level0, final_estimator=level1)\n",
        "# fit the model on all available data\n",
        "stack_dt = model.fit(X_train_mlos,y_train_mlos)\n",
        "\n",
        "prediction_stack=stack_dt.predict(X_test_ml)\n",
        "\n",
        "# Measuring accuracy on Testing Data\n",
        "from sklearn import metrics\n",
        "print(metrics.classification_report(y_test_ml, prediction_stack))\n",
        "print(metrics.confusion_matrix(y_test_ml, prediction_stack))\n",
        "\n",
        "# Printing the Overall Accuracy of the model\n",
        "F1_Score=metrics.f1_score(y_test_ml, prediction_stack, average='weighted')\n",
        "print('Accuracy of the model on Testing Sample Data:', round(F1_Score,2))"
      ],
      "metadata": {
        "colab": {
          "base_uri": "https://localhost:8080/"
        },
        "id": "zlDplrBiMCaH",
        "outputId": "3450311d-3685-4fea-cc2d-e13e9b0fd948"
      },
      "execution_count": null,
      "outputs": [
        {
          "output_type": "stream",
          "name": "stdout",
          "text": [
            "              precision    recall  f1-score   support\n",
            "\n",
            "           0       0.93      0.77      0.84     84509\n",
            "           1       0.12      0.34      0.17      7437\n",
            "\n",
            "    accuracy                           0.74     91946\n",
            "   macro avg       0.52      0.56      0.51     91946\n",
            "weighted avg       0.86      0.74      0.79     91946\n",
            "\n",
            "[[65409 19100]\n",
            " [ 4937  2500]]\n",
            "Accuracy of the model on Testing Sample Data: 0.79\n"
          ]
        }
      ]
    },
    {
      "cell_type": "markdown",
      "source": [
        "Trained with Outlier removal"
      ],
      "metadata": {
        "id": "_aRoNnUvLC1N"
      }
    },
    {
      "cell_type": "code",
      "source": [
        "# After Iso\n",
        "# define the base models\n",
        "level0 = list()\n",
        "level0.append(('lr', LogisticRegression(C=100,penalty='l2', solver='liblinear')))\n",
        "level0.append(('cart', DecisionTreeClassifier(max_depth=7,criterion='entropy')))\n",
        "level0.append(('bayes', GaussianNB()))\n",
        "\n",
        "\n",
        "# define meta learner model\n",
        "level1 = LogisticRegression()\n",
        "\n",
        "# define the stacking ensemble\n",
        "model = StackingClassifier(estimators=level0, final_estimator=level1)\n",
        "# fit the model on all available data\n",
        "stack_2 = model.fit(X_train_iso,y_train_iso)\n",
        "\n",
        "prediction_stack=stack_2.predict(X_test_ml)\n",
        "\n",
        "# Measuring accuracy on Testing Data\n",
        "from sklearn import metrics\n",
        "print(metrics.classification_report(y_test_ml, prediction_stack))\n",
        "print(metrics.confusion_matrix(y_test_ml, prediction_stack))\n",
        "\n",
        "# Printing the Overall Accuracy of the model\n",
        "F1_Score=metrics.f1_score(y_test_ml, prediction_stack, average='weighted')\n",
        "print('Accuracy of the model on Testing Sample Data:', round(F1_Score,2))"
      ],
      "metadata": {
        "id": "OoX-Sc3DyeKv",
        "colab": {
          "base_uri": "https://localhost:8080/"
        },
        "outputId": "1980a686-2039-4fae-e3c9-7d2b0799f353"
      },
      "execution_count": null,
      "outputs": [
        {
          "output_type": "stream",
          "name": "stdout",
          "text": [
            "              precision    recall  f1-score   support\n",
            "\n",
            "           0       0.94      0.89      0.91     84509\n",
            "           1       0.21      0.32      0.25      7437\n",
            "\n",
            "    accuracy                           0.84     91946\n",
            "   macro avg       0.57      0.61      0.58     91946\n",
            "weighted avg       0.88      0.84      0.86     91946\n",
            "\n",
            "[[75245  9264]\n",
            " [ 5043  2394]]\n",
            "Accuracy of the model on Testing Sample Data: 0.86\n"
          ]
        }
      ]
    },
    {
      "cell_type": "markdown",
      "source": [
        "Trained without Outlier removal (BernoulliNB)"
      ],
      "metadata": {
        "id": "1AEN3NuSM2BX"
      }
    },
    {
      "cell_type": "code",
      "source": [
        "#before iso\n",
        "from sklearn.naive_bayes import BernoulliNB\n",
        "# define the base models\n",
        "level0 = list()\n",
        "level0.append(('lr', LogisticRegression(C=100,penalty='l2', solver='liblinear')))\n",
        "level0.append(('cart', DecisionTreeClassifier(max_depth=7,criterion='entropy')))\n",
        "level0.append(('bayes', BernoulliNB()))\n",
        "\n",
        "\n",
        "# define meta learner model\n",
        "level1 = LogisticRegression()\n",
        "\n",
        "# define the stacking ensemble\n",
        "model = StackingClassifier(estimators=level0, final_estimator=level1)\n",
        "# fit the model on all available data\n",
        "stack_2 = model.fit(X_train_mlos,y_train_mlos)\n",
        "\n",
        "prediction_stack=stack_2.predict(X_test_ml)\n",
        "\n",
        "# Measuring accuracy on Testing Data\n",
        "from sklearn import metrics\n",
        "print(metrics.classification_report(y_test_ml, prediction_stack))\n",
        "print(metrics.confusion_matrix(y_test_ml, prediction_stack))\n",
        "\n",
        "# Printing the Overall Accuracy of the model\n",
        "F1_Score=metrics.f1_score(y_test_ml, prediction_stack, average='weighted')\n",
        "print('Accuracy of the model on Testing Sample Data:', round(F1_Score,2))"
      ],
      "metadata": {
        "id": "FgKMpgk2vOXn",
        "colab": {
          "base_uri": "https://localhost:8080/"
        },
        "outputId": "6fe0811b-34d4-457b-b081-838749f52d06"
      },
      "execution_count": null,
      "outputs": [
        {
          "output_type": "stream",
          "name": "stdout",
          "text": [
            "              precision    recall  f1-score   support\n",
            "\n",
            "           0       0.94      0.90      0.92     84509\n",
            "           1       0.21      0.30      0.25      7437\n",
            "\n",
            "    accuracy                           0.85     91946\n",
            "   macro avg       0.57      0.60      0.58     91946\n",
            "weighted avg       0.88      0.85      0.86     91946\n",
            "\n",
            "[[75884  8625]\n",
            " [ 5173  2264]]\n",
            "Accuracy of the model on Testing Sample Data: 0.86\n"
          ]
        }
      ]
    },
    {
      "cell_type": "markdown",
      "source": [
        "Trained with Outlier removal (BernoulliNB)"
      ],
      "metadata": {
        "id": "sdSwPODyNDuJ"
      }
    },
    {
      "cell_type": "code",
      "source": [
        "#after iso\n",
        "from sklearn.naive_bayes import BernoulliNB\n",
        "# define the base models\n",
        "level0 = list()\n",
        "level0.append(('lr', LogisticRegression(C=100,penalty='l2', solver='liblinear')))\n",
        "level0.append(('cart', DecisionTreeClassifier(max_depth=7,criterion='entropy')))\n",
        "level0.append(('bayes', BernoulliNB()))\n",
        "\n",
        "\n",
        "# define meta learner model\n",
        "level1 = LogisticRegression()\n",
        "\n",
        "# define the stacking ensemble\n",
        "model = StackingClassifier(estimators=level0, final_estimator=level1)\n",
        "# fit the model on all available data\n",
        "stack_2 = model.fit(X_train_iso,y_train_iso)\n",
        "\n",
        "prediction_stack=stack_2.predict(X_test_ml)\n",
        "\n",
        "# Measuring accuracy on Testing Data\n",
        "from sklearn import metrics\n",
        "print(metrics.classification_report(y_test_ml, prediction_stack))\n",
        "print(metrics.confusion_matrix(y_test_ml, prediction_stack))\n",
        "\n",
        "# Printing the Overall Accuracy of the model\n",
        "F1_Score=metrics.f1_score(y_test_ml, prediction_stack, average='weighted')\n",
        "print('Accuracy of the model on Testing Sample Data:', round(F1_Score,2))"
      ],
      "metadata": {
        "id": "XbPLLCOMyxkq",
        "colab": {
          "base_uri": "https://localhost:8080/"
        },
        "outputId": "03a48b96-af74-4897-c73f-6c93c758348b"
      },
      "execution_count": null,
      "outputs": [
        {
          "output_type": "stream",
          "name": "stdout",
          "text": [
            "              precision    recall  f1-score   support\n",
            "\n",
            "           0       0.94      0.89      0.91     84509\n",
            "           1       0.21      0.32      0.25      7437\n",
            "\n",
            "    accuracy                           0.84     91946\n",
            "   macro avg       0.57      0.61      0.58     91946\n",
            "weighted avg       0.88      0.84      0.86     91946\n",
            "\n",
            "[[75260  9249]\n",
            " [ 5044  2393]]\n",
            "Accuracy of the model on Testing Sample Data: 0.86\n"
          ]
        }
      ]
    },
    {
      "cell_type": "markdown",
      "source": [
        ""
      ],
      "metadata": {
        "id": "nForGCWWO2hE"
      }
    }
  ],
  "metadata": {
    "colab": {
      "collapsed_sections": [
        "8OMWaDEGaiIW",
        "M5WKPrxa_Nze",
        "RlK_dHrvYUB8",
        "YzMntGYLaor4",
        "oShTo5X8BDQt",
        "LrdVdOmq3npj",
        "OpFZ89G9b2Az"
      ],
      "name": "Phase_6_StackingClassifier.ipynb",
      "provenance": []
    },
    "kernelspec": {
      "display_name": "Python 3",
      "name": "python3"
    },
    "language_info": {
      "name": "python"
    }
  },
  "nbformat": 4,
  "nbformat_minor": 0
}